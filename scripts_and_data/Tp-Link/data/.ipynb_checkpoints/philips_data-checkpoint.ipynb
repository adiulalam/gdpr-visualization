{
 "cells": [
  {
   "cell_type": "code",
   "execution_count": 1,
   "metadata": {},
   "outputs": [],
   "source": [
    "from bokeh.plotting import figure, output_file, show, save, ColumnDataSource\n",
    "from bokeh.models.tools import HoverTool\n",
    "from bokeh.transform import factor_cmap\n",
    "from bokeh.palettes import Blues8, Inferno10, Spectral11, Plasma10, PuOr9\n",
    "from bokeh.embed import components\n",
    "import pandas\n",
    "import pandas as pd"
   ]
  },
  {
   "cell_type": "code",
   "execution_count": 2,
   "metadata": {},
   "outputs": [],
   "source": [
    "df = pandas.read_csv('philips_data.csv')\n",
    "\n",
    "# Create ColumnDataSource from data frame\n",
    "source = ColumnDataSource(df)\n",
    "\n",
    "output_file('data.html')"
   ]
  },
  {
   "cell_type": "code",
   "execution_count": 3,
   "metadata": {},
   "outputs": [
    {
     "name": "stdout",
     "output_type": "stream",
     "text": [
      "\n",
      "<div class=\"bk-root\" id=\"628b3e14-c7b6-4392-acc2-bf3a2d9f6f6f\" data-root-id=\"1002\"></div>\n",
      "\n",
      "<script type=\"text/javascript\">\n",
      "    (function() {\n",
      "          var fn = function() {\n",
      "            Bokeh.safely(function() {\n",
      "              (function(root) {\n",
      "                function embed_document(root) {\n",
      "                  \n",
      "                var docs_json = '{\"2b2dd673-f73e-4948-9172-99bd723e53ea\":{\"roots\":{\"references\":[{\"attributes\":{},\"id\":\"1009\",\"type\":\"LinearScale\"},{\"attributes\":{},\"id\":\"1043\",\"type\":\"BasicTickFormatter\"},{\"attributes\":{\"data\":{\"Data\":[\"Amazon Account\",\"Amazon Software\",\"Amazon Fire Stick\",\"Profile\",\"Amazon Prime Apps\"],\"Image\":[\"image/amazon_account.png\",\"image/amazon_software.png\",\"image/amazon_assistant.png\",\"image/amazon_profile.png\",\"image/amazon_prime.png\"],\"Number\":[4,3,6,2,5],\"Type\":[\"Personal Information, Payment Information, Delivery Details, Contents of Reviews\",\"Data on Searching for Products or Services, Data on Placing an order, Data on Submitting a Review or Compiling a Wishlist\",\"User Information, Device Information, Watch History, Application Data, Device Privacy Settings, Streaming History\",\"Personal Description, Photograph of Profile\",\"Data on Downloading, Data on Streaming, Data on Viewing, Data on Using Digital Content on a device, Data on Through an App\"],\"index\":[0,1,2,3,4]},\"selected\":{\"id\":\"1048\"},\"selection_policy\":{\"id\":\"1049\"}},\"id\":\"1001\",\"type\":\"ColumnDataSource\"},{\"attributes\":{\"axis_label\":\"Number of Data\",\"formatter\":{\"id\":\"1043\"},\"ticker\":{\"id\":\"1014\"}},\"id\":\"1013\",\"type\":\"LinearAxis\"},{\"attributes\":{\"bottom_units\":\"screen\",\"fill_alpha\":0.5,\"fill_color\":\"lightgrey\",\"left_units\":\"screen\",\"level\":\"overlay\",\"line_alpha\":1.0,\"line_color\":\"black\",\"line_dash\":[4,4],\"line_width\":2,\"right_units\":\"screen\",\"top_units\":\"screen\"},\"id\":\"1026\",\"type\":\"BoxAnnotation\"},{\"attributes\":{\"factors\":[\"Amazon Account\",\"Amazon Software\",\"Amazon Fire Stick\",\"Profile\",\"Amazon Prime Apps\"]},\"id\":\"1007\",\"type\":\"FactorRange\"},{\"attributes\":{},\"id\":\"1045\",\"type\":\"CategoricalTickFormatter\"},{\"attributes\":{},\"id\":\"1014\",\"type\":\"BasicTicker\"},{\"attributes\":{\"axis\":{\"id\":\"1013\"},\"ticker\":null},\"id\":\"1016\",\"type\":\"Grid\"},{\"attributes\":{},\"id\":\"1023\",\"type\":\"ZoomOutTool\"},{\"attributes\":{},\"id\":\"1048\",\"type\":\"Selection\"},{\"attributes\":{},\"id\":\"1049\",\"type\":\"UnionRenderers\"},{\"attributes\":{\"formatter\":{\"id\":\"1045\"},\"ticker\":{\"id\":\"1018\"}},\"id\":\"1017\",\"type\":\"CategoricalAxis\"},{\"attributes\":{\"axis\":{\"id\":\"1017\"},\"dimension\":1,\"ticker\":null},\"id\":\"1019\",\"type\":\"Grid\"},{\"attributes\":{\"below\":[{\"id\":\"1013\"}],\"center\":[{\"id\":\"1016\"},{\"id\":\"1019\"}],\"left\":[{\"id\":\"1017\"}],\"plot_height\":500,\"plot_width\":950,\"renderers\":[{\"id\":\"1038\"}],\"title\":{\"id\":\"1003\"},\"toolbar\":{\"id\":\"1027\"},\"x_range\":{\"id\":\"1005\"},\"x_scale\":{\"id\":\"1009\"},\"y_range\":{\"id\":\"1007\"},\"y_scale\":{\"id\":\"1011\"}},\"id\":\"1002\",\"subtype\":\"Figure\",\"type\":\"Plot\"},{\"attributes\":{},\"id\":\"1018\",\"type\":\"CategoricalTicker\"},{\"attributes\":{\"callback\":null,\"tooltips\":\"\\\\n  &lt;div&gt;\\\\n    &lt;h3&gt;@Data&lt;/h3&gt;\\\\n    &lt;div&gt;&lt;strong&gt;Types of Data: &lt;/strong&gt;@Type&lt;/div&gt;\\\\n    &lt;div&gt;&lt;strong&gt;Number of Data: &lt;/strong&gt;@Number&lt;/div&gt;\\\\n    &lt;div&gt;&lt;img src=\\\\\"@Image\\\\\" alt=\\\\\"\\\\\" width=\\\\\"100\\\\\" /&gt;&lt;/div&gt;\\\\n  &lt;/div&gt;\\\\n\"},\"id\":\"1040\",\"type\":\"HoverTool\"},{\"attributes\":{\"active_drag\":\"auto\",\"active_inspect\":\"auto\",\"active_multi\":null,\"active_scroll\":\"auto\",\"active_tap\":\"auto\",\"tools\":[{\"id\":\"1020\"},{\"id\":\"1021\"},{\"id\":\"1022\"},{\"id\":\"1023\"},{\"id\":\"1024\"},{\"id\":\"1025\"},{\"id\":\"1040\"}]},\"id\":\"1027\",\"type\":\"Toolbar\"},{\"attributes\":{\"fill_alpha\":{\"value\":0.9},\"fill_color\":{\"field\":\"Data\",\"transform\":{\"id\":\"1034\"}},\"height\":{\"value\":0.4},\"line_color\":{\"value\":\"#1f77b4\"},\"right\":{\"field\":\"Number\"},\"y\":{\"field\":\"Data\"}},\"id\":\"1036\",\"type\":\"HBar\"},{\"attributes\":{\"overlay\":{\"id\":\"1026\"}},\"id\":\"1021\",\"type\":\"BoxSelectTool\"},{\"attributes\":{\"fill_alpha\":{\"value\":0.1},\"fill_color\":{\"field\":\"Data\",\"transform\":{\"id\":\"1034\"}},\"height\":{\"value\":0.4},\"line_alpha\":{\"value\":0.1},\"line_color\":{\"value\":\"#1f77b4\"},\"right\":{\"field\":\"Number\"},\"y\":{\"field\":\"Data\"}},\"id\":\"1037\",\"type\":\"HBar\"},{\"attributes\":{},\"id\":\"1020\",\"type\":\"PanTool\"},{\"attributes\":{},\"id\":\"1011\",\"type\":\"CategoricalScale\"},{\"attributes\":{},\"id\":\"1022\",\"type\":\"ZoomInTool\"},{\"attributes\":{\"factors\":[\"Amazon Account\",\"Amazon Software\",\"Amazon Fire Stick\",\"Profile\",\"Amazon Prime Apps\"],\"palette\":[\"#0C0786\",\"#45039E\",\"#7200A8\",\"#9B179E\",\"#BC3685\",\"#D7566C\",\"#EC7853\",\"#FA9D3A\",\"#FCC726\",\"#EFF821\"]},\"id\":\"1034\",\"type\":\"CategoricalColorMapper\"},{\"attributes\":{\"text\":\"Data Collected By Amazon and Amazon Fire Stick\"},\"id\":\"1003\",\"type\":\"Title\"},{\"attributes\":{},\"id\":\"1024\",\"type\":\"SaveTool\"},{\"attributes\":{},\"id\":\"1025\",\"type\":\"ResetTool\"},{\"attributes\":{\"source\":{\"id\":\"1001\"}},\"id\":\"1039\",\"type\":\"CDSView\"},{\"attributes\":{\"data_source\":{\"id\":\"1001\"},\"glyph\":{\"id\":\"1036\"},\"hover_glyph\":null,\"muted_glyph\":null,\"nonselection_glyph\":{\"id\":\"1037\"},\"selection_glyph\":null,\"view\":{\"id\":\"1039\"}},\"id\":\"1038\",\"type\":\"GlyphRenderer\"},{\"attributes\":{},\"id\":\"1005\",\"type\":\"DataRange1d\"}],\"root_ids\":[\"1002\"]},\"title\":\"Bokeh Application\",\"version\":\"2.2.3\"}}';\n",
      "                var render_items = [{\"docid\":\"2b2dd673-f73e-4948-9172-99bd723e53ea\",\"root_ids\":[\"1002\"],\"roots\":{\"1002\":\"628b3e14-c7b6-4392-acc2-bf3a2d9f6f6f\"}}];\n",
      "                root.Bokeh.embed.embed_items(docs_json, render_items);\n",
      "              \n",
      "                }\n",
      "                if (root.Bokeh !== undefined) {\n",
      "                  embed_document(root);\n",
      "                } else {\n",
      "                  var attempts = 0;\n",
      "                  var timer = setInterval(function(root) {\n",
      "                    if (root.Bokeh !== undefined) {\n",
      "                      clearInterval(timer);\n",
      "                      embed_document(root);\n",
      "                    } else {\n",
      "                      attempts++;\n",
      "                      if (attempts > 100) {\n",
      "                        clearInterval(timer);\n",
      "                        console.log(\"Bokeh: ERROR: Unable to run BokehJS code because BokehJS library is missing\");\n",
      "                      }\n",
      "                    }\n",
      "                  }, 10, root)\n",
      "                }\n",
      "              })(window);\n",
      "            });\n",
      "          };\n",
      "          if (document.readyState != \"loading\") fn();\n",
      "          else document.addEventListener(\"DOMContentLoaded\", fn);\n",
      "        })();\n",
      "</script>\n"
     ]
    }
   ],
   "source": [
    "# Data list\n",
    "Data_list = source.data['Data'].tolist()\n",
    "\n",
    "\n",
    "# Add plot\n",
    "p = figure(\n",
    "    y_range=Data_list,\n",
    "    plot_width=950,\n",
    "    plot_height=500,\n",
    "    title='Data Collected By Philips and Phlilips Hue Bulb',\n",
    "    x_axis_label='Number of Data',\n",
    "    tools=\"pan,box_select,zoom_in,zoom_out,save,reset\"\n",
    ")\n",
    "\n",
    "# Render glyph\n",
    "p.hbar(\n",
    "    y='Data',\n",
    "    right='Number',\n",
    "    left=0,\n",
    "    height=0.4,\n",
    "    fill_color=factor_cmap(\n",
    "      'Data',\n",
    "      palette=PuOr9,\n",
    "      factors=Data_list\n",
    "    ),\n",
    "    fill_alpha=0.9,\n",
    "    source=source,\n",
    ")\n",
    "\n",
    "\n",
    "# Add Tooltips\n",
    "hover = HoverTool()\n",
    "hover.tooltips = \"\"\"\n",
    "  <div>\n",
    "    <h3>@Data</h3>\n",
    "    <div><strong>Types of Data: </strong>@Type</div>\n",
    "    <div><strong>Number of Data: </strong>@Number</div>\n",
    "    <div><img src=\"@Image\" alt=\"\" width=\"100\" /></div>\n",
    "  </div>\n",
    "\"\"\"\n",
    "p.add_tools(hover)\n",
    "\n",
    "# Show results\n",
    "show(p)\n",
    "\n",
    "# Save file\n",
    "save(p)\n",
    "\n",
    "# Print out div and script\n",
    "script, div = components(p)\n",
    "print(div)\n",
    "print(script)"
   ]
  },
  {
   "cell_type": "code",
   "execution_count": null,
   "metadata": {},
   "outputs": [],
   "source": []
  },
  {
   "cell_type": "code",
   "execution_count": null,
   "metadata": {},
   "outputs": [],
   "source": []
  }
 ],
 "metadata": {
  "kernelspec": {
   "display_name": "Python 3",
   "language": "python",
   "name": "python3"
  },
  "language_info": {
   "codemirror_mode": {
    "name": "ipython",
    "version": 3
   },
   "file_extension": ".py",
   "mimetype": "text/x-python",
   "name": "python",
   "nbconvert_exporter": "python",
   "pygments_lexer": "ipython3",
   "version": "3.8.5"
  }
 },
 "nbformat": 4,
 "nbformat_minor": 4
}
