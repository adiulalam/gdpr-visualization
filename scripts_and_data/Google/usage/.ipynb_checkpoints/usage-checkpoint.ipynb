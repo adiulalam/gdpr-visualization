{
 "cells": [
  {
   "cell_type": "code",
   "execution_count": 1,
   "metadata": {},
   "outputs": [],
   "source": [
    "\"\"\" [1] \"\"\"\n",
    "import matplotlib.pyplot as plt\n",
    "import pandas as pd\n",
    "import numpy as np\n",
    "from bokeh.plotting import figure, output_file, show, save, ColumnDataSource\n",
    "from bokeh.models.tools import HoverTool\n",
    "from bokeh.embed import components"
   ]
  },
  {
   "cell_type": "code",
   "execution_count": 14,
   "metadata": {},
   "outputs": [
    {
     "name": "stdout",
     "output_type": "stream",
     "text": [
      "\n",
      "<div class=\"bk-root\" id=\"fde25c86-683f-469e-afbd-d077d0d7832f\" data-root-id=\"5072\"></div>\n",
      "\n",
      "<script type=\"text/javascript\">\n",
      "    (function() {\n",
      "          var fn = function() {\n",
      "            Bokeh.safely(function() {\n",
      "              (function(root) {\n",
      "                function embed_document(root) {\n",
      "                  \n",
      "                var docs_json = '{\"aaf08f60-4902-414b-bb51-7aba34384f1e\":{\"roots\":{\"references\":[{\"attributes\":{\"line_color\":\"blue\",\"line_width\":2,\"x\":{\"field\":\"Date\"},\"y\":{\"field\":\"Google\"}},\"id\":\"5133\",\"type\":\"Line\"},{\"attributes\":{},\"id\":\"5079\",\"type\":\"LinearScale\"},{\"attributes\":{\"source\":{\"id\":\"5071\"}},\"id\":\"5108\",\"type\":\"CDSView\"},{\"attributes\":{\"line_alpha\":0.1,\"line_color\":\"red\",\"line_width\":2,\"x\":{\"field\":\"Date\"},\"y\":{\"field\":\"Amazon\"}},\"id\":\"5106\",\"type\":\"Line\"},{\"attributes\":{\"axis_label\":\"Date\",\"formatter\":{\"id\":\"5113\"},\"ticker\":{\"id\":\"5082\"}},\"id\":\"5081\",\"type\":\"DatetimeAxis\"},{\"attributes\":{\"axis\":{\"id\":\"5085\"},\"dimension\":1,\"ticker\":null},\"id\":\"5088\",\"type\":\"Grid\"},{\"attributes\":{\"text\":\"Number of Interaction per Day with Smart Home Assistant\"},\"id\":\"5103\",\"type\":\"Title\"},{\"attributes\":{},\"id\":\"5111\",\"type\":\"BasicTickFormatter\"},{\"attributes\":{\"label\":{\"value\":\"Amazon Echo Dot\"},\"renderers\":[{\"id\":\"5107\"}]},\"id\":\"5131\",\"type\":\"LegendItem\"},{\"attributes\":{},\"id\":\"5129\",\"type\":\"YearsTicker\"},{\"attributes\":{},\"id\":\"5089\",\"type\":\"PanTool\"},{\"attributes\":{},\"id\":\"5116\",\"type\":\"UnionRenderers\"},{\"attributes\":{\"months\":[0,4,8]},\"id\":\"5127\",\"type\":\"MonthsTicker\"},{\"attributes\":{\"active_drag\":\"auto\",\"active_inspect\":\"auto\",\"active_multi\":null,\"active_scroll\":\"auto\",\"active_tap\":\"auto\",\"tools\":[{\"id\":\"5089\"},{\"id\":\"5090\"},{\"id\":\"5091\"},{\"id\":\"5092\"},{\"id\":\"5093\"},{\"id\":\"5094\"},{\"id\":\"5159\"}]},\"id\":\"5096\",\"type\":\"Toolbar\"},{\"attributes\":{},\"id\":\"5073\",\"type\":\"DataRange1d\"},{\"attributes\":{\"label\":{\"value\":\"Google Home Mini\"},\"renderers\":[{\"id\":\"5135\"}]},\"id\":\"5158\",\"type\":\"LegendItem\"},{\"attributes\":{},\"id\":\"5086\",\"type\":\"BasicTicker\"},{\"attributes\":{\"days\":[1,15]},\"id\":\"5124\",\"type\":\"DaysTicker\"},{\"attributes\":{\"below\":[{\"id\":\"5081\"}],\"center\":[{\"id\":\"5084\"},{\"id\":\"5088\"},{\"id\":\"5130\"}],\"left\":[{\"id\":\"5085\"}],\"plot_height\":500,\"plot_width\":950,\"renderers\":[{\"id\":\"5107\"},{\"id\":\"5135\"}],\"title\":{\"id\":\"5103\"},\"toolbar\":{\"id\":\"5096\"},\"x_range\":{\"id\":\"5073\"},\"x_scale\":{\"id\":\"5077\"},\"y_range\":{\"id\":\"5075\"},\"y_scale\":{\"id\":\"5079\"}},\"id\":\"5072\",\"subtype\":\"Figure\",\"type\":\"Plot\"},{\"attributes\":{\"base\":60,\"mantissas\":[1,2,5,10,15,20,30],\"max_interval\":1800000.0,\"min_interval\":1000.0,\"num_minor_ticks\":0},\"id\":\"5119\",\"type\":\"AdaptiveTicker\"},{\"attributes\":{\"mantissas\":[1,2,5],\"max_interval\":500.0,\"num_minor_ticks\":0},\"id\":\"5118\",\"type\":\"AdaptiveTicker\"},{\"attributes\":{\"axis\":{\"id\":\"5081\"},\"ticker\":null},\"id\":\"5084\",\"type\":\"Grid\"},{\"attributes\":{\"line_color\":\"red\",\"line_width\":2,\"x\":{\"field\":\"Date\"},\"y\":{\"field\":\"Amazon\"}},\"id\":\"5105\",\"type\":\"Line\"},{\"attributes\":{},\"id\":\"5113\",\"type\":\"DatetimeTickFormatter\"},{\"attributes\":{\"days\":[1,2,3,4,5,6,7,8,9,10,11,12,13,14,15,16,17,18,19,20,21,22,23,24,25,26,27,28,29,30,31]},\"id\":\"5121\",\"type\":\"DaysTicker\"},{\"attributes\":{\"days\":[1,4,7,10,13,16,19,22,25,28]},\"id\":\"5122\",\"type\":\"DaysTicker\"},{\"attributes\":{\"months\":[0,2,4,6,8,10]},\"id\":\"5126\",\"type\":\"MonthsTicker\"},{\"attributes\":{\"data_source\":{\"id\":\"5071\"},\"glyph\":{\"id\":\"5105\"},\"hover_glyph\":null,\"muted_glyph\":null,\"nonselection_glyph\":{\"id\":\"5106\"},\"selection_glyph\":null,\"view\":{\"id\":\"5108\"}},\"id\":\"5107\",\"type\":\"GlyphRenderer\"},{\"attributes\":{\"axis_label\":\"Number of Interaction\",\"formatter\":{\"id\":\"5111\"},\"ticker\":{\"id\":\"5086\"}},\"id\":\"5085\",\"type\":\"LinearAxis\"},{\"attributes\":{\"data_source\":{\"id\":\"5071\"},\"glyph\":{\"id\":\"5133\"},\"hover_glyph\":null,\"muted_glyph\":null,\"nonselection_glyph\":{\"id\":\"5134\"},\"selection_glyph\":null,\"view\":{\"id\":\"5136\"}},\"id\":\"5135\",\"type\":\"GlyphRenderer\"},{\"attributes\":{},\"id\":\"5092\",\"type\":\"SaveTool\"},{\"attributes\":{\"months\":[0,1,2,3,4,5,6,7,8,9,10,11]},\"id\":\"5125\",\"type\":\"MonthsTicker\"},{\"attributes\":{\"line_alpha\":0.1,\"line_color\":\"blue\",\"line_width\":2,\"x\":{\"field\":\"Date\"},\"y\":{\"field\":\"Google\"}},\"id\":\"5134\",\"type\":\"Line\"},{\"attributes\":{},\"id\":\"5077\",\"type\":\"LinearScale\"},{\"attributes\":{\"callback\":null,\"formatters\":{\"@Date\":\"datetime\"},\"tooltips\":\"\\\\n  &lt;div&gt;\\\\n    &lt;h3&gt;&lt;strong&gt;Date: &lt;/strong&gt;@Date{%F}&lt;/h3&gt;\\\\n    &lt;div&gt;&lt;mark style =\\\\\" background-color: tomato\\\\\"&gt;&lt;strong&gt;Amazon Echo Dot: &lt;/strong&gt;@Amazon&lt;/mark&gt;&lt;/div&gt;\\\\n    &lt;div&gt;&lt;mark style =\\\\\" background-color: lightblue\\\\\"&gt;&lt;strong&gt;Google Home Mini: &lt;/strong&gt;@Google&lt;/mark&gt;&lt;/div&gt;\\\\n  &lt;/div&gt;\\\\n\"},\"id\":\"5159\",\"type\":\"HoverTool\"},{\"attributes\":{\"source\":{\"id\":\"5071\"}},\"id\":\"5136\",\"type\":\"CDSView\"},{\"attributes\":{\"data\":{\"Amazon\":[3,0,4,2,6,1,2,1,3,5,2,3,3,1,2,0,2,4,1,3,5,2,2,1,1,2,1,0,2,6,0],\"Date\":{\"__ndarray__\":\"AABAWrF+d0IAAADAA393QgAAwCVWf3dCAACAi6h/d0IAAEDx+n93QgAAAFdNgHdCAADAvJ+Ad0IAAIAi8oB3QgAAQIhEgXdCAAAA7paBd0IAAMBT6YF3QgAAgLk7gndCAABAH46Cd0IAAACF4IJ3QgAAwOoyg3dCAACAUIWDd0IAAEC214N3QgAAABwqhHdCAADAgXyEd0IAAIDnzoR3QgAAQE0hhXdCAAAAs3OFd0IAAMAYxoV3QgAAgH4YhndCAABA5GqGd0IAAABKvYZ3QgAAwK8Ph3dCAACAFWKHd0IAAEB7tId3QgAAAOEGiHdCAADARlmId0I=\",\"dtype\":\"float64\",\"order\":\"little\",\"shape\":[31]},\"Google\":[4,0,1,4,2,3,3,4,2,1,0,4,2,0,3,5,0,1,2,2,4,5,3,1,4,4,1,5,2,2,3]},\"selected\":{\"id\":\"5117\"},\"selection_policy\":{\"id\":\"5116\"}},\"id\":\"5071\",\"type\":\"ColumnDataSource\"},{\"attributes\":{\"num_minor_ticks\":5,\"tickers\":[{\"id\":\"5118\"},{\"id\":\"5119\"},{\"id\":\"5120\"},{\"id\":\"5121\"},{\"id\":\"5122\"},{\"id\":\"5123\"},{\"id\":\"5124\"},{\"id\":\"5125\"},{\"id\":\"5126\"},{\"id\":\"5127\"},{\"id\":\"5128\"},{\"id\":\"5129\"}]},\"id\":\"5082\",\"type\":\"DatetimeTicker\"},{\"attributes\":{},\"id\":\"5093\",\"type\":\"ResetTool\"},{\"attributes\":{\"days\":[1,8,15,22]},\"id\":\"5123\",\"type\":\"DaysTicker\"},{\"attributes\":{},\"id\":\"5117\",\"type\":\"Selection\"},{\"attributes\":{\"base\":24,\"mantissas\":[1,2,4,6,8,12],\"max_interval\":43200000.0,\"min_interval\":3600000.0,\"num_minor_ticks\":0},\"id\":\"5120\",\"type\":\"AdaptiveTicker\"},{\"attributes\":{},\"id\":\"5075\",\"type\":\"DataRange1d\"},{\"attributes\":{},\"id\":\"5094\",\"type\":\"HelpTool\"},{\"attributes\":{\"bottom_units\":\"screen\",\"fill_alpha\":0.5,\"fill_color\":\"lightgrey\",\"left_units\":\"screen\",\"level\":\"overlay\",\"line_alpha\":1.0,\"line_color\":\"black\",\"line_dash\":[4,4],\"line_width\":2,\"right_units\":\"screen\",\"top_units\":\"screen\"},\"id\":\"5095\",\"type\":\"BoxAnnotation\"},{\"attributes\":{\"months\":[0,6]},\"id\":\"5128\",\"type\":\"MonthsTicker\"},{\"attributes\":{\"items\":[{\"id\":\"5131\"},{\"id\":\"5158\"}]},\"id\":\"5130\",\"type\":\"Legend\"},{\"attributes\":{},\"id\":\"5090\",\"type\":\"WheelZoomTool\"},{\"attributes\":{\"overlay\":{\"id\":\"5095\"}},\"id\":\"5091\",\"type\":\"BoxZoomTool\"}],\"root_ids\":[\"5072\"]},\"title\":\"Bokeh Application\",\"version\":\"2.2.3\"}}';\n",
      "                var render_items = [{\"docid\":\"aaf08f60-4902-414b-bb51-7aba34384f1e\",\"root_ids\":[\"5072\"],\"roots\":{\"5072\":\"fde25c86-683f-469e-afbd-d077d0d7832f\"}}];\n",
      "                root.Bokeh.embed.embed_items(docs_json, render_items);\n",
      "              \n",
      "                }\n",
      "                if (root.Bokeh !== undefined) {\n",
      "                  embed_document(root);\n",
      "                } else {\n",
      "                  var attempts = 0;\n",
      "                  var timer = setInterval(function(root) {\n",
      "                    if (root.Bokeh !== undefined) {\n",
      "                      clearInterval(timer);\n",
      "                      embed_document(root);\n",
      "                    } else {\n",
      "                      attempts++;\n",
      "                      if (attempts > 100) {\n",
      "                        clearInterval(timer);\n",
      "                        console.log(\"Bokeh: ERROR: Unable to run BokehJS code because BokehJS library is missing\");\n",
      "                      }\n",
      "                    }\n",
      "                  }, 10, root)\n",
      "                }\n",
      "              })(window);\n",
      "            });\n",
      "          };\n",
      "          if (document.readyState != \"loading\") fn();\n",
      "          else document.addEventListener(\"DOMContentLoaded\", fn);\n",
      "        })();\n",
      "</script>\n"
     ]
    }
   ],
   "source": [
    "\n",
    "data = pd.read_csv('usage.csv', index_col=0)\n",
    "\n",
    "\n",
    "data.index = pd.to_datetime(data.index, format='%d/%m/%Y')\n",
    "\n",
    "\n",
    "source = ColumnDataSource(data)\n",
    "\n",
    "\n",
    "output_file('usage.html', title='Usage')\n",
    "\n",
    "p = figure(x_axis_type='datetime',plot_width=950, plot_height=500, tools=\"pan,box_select,wheel_zoom,zoom_in,zoom_out,save,reset\")\n",
    "\n",
    "p.title.text = \"Number of Interaction per Day with Smart Home Assistant\"\n",
    "p.line(x='Date', y='Amazon', line_width=2, source=source, color = \"red\", legend_label='Amazon Echo Dot')\n",
    "p.line(x='Date', y='Google', line_width=2, source=source, color = \"blue\", legend_label='Google Home Mini')\n",
    "\n",
    "p.xaxis.axis_label = 'Date'\n",
    "p.yaxis.axis_label = 'Number of Interaction'\n",
    "\n",
    "\n",
    "# Add Tooltips\n",
    "hover = HoverTool()\n",
    "hover.tooltips = \"\"\"\n",
    "  <div>\n",
    "    <h3><strong>Date: </strong>@Date{%F}</h3>\n",
    "    <div><mark style =\" background-color: tomato\"><strong>Amazon Echo Dot: </strong>@Amazon</mark></div>\n",
    "    <div><mark style =\" background-color: lightblue\"><strong>Google Home Mini: </strong>@Google</mark></div>\n",
    "  </div>\n",
    "\"\"\"\n",
    "\n",
    "hover.formatters ={'@Date':'datetime'}\n",
    "\n",
    "p.add_tools(hover)\n",
    "\n",
    "# Show results\n",
    "show(p)\n",
    "\n",
    "# Save file\n",
    "save(p)\n",
    "\n",
    "# Print out div and script\n",
    "script, div = components(p)\n",
    "print(div)\n",
    "print(script)\n",
    "\n"
   ]
  },
  {
   "cell_type": "code",
   "execution_count": null,
   "metadata": {},
   "outputs": [],
   "source": []
  },
  {
   "cell_type": "code",
   "execution_count": null,
   "metadata": {},
   "outputs": [],
   "source": []
  }
 ],
 "metadata": {
  "kernelspec": {
   "display_name": "Python 3",
   "language": "python",
   "name": "python3"
  },
  "language_info": {
   "codemirror_mode": {
    "name": "ipython",
    "version": 3
   },
   "file_extension": ".py",
   "mimetype": "text/x-python",
   "name": "python",
   "nbconvert_exporter": "python",
   "pygments_lexer": "ipython3",
   "version": "3.8.5"
  }
 },
 "nbformat": 4,
 "nbformat_minor": 4
}
