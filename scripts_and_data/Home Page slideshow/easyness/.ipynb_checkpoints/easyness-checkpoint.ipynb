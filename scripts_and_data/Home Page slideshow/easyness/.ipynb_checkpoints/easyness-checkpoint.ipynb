{
 "cells": [
  {
   "cell_type": "code",
   "execution_count": 1,
   "metadata": {},
   "outputs": [],
   "source": [
    "from bokeh.io import output_file, show, output_notebook, reset_output\n",
    "from bokeh.plotting import figure, output_file, show, save, ColumnDataSource\n",
    "from bokeh.models.tools import HoverTool\n",
    "from bokeh.models import FactorRange\n",
    "from bokeh.plotting import figure\n",
    "import numpy as np\n",
    "import pandas as pd\n",
    "import pandas\n",
    "from bokeh.core.properties import value\n",
    "from bokeh.transform import dodge\n",
    "from bokeh.embed import components\n"
   ]
  },
  {
   "cell_type": "code",
   "execution_count": 10,
   "metadata": {},
   "outputs": [
    {
     "name": "stdout",
     "output_type": "stream",
     "text": [
      "\n",
      "<div class=\"bk-root\" id=\"8a0e8898-fbe7-426e-b7bd-17a1d883063a\" data-root-id=\"3461\"></div>\n",
      "\n",
      "<script type=\"text/javascript\">\n",
      "    (function() {\n",
      "          var fn = function() {\n",
      "            Bokeh.safely(function() {\n",
      "              (function(root) {\n",
      "                function embed_document(root) {\n",
      "                  \n",
      "                var docs_json = '{\"cd87be83-a6ca-4a17-b3ee-f3bb6821cd77\":{\"roots\":{\"references\":[{\"attributes\":{},\"id\":\"3483\",\"type\":\"SaveTool\"},{\"attributes\":{\"source\":{\"id\":\"3495\"}},\"id\":\"3500\",\"type\":\"CDSView\"},{\"attributes\":{\"fill_color\":{\"value\":\"green\"},\"line_color\":{\"value\":\"green\"},\"top\":{\"field\":\"Software\"},\"width\":{\"value\":0.2},\"x\":{\"field\":\"Device\",\"transform\":{\"id\":\"3494\"}}},\"id\":\"3513\",\"type\":\"VBar\"},{\"attributes\":{\"active_drag\":\"auto\",\"active_inspect\":\"auto\",\"active_multi\":null,\"active_scroll\":\"auto\",\"active_tap\":\"auto\",\"tools\":[{\"id\":\"3479\"},{\"id\":\"3480\"},{\"id\":\"3481\"},{\"id\":\"3482\"},{\"id\":\"3483\"},{\"id\":\"3484\"},{\"id\":\"3528\"}]},\"id\":\"3486\",\"type\":\"Toolbar\"},{\"attributes\":{\"fill_alpha\":{\"value\":0.1},\"fill_color\":{\"value\":\"blue\"},\"line_alpha\":{\"value\":0.1},\"line_color\":{\"value\":\"blue\"},\"top\":{\"field\":\"Hardware\"},\"width\":{\"value\":0.2},\"x\":{\"field\":\"Device\",\"transform\":{\"id\":\"3493\"}}},\"id\":\"3498\",\"type\":\"VBar\"},{\"attributes\":{\"label\":{\"value\":\"Hardware\"},\"renderers\":[{\"id\":\"3499\"}]},\"id\":\"3510\",\"type\":\"LegendItem\"},{\"attributes\":{\"axis_label\":\"Score (out of 10)\",\"formatter\":{\"id\":\"3503\"},\"ticker\":{\"id\":\"3476\"}},\"id\":\"3475\",\"type\":\"LinearAxis\"},{\"attributes\":{\"callback\":null,\"tooltips\":\"\\\\n  &lt;div&gt;\\\\n    &lt;h3&gt;@Device&lt;/h3&gt;\\\\n    &lt;div&gt;&lt;mark style =\\\\\" background-color: lightblue\\\\\"&gt;&lt;strong&gt;Hardware: &lt;/strong&gt;@Hardware&lt;/mark&gt;&lt;/div&gt;\\\\n    &lt;div&gt;&lt;mark style =\\\\\" background-color: lightgreen\\\\\"&gt;&lt;strong&gt;Software: &lt;/strong&gt;@Software&lt;/mark&gt;&lt;/div&gt;\\\\n    &lt;div&gt;&lt;img src=\\\\\"@Image\\\\\" alt=\\\\\"\\\\\" width=\\\\\"100\\\\\" /&gt;&lt;/div&gt;\\\\n  &lt;/div&gt;\\\\n\"},\"id\":\"3528\",\"type\":\"HoverTool\"},{\"attributes\":{\"items\":[{\"id\":\"3510\"},{\"id\":\"3527\"}],\"location\":\"top_left\",\"orientation\":\"horizontal\"},\"id\":\"3509\",\"type\":\"Legend\"},{\"attributes\":{},\"id\":\"3481\",\"type\":\"ZoomInTool\"},{\"attributes\":{\"source\":{\"id\":\"3511\"}},\"id\":\"3516\",\"type\":\"CDSView\"},{\"attributes\":{},\"id\":\"3479\",\"type\":\"PanTool\"},{\"attributes\":{\"axis\":{\"id\":\"3475\"},\"dimension\":1,\"ticker\":null},\"id\":\"3478\",\"type\":\"Grid\"},{\"attributes\":{\"data_source\":{\"id\":\"3495\"},\"glyph\":{\"id\":\"3497\"},\"hover_glyph\":null,\"muted_glyph\":null,\"nonselection_glyph\":{\"id\":\"3498\"},\"selection_glyph\":null,\"view\":{\"id\":\"3500\"}},\"id\":\"3499\",\"type\":\"GlyphRenderer\"},{\"attributes\":{},\"id\":\"3482\",\"type\":\"ZoomOutTool\"},{\"attributes\":{\"overlay\":{\"id\":\"3485\"}},\"id\":\"3480\",\"type\":\"BoxSelectTool\"},{\"attributes\":{\"bottom_units\":\"screen\",\"fill_alpha\":0.5,\"fill_color\":\"lightgrey\",\"left_units\":\"screen\",\"level\":\"overlay\",\"line_alpha\":1.0,\"line_color\":\"black\",\"line_dash\":[4,4],\"line_width\":2,\"right_units\":\"screen\",\"top_units\":\"screen\"},\"id\":\"3485\",\"type\":\"BoxAnnotation\"},{\"attributes\":{},\"id\":\"3476\",\"type\":\"BasicTicker\"},{\"attributes\":{\"label\":{\"value\":\"Software\"},\"renderers\":[{\"id\":\"3515\"}]},\"id\":\"3527\",\"type\":\"LegendItem\"},{\"attributes\":{},\"id\":\"3484\",\"type\":\"ResetTool\"},{\"attributes\":{\"fill_color\":{\"value\":\"blue\"},\"line_color\":{\"value\":\"blue\"},\"top\":{\"field\":\"Hardware\"},\"width\":{\"value\":0.2},\"x\":{\"field\":\"Device\",\"transform\":{\"id\":\"3493\"}}},\"id\":\"3497\",\"type\":\"VBar\"},{\"attributes\":{\"fill_alpha\":{\"value\":0.1},\"fill_color\":{\"value\":\"green\"},\"line_alpha\":{\"value\":0.1},\"line_color\":{\"value\":\"green\"},\"top\":{\"field\":\"Software\"},\"width\":{\"value\":0.2},\"x\":{\"field\":\"Device\",\"transform\":{\"id\":\"3494\"}}},\"id\":\"3514\",\"type\":\"VBar\"},{\"attributes\":{\"text\":\"Review on Ease of Use for Smart Devices\"},\"id\":\"3462\",\"type\":\"Title\"},{\"attributes\":{\"range\":{\"id\":\"3464\"},\"value\":-0.12},\"id\":\"3493\",\"type\":\"Dodge\"},{\"attributes\":{\"range\":{\"id\":\"3464\"},\"value\":0.12},\"id\":\"3494\",\"type\":\"Dodge\"},{\"attributes\":{\"below\":[{\"id\":\"3472\"}],\"center\":[{\"id\":\"3474\"},{\"id\":\"3478\"},{\"id\":\"3509\"}],\"left\":[{\"id\":\"3475\"}],\"plot_height\":500,\"plot_width\":950,\"renderers\":[{\"id\":\"3499\"},{\"id\":\"3515\"}],\"title\":{\"id\":\"3462\"},\"toolbar\":{\"id\":\"3486\"},\"x_range\":{\"id\":\"3464\"},\"x_scale\":{\"id\":\"3468\"},\"y_range\":{\"id\":\"3466\"},\"y_scale\":{\"id\":\"3470\"}},\"id\":\"3461\",\"subtype\":\"Figure\",\"type\":\"Plot\"},{\"attributes\":{},\"id\":\"3505\",\"type\":\"CategoricalTickFormatter\"},{\"attributes\":{\"axis_label\":\"Smart Devcie\",\"formatter\":{\"id\":\"3505\"},\"ticker\":{\"id\":\"3473\"}},\"id\":\"3472\",\"type\":\"CategoricalAxis\"},{\"attributes\":{\"axis\":{\"id\":\"3472\"},\"ticker\":null},\"id\":\"3474\",\"type\":\"Grid\"},{\"attributes\":{},\"id\":\"3468\",\"type\":\"CategoricalScale\"},{\"attributes\":{},\"id\":\"3503\",\"type\":\"BasicTickFormatter\"},{\"attributes\":{},\"id\":\"3506\",\"type\":\"UnionRenderers\"},{\"attributes\":{\"data\":{\"Device\":[\"Google Home Mini\",\"Amazon Echo Dot\",\"Philips Hue White Smart Bulb\",\"TP-Link Kasa Smart Camera\",\"Fire TV Stick 4K\"],\"Hardware\":[6,8,9,7,6],\"Image\":[\"https://play-lh.googleusercontent.com/vr1isZKzTtlok9P81H6cR98iqpPhkuQHJp19Z5kPej3QlhNTnLohXpqcgMqrQpyegA=s180-rw\",\"https://play-lh.googleusercontent.com/TrGtH5xYMUuyOSGSAUh3P_QfCgLlFjW4kKwd80YQ0ea_XTRmt5Eazcz_xp-__wdjicwN=s180-rw\",\"https://play-lh.googleusercontent.com/FUlW6h3cACamheiCHH1cE67irohAZq_dJ92irK92cryKwHUtY6ZTSv5d041qPZ9UOt3n=s180-rw\",\"https://play-lh.googleusercontent.com/HH2EMJy6xdJX9WM72G5LJ8SRzACsxCSjPKCNYiHdNuSiij1M4v5W-3XLzXVXVuhWnKA=s180-rw\",\"https://play-lh.googleusercontent.com/qqqiN28cwhj-N3PUAw5x0AqzgVRt7Gy_rH7ftO7rhSqwyv44B3oFtm4m74NeR104gA=s180-rw\"],\"Software\":[7,8,9,8,8],\"index\":[0,1,2,3,4]},\"selected\":{\"id\":\"3507\"},\"selection_policy\":{\"id\":\"3506\"}},\"id\":\"3495\",\"type\":\"ColumnDataSource\"},{\"attributes\":{},\"id\":\"3470\",\"type\":\"LinearScale\"},{\"attributes\":{\"factors\":[\"Google Home Mini\",\"Amazon Echo Dot\",\"Philips Hue White Smart Bulb\",\"TP-Link Kasa Smart Camera\",\"Fire TV Stick 4K\"]},\"id\":\"3464\",\"type\":\"FactorRange\"},{\"attributes\":{},\"id\":\"3524\",\"type\":\"UnionRenderers\"},{\"attributes\":{\"end\":10},\"id\":\"3466\",\"type\":\"Range1d\"},{\"attributes\":{\"data_source\":{\"id\":\"3511\"},\"glyph\":{\"id\":\"3513\"},\"hover_glyph\":null,\"muted_glyph\":null,\"nonselection_glyph\":{\"id\":\"3514\"},\"selection_glyph\":null,\"view\":{\"id\":\"3516\"}},\"id\":\"3515\",\"type\":\"GlyphRenderer\"},{\"attributes\":{\"data\":{\"Device\":[\"Google Home Mini\",\"Amazon Echo Dot\",\"Philips Hue White Smart Bulb\",\"TP-Link Kasa Smart Camera\",\"Fire TV Stick 4K\"],\"Hardware\":[6,8,9,7,6],\"Image\":[\"https://play-lh.googleusercontent.com/vr1isZKzTtlok9P81H6cR98iqpPhkuQHJp19Z5kPej3QlhNTnLohXpqcgMqrQpyegA=s180-rw\",\"https://play-lh.googleusercontent.com/TrGtH5xYMUuyOSGSAUh3P_QfCgLlFjW4kKwd80YQ0ea_XTRmt5Eazcz_xp-__wdjicwN=s180-rw\",\"https://play-lh.googleusercontent.com/FUlW6h3cACamheiCHH1cE67irohAZq_dJ92irK92cryKwHUtY6ZTSv5d041qPZ9UOt3n=s180-rw\",\"https://play-lh.googleusercontent.com/HH2EMJy6xdJX9WM72G5LJ8SRzACsxCSjPKCNYiHdNuSiij1M4v5W-3XLzXVXVuhWnKA=s180-rw\",\"https://play-lh.googleusercontent.com/qqqiN28cwhj-N3PUAw5x0AqzgVRt7Gy_rH7ftO7rhSqwyv44B3oFtm4m74NeR104gA=s180-rw\"],\"Software\":[7,8,9,8,8],\"index\":[0,1,2,3,4]},\"selected\":{\"id\":\"3525\"},\"selection_policy\":{\"id\":\"3524\"}},\"id\":\"3511\",\"type\":\"ColumnDataSource\"},{\"attributes\":{},\"id\":\"3473\",\"type\":\"CategoricalTicker\"},{\"attributes\":{},\"id\":\"3507\",\"type\":\"Selection\"},{\"attributes\":{},\"id\":\"3525\",\"type\":\"Selection\"}],\"root_ids\":[\"3461\"]},\"title\":\"Bokeh Application\",\"version\":\"2.2.3\"}}';\n",
      "                var render_items = [{\"docid\":\"cd87be83-a6ca-4a17-b3ee-f3bb6821cd77\",\"root_ids\":[\"3461\"],\"roots\":{\"3461\":\"8a0e8898-fbe7-426e-b7bd-17a1d883063a\"}}];\n",
      "                root.Bokeh.embed.embed_items(docs_json, render_items);\n",
      "              \n",
      "                }\n",
      "                if (root.Bokeh !== undefined) {\n",
      "                  embed_document(root);\n",
      "                } else {\n",
      "                  var attempts = 0;\n",
      "                  var timer = setInterval(function(root) {\n",
      "                    if (root.Bokeh !== undefined) {\n",
      "                      clearInterval(timer);\n",
      "                      embed_document(root);\n",
      "                    } else {\n",
      "                      attempts++;\n",
      "                      if (attempts > 100) {\n",
      "                        clearInterval(timer);\n",
      "                        console.log(\"Bokeh: ERROR: Unable to run BokehJS code because BokehJS library is missing\");\n",
      "                      }\n",
      "                    }\n",
      "                  }, 10, root)\n",
      "                }\n",
      "              })(window);\n",
      "            });\n",
      "          };\n",
      "          if (document.readyState != \"loading\") fn();\n",
      "          else document.addEventListener(\"DOMContentLoaded\", fn);\n",
      "        })();\n",
      "</script>\n"
     ]
    },
    {
     "name": "stderr",
     "output_type": "stream",
     "text": [
      "BokehDeprecationWarning: 'legend' keyword is deprecated, use explicit 'legend_label', 'legend_field', or 'legend_group' keywords instead\n",
      "BokehDeprecationWarning: 'legend' keyword is deprecated, use explicit 'legend_label', 'legend_field', or 'legend_group' keywords instead\n"
     ]
    }
   ],
   "source": [
    "\n",
    "\n",
    "google_img = 'https://play-lh.googleusercontent.com/vr1isZKzTtlok9P81H6cR98iqpPhkuQHJp19Z5kPej3QlhNTnLohXpqcgMqrQpyegA=s180-rw'\n",
    "amazon_img = 'https://play-lh.googleusercontent.com/TrGtH5xYMUuyOSGSAUh3P_QfCgLlFjW4kKwd80YQ0ea_XTRmt5Eazcz_xp-__wdjicwN=s180-rw'\n",
    "philips_img = 'https://play-lh.googleusercontent.com/FUlW6h3cACamheiCHH1cE67irohAZq_dJ92irK92cryKwHUtY6ZTSv5d041qPZ9UOt3n=s180-rw'\n",
    "kasa_img = 'https://play-lh.googleusercontent.com/HH2EMJy6xdJX9WM72G5LJ8SRzACsxCSjPKCNYiHdNuSiij1M4v5W-3XLzXVXVuhWnKA=s180-rw'\n",
    "fire_img = 'https://play-lh.googleusercontent.com/qqqiN28cwhj-N3PUAw5x0AqzgVRt7Gy_rH7ftO7rhSqwyv44B3oFtm4m74NeR104gA=s180-rw'\n",
    "\n",
    "\n",
    "\n",
    "# data\n",
    "Device = ['Google Home Mini', 'Amazon Echo Dot', 'Philips Hue White Smart Bulb', 'TP-Link Kasa Smart Camera', 'Fire TV Stick 4K']\n",
    "grouped_bar_df = pd.DataFrame({'Device' : Device,\n",
    "                               'Hardware': [6, 8, 9, 7, 6],\n",
    "                               'Software': [7, 8, 9, 8, 8],\n",
    "                               'Image': [google_img, amazon_img, philips_img, kasa_img, fire_img]})\n",
    "\n",
    "output_file('easyness.html')\n",
    "\n",
    "# plot\n",
    "grouped_bar = figure(plot_width=950,plot_height=500,\n",
    "                     title='Review on Ease of Use for Smart Devices',\n",
    "                     x_axis_label='Smart Device',\n",
    "                     y_axis_label='Score (out of 10)',\n",
    "                     x_range=Device, y_range=(0, 10),tools=\"pan,box_select,zoom_in,zoom_out,save,reset\")\n",
    "\n",
    "# offsets bars / bar locations on axis\n",
    "dodge1 = dodge('Device', -0.12, range=grouped_bar.x_range)\n",
    "dodge2 = dodge('Device',  0.12,  range=grouped_bar.x_range)\n",
    "\n",
    "\n",
    "grouped_bar.vbar(x=dodge1, top='Hardware', width=0.2, source=grouped_bar_df, color='blue', legend=value('Hardware'))\n",
    "grouped_bar.vbar(x=dodge2, top='Software', width=0.2, source=grouped_bar_df, color='green', legend=value('Software'))\n",
    "\n",
    "\n",
    "hover = HoverTool()\n",
    "hover.tooltips = \"\"\"\n",
    "  <div>\n",
    "    <h3>@Device</h3>\n",
    "    <div><mark style =\" background-color: lightblue\"><strong>Hardware: </strong>@Hardware</mark></div>\n",
    "    <div><mark style =\" background-color: lightgreen\"><strong>Software: </strong>@Software</mark></div>\n",
    "    <div><img src=\"@Image\" alt=\"\" width=\"100\" /></div>\n",
    "  </div>\n",
    "\"\"\"\n",
    "\n",
    "\n",
    "grouped_bar.add_tools(hover)\n",
    "\n",
    "# format legend\n",
    "grouped_bar.legend.location = 'top_left'\n",
    "grouped_bar.legend.orientation = 'horizontal'\n",
    "\n",
    "# Show results\n",
    "show(grouped_bar)\n",
    "\n",
    "# Save file\n",
    "save(grouped_bar)\n",
    "\n",
    "# Print out div and script\n",
    "script, div = components(grouped_bar)\n",
    "print(div)\n",
    "print(script)"
   ]
  },
  {
   "cell_type": "code",
   "execution_count": null,
   "metadata": {},
   "outputs": [],
   "source": []
  },
  {
   "cell_type": "code",
   "execution_count": null,
   "metadata": {},
   "outputs": [],
   "source": []
  },
  {
   "cell_type": "code",
   "execution_count": null,
   "metadata": {},
   "outputs": [],
   "source": []
  }
 ],
 "metadata": {
  "kernelspec": {
   "display_name": "Python 3",
   "language": "python",
   "name": "python3"
  },
  "language_info": {
   "codemirror_mode": {
    "name": "ipython",
    "version": 3
   },
   "file_extension": ".py",
   "mimetype": "text/x-python",
   "name": "python",
   "nbconvert_exporter": "python",
   "pygments_lexer": "ipython3",
   "version": "3.8.5"
  }
 },
 "nbformat": 4,
 "nbformat_minor": 4
}
