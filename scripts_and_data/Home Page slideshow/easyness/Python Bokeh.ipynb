{
 "cells": [
  {
   "cell_type": "markdown",
   "metadata": {},
   "source": [
    "# Bokeh is an interactive visualization library.\n",
    "\n",
    "Currently, Bokeh has two main interfaces:\n",
    "* bokeh.models - A low-level interface that provides the most flexibility to application developers\n",
    "* bokeh.plotting - A higher-level interface centered around composing visual glyphs\n",
    "\n",
    "Bokeh can also be used with the HoloViews library.\n",
    "\n",
    "bokeh.charts is deprecated."
   ]
  },
  {
   "cell_type": "markdown",
   "metadata": {},
   "source": [
    "# Install\n",
    "\n",
    "Go to python package index at python.org and see install instructions for bokeh."
   ]
  },
  {
   "cell_type": "markdown",
   "metadata": {
    "colab_type": "text",
    "id": "XoMOtv_TIzLj"
   },
   "source": [
    "# Documentation"
   ]
  },
  {
   "cell_type": "code",
   "execution_count": null,
   "metadata": {
    "colab": {
     "base_uri": "https://localhost:8080/",
     "height": 821
    },
    "colab_type": "code",
    "id": "4oUGLYKAIwzh",
    "outputId": "387086ed-62d9-47ab-d6c5-fe46077c9fe6"
   },
   "outputs": [],
   "source": [
    "from IPython.display import IFrame\n",
    "documentation = IFrame(src='https://bokeh.pydata.org/en/latest/', width=1000, height=450)\n",
    "display(documentation)"
   ]
  },
  {
   "cell_type": "markdown",
   "metadata": {
    "colab_type": "text",
    "id": "123FEnAKcNUA"
   },
   "source": [
    "# Imports\n",
    "Some imports can be imported in different ways and appear to do the same thing (i.e.-bokeh.io.show, bokeh.plotting.show)"
   ]
  },
  {
   "cell_type": "code",
   "execution_count": 2,
   "metadata": {
    "colab": {},
    "colab_type": "code",
    "id": "Jbo-SCZocQIa"
   },
   "outputs": [
    {
     "data": {
      "text/plain": [
       "'from vega_datasets import data as vds'"
      ]
     },
     "execution_count": 2,
     "metadata": {},
     "output_type": "execute_result"
    }
   ],
   "source": [
    "# standard bokeh imports\n",
    "from bokeh.io import output_notebook, show, reset_output\n",
    "\n",
    "# other bokeh imports\n",
    "import bokeh\n",
    "from bokeh.plotting import figure\n",
    "# more imports in cells below as needed\n",
    "\n",
    "# other imports\n",
    "import numpy as np\n",
    "import pandas as pd\n",
    "\"\"\"from vega_datasets import data as vds\"\"\""
   ]
  },
  {
   "cell_type": "markdown",
   "metadata": {
    "colab_type": "text",
    "id": "r2zK0ZaqxCb-"
   },
   "source": [
    "# Troubleshooting\n",
    "\n",
    "* reset_output(), then output_notebook() to keep from opening new tabs and display plots in notebook\n",
    "* from bokeh.charts import 'Plot Type' is deprecated, use from bokeh.plotting import figure instead\n",
    "* if something is not working, try to update to the latest version of bokeh"
   ]
  },
  {
   "cell_type": "markdown",
   "metadata": {
    "colab_type": "text",
    "id": "m-5-zgxjyzOP"
   },
   "source": [
    "# Sample Data Sets"
   ]
  },
  {
   "cell_type": "code",
   "execution_count": 3,
   "metadata": {
    "colab": {
     "base_uri": "https://localhost:8080/",
     "height": 204
    },
    "colab_type": "code",
    "id": "45kIS_95y5jo",
    "outputId": "54bf21a0-e103-4734-89c4-422faaf1d8be"
   },
   "outputs": [
    {
     "data": {
      "text/html": [
       "<div>\n",
       "<style scoped>\n",
       "    .dataframe tbody tr th:only-of-type {\n",
       "        vertical-align: middle;\n",
       "    }\n",
       "\n",
       "    .dataframe tbody tr th {\n",
       "        vertical-align: top;\n",
       "    }\n",
       "\n",
       "    .dataframe thead th {\n",
       "        text-align: right;\n",
       "    }\n",
       "</style>\n",
       "<table border=\"1\" class=\"dataframe\">\n",
       "  <thead>\n",
       "    <tr style=\"text-align: right;\">\n",
       "      <th></th>\n",
       "      <th>sepal_length</th>\n",
       "      <th>sepal_width</th>\n",
       "      <th>petal_length</th>\n",
       "      <th>petal_width</th>\n",
       "      <th>species</th>\n",
       "    </tr>\n",
       "  </thead>\n",
       "  <tbody>\n",
       "    <tr>\n",
       "      <th>0</th>\n",
       "      <td>5.1</td>\n",
       "      <td>3.5</td>\n",
       "      <td>1.4</td>\n",
       "      <td>0.2</td>\n",
       "      <td>setosa</td>\n",
       "    </tr>\n",
       "    <tr>\n",
       "      <th>1</th>\n",
       "      <td>4.9</td>\n",
       "      <td>3.0</td>\n",
       "      <td>1.4</td>\n",
       "      <td>0.2</td>\n",
       "      <td>setosa</td>\n",
       "    </tr>\n",
       "    <tr>\n",
       "      <th>2</th>\n",
       "      <td>4.7</td>\n",
       "      <td>3.2</td>\n",
       "      <td>1.3</td>\n",
       "      <td>0.2</td>\n",
       "      <td>setosa</td>\n",
       "    </tr>\n",
       "    <tr>\n",
       "      <th>3</th>\n",
       "      <td>4.6</td>\n",
       "      <td>3.1</td>\n",
       "      <td>1.5</td>\n",
       "      <td>0.2</td>\n",
       "      <td>setosa</td>\n",
       "    </tr>\n",
       "    <tr>\n",
       "      <th>4</th>\n",
       "      <td>5.0</td>\n",
       "      <td>3.6</td>\n",
       "      <td>1.4</td>\n",
       "      <td>0.2</td>\n",
       "      <td>setosa</td>\n",
       "    </tr>\n",
       "  </tbody>\n",
       "</table>\n",
       "</div>"
      ],
      "text/plain": [
       "   sepal_length  sepal_width  petal_length  petal_width species\n",
       "0           5.1          3.5           1.4          0.2  setosa\n",
       "1           4.9          3.0           1.4          0.2  setosa\n",
       "2           4.7          3.2           1.3          0.2  setosa\n",
       "3           4.6          3.1           1.5          0.2  setosa\n",
       "4           5.0          3.6           1.4          0.2  setosa"
      ]
     },
     "execution_count": 3,
     "metadata": {},
     "output_type": "execute_result"
    }
   ],
   "source": [
    "from bokeh.sampledata import iris\n",
    "# sample data set (dataframe)\n",
    "iris_dataset = iris.flowers\n",
    "iris_dataset.head()"
   ]
  },
  {
   "cell_type": "markdown",
   "metadata": {
    "colab_type": "text",
    "id": "E-lf6hxcwsgF"
   },
   "source": [
    "# Display Plots In Notebook"
   ]
  },
  {
   "cell_type": "code",
   "execution_count": 4,
   "metadata": {
    "colab": {
     "base_uri": "https://localhost:8080/",
     "height": 47
    },
    "colab_type": "code",
    "id": "L0_cUPcedMMo",
    "outputId": "be21ec7d-f75d-4d22-d682-002701e1bd44"
   },
   "outputs": [
    {
     "data": {
      "text/html": [
       "\n",
       "    <div class=\"bk-root\">\n",
       "        <a href=\"https://bokeh.org\" target=\"_blank\" class=\"bk-logo bk-logo-small bk-logo-notebook\"></a>\n",
       "        <span id=\"1001\">Loading BokehJS ...</span>\n",
       "    </div>"
      ]
     },
     "metadata": {},
     "output_type": "display_data"
    },
    {
     "data": {
      "application/javascript": [
       "\n",
       "(function(root) {\n",
       "  function now() {\n",
       "    return new Date();\n",
       "  }\n",
       "\n",
       "  var force = true;\n",
       "\n",
       "  if (typeof root._bokeh_onload_callbacks === \"undefined\" || force === true) {\n",
       "    root._bokeh_onload_callbacks = [];\n",
       "    root._bokeh_is_loading = undefined;\n",
       "  }\n",
       "\n",
       "  var JS_MIME_TYPE = 'application/javascript';\n",
       "  var HTML_MIME_TYPE = 'text/html';\n",
       "  var EXEC_MIME_TYPE = 'application/vnd.bokehjs_exec.v0+json';\n",
       "  var CLASS_NAME = 'output_bokeh rendered_html';\n",
       "\n",
       "  /**\n",
       "   * Render data to the DOM node\n",
       "   */\n",
       "  function render(props, node) {\n",
       "    var script = document.createElement(\"script\");\n",
       "    node.appendChild(script);\n",
       "  }\n",
       "\n",
       "  /**\n",
       "   * Handle when an output is cleared or removed\n",
       "   */\n",
       "  function handleClearOutput(event, handle) {\n",
       "    var cell = handle.cell;\n",
       "\n",
       "    var id = cell.output_area._bokeh_element_id;\n",
       "    var server_id = cell.output_area._bokeh_server_id;\n",
       "    // Clean up Bokeh references\n",
       "    if (id != null && id in Bokeh.index) {\n",
       "      Bokeh.index[id].model.document.clear();\n",
       "      delete Bokeh.index[id];\n",
       "    }\n",
       "\n",
       "    if (server_id !== undefined) {\n",
       "      // Clean up Bokeh references\n",
       "      var cmd = \"from bokeh.io.state import curstate; print(curstate().uuid_to_server['\" + server_id + \"'].get_sessions()[0].document.roots[0]._id)\";\n",
       "      cell.notebook.kernel.execute(cmd, {\n",
       "        iopub: {\n",
       "          output: function(msg) {\n",
       "            var id = msg.content.text.trim();\n",
       "            if (id in Bokeh.index) {\n",
       "              Bokeh.index[id].model.document.clear();\n",
       "              delete Bokeh.index[id];\n",
       "            }\n",
       "          }\n",
       "        }\n",
       "      });\n",
       "      // Destroy server and session\n",
       "      var cmd = \"import bokeh.io.notebook as ion; ion.destroy_server('\" + server_id + \"')\";\n",
       "      cell.notebook.kernel.execute(cmd);\n",
       "    }\n",
       "  }\n",
       "\n",
       "  /**\n",
       "   * Handle when a new output is added\n",
       "   */\n",
       "  function handleAddOutput(event, handle) {\n",
       "    var output_area = handle.output_area;\n",
       "    var output = handle.output;\n",
       "\n",
       "    // limit handleAddOutput to display_data with EXEC_MIME_TYPE content only\n",
       "    if ((output.output_type != \"display_data\") || (!output.data.hasOwnProperty(EXEC_MIME_TYPE))) {\n",
       "      return\n",
       "    }\n",
       "\n",
       "    var toinsert = output_area.element.find(\".\" + CLASS_NAME.split(' ')[0]);\n",
       "\n",
       "    if (output.metadata[EXEC_MIME_TYPE][\"id\"] !== undefined) {\n",
       "      toinsert[toinsert.length - 1].firstChild.textContent = output.data[JS_MIME_TYPE];\n",
       "      // store reference to embed id on output_area\n",
       "      output_area._bokeh_element_id = output.metadata[EXEC_MIME_TYPE][\"id\"];\n",
       "    }\n",
       "    if (output.metadata[EXEC_MIME_TYPE][\"server_id\"] !== undefined) {\n",
       "      var bk_div = document.createElement(\"div\");\n",
       "      bk_div.innerHTML = output.data[HTML_MIME_TYPE];\n",
       "      var script_attrs = bk_div.children[0].attributes;\n",
       "      for (var i = 0; i < script_attrs.length; i++) {\n",
       "        toinsert[toinsert.length - 1].firstChild.setAttribute(script_attrs[i].name, script_attrs[i].value);\n",
       "        toinsert[toinsert.length - 1].firstChild.textContent = bk_div.children[0].textContent\n",
       "      }\n",
       "      // store reference to server id on output_area\n",
       "      output_area._bokeh_server_id = output.metadata[EXEC_MIME_TYPE][\"server_id\"];\n",
       "    }\n",
       "  }\n",
       "\n",
       "  function register_renderer(events, OutputArea) {\n",
       "\n",
       "    function append_mime(data, metadata, element) {\n",
       "      // create a DOM node to render to\n",
       "      var toinsert = this.create_output_subarea(\n",
       "        metadata,\n",
       "        CLASS_NAME,\n",
       "        EXEC_MIME_TYPE\n",
       "      );\n",
       "      this.keyboard_manager.register_events(toinsert);\n",
       "      // Render to node\n",
       "      var props = {data: data, metadata: metadata[EXEC_MIME_TYPE]};\n",
       "      render(props, toinsert[toinsert.length - 1]);\n",
       "      element.append(toinsert);\n",
       "      return toinsert\n",
       "    }\n",
       "\n",
       "    /* Handle when an output is cleared or removed */\n",
       "    events.on('clear_output.CodeCell', handleClearOutput);\n",
       "    events.on('delete.Cell', handleClearOutput);\n",
       "\n",
       "    /* Handle when a new output is added */\n",
       "    events.on('output_added.OutputArea', handleAddOutput);\n",
       "\n",
       "    /**\n",
       "     * Register the mime type and append_mime function with output_area\n",
       "     */\n",
       "    OutputArea.prototype.register_mime_type(EXEC_MIME_TYPE, append_mime, {\n",
       "      /* Is output safe? */\n",
       "      safe: true,\n",
       "      /* Index of renderer in `output_area.display_order` */\n",
       "      index: 0\n",
       "    });\n",
       "  }\n",
       "\n",
       "  // register the mime type if in Jupyter Notebook environment and previously unregistered\n",
       "  if (root.Jupyter !== undefined) {\n",
       "    var events = require('base/js/events');\n",
       "    var OutputArea = require('notebook/js/outputarea').OutputArea;\n",
       "\n",
       "    if (OutputArea.prototype.mime_types().indexOf(EXEC_MIME_TYPE) == -1) {\n",
       "      register_renderer(events, OutputArea);\n",
       "    }\n",
       "  }\n",
       "\n",
       "  \n",
       "  if (typeof (root._bokeh_timeout) === \"undefined\" || force === true) {\n",
       "    root._bokeh_timeout = Date.now() + 5000;\n",
       "    root._bokeh_failed_load = false;\n",
       "  }\n",
       "\n",
       "  var NB_LOAD_WARNING = {'data': {'text/html':\n",
       "     \"<div style='background-color: #fdd'>\\n\"+\n",
       "     \"<p>\\n\"+\n",
       "     \"BokehJS does not appear to have successfully loaded. If loading BokehJS from CDN, this \\n\"+\n",
       "     \"may be due to a slow or bad network connection. Possible fixes:\\n\"+\n",
       "     \"</p>\\n\"+\n",
       "     \"<ul>\\n\"+\n",
       "     \"<li>re-rerun `output_notebook()` to attempt to load from CDN again, or</li>\\n\"+\n",
       "     \"<li>use INLINE resources instead, as so:</li>\\n\"+\n",
       "     \"</ul>\\n\"+\n",
       "     \"<code>\\n\"+\n",
       "     \"from bokeh.resources import INLINE\\n\"+\n",
       "     \"output_notebook(resources=INLINE)\\n\"+\n",
       "     \"</code>\\n\"+\n",
       "     \"</div>\"}};\n",
       "\n",
       "  function display_loaded() {\n",
       "    var el = document.getElementById(\"1001\");\n",
       "    if (el != null) {\n",
       "      el.textContent = \"BokehJS is loading...\";\n",
       "    }\n",
       "    if (root.Bokeh !== undefined) {\n",
       "      if (el != null) {\n",
       "        el.textContent = \"BokehJS \" + root.Bokeh.version + \" successfully loaded.\";\n",
       "      }\n",
       "    } else if (Date.now() < root._bokeh_timeout) {\n",
       "      setTimeout(display_loaded, 100)\n",
       "    }\n",
       "  }\n",
       "\n",
       "\n",
       "  function run_callbacks() {\n",
       "    try {\n",
       "      root._bokeh_onload_callbacks.forEach(function(callback) {\n",
       "        if (callback != null)\n",
       "          callback();\n",
       "      });\n",
       "    } finally {\n",
       "      delete root._bokeh_onload_callbacks\n",
       "    }\n",
       "    console.debug(\"Bokeh: all callbacks have finished\");\n",
       "  }\n",
       "\n",
       "  function load_libs(css_urls, js_urls, callback) {\n",
       "    if (css_urls == null) css_urls = [];\n",
       "    if (js_urls == null) js_urls = [];\n",
       "\n",
       "    root._bokeh_onload_callbacks.push(callback);\n",
       "    if (root._bokeh_is_loading > 0) {\n",
       "      console.debug(\"Bokeh: BokehJS is being loaded, scheduling callback at\", now());\n",
       "      return null;\n",
       "    }\n",
       "    if (js_urls == null || js_urls.length === 0) {\n",
       "      run_callbacks();\n",
       "      return null;\n",
       "    }\n",
       "    console.debug(\"Bokeh: BokehJS not loaded, scheduling load and callback at\", now());\n",
       "    root._bokeh_is_loading = css_urls.length + js_urls.length;\n",
       "\n",
       "    function on_load() {\n",
       "      root._bokeh_is_loading--;\n",
       "      if (root._bokeh_is_loading === 0) {\n",
       "        console.debug(\"Bokeh: all BokehJS libraries/stylesheets loaded\");\n",
       "        run_callbacks()\n",
       "      }\n",
       "    }\n",
       "\n",
       "    function on_error() {\n",
       "      console.error(\"failed to load \" + url);\n",
       "    }\n",
       "\n",
       "    for (var i = 0; i < css_urls.length; i++) {\n",
       "      var url = css_urls[i];\n",
       "      const element = document.createElement(\"link\");\n",
       "      element.onload = on_load;\n",
       "      element.onerror = on_error;\n",
       "      element.rel = \"stylesheet\";\n",
       "      element.type = \"text/css\";\n",
       "      element.href = url;\n",
       "      console.debug(\"Bokeh: injecting link tag for BokehJS stylesheet: \", url);\n",
       "      document.body.appendChild(element);\n",
       "    }\n",
       "\n",
       "    const hashes = {\"https://cdn.bokeh.org/bokeh/release/bokeh-2.2.3.min.js\": \"T2yuo9Oe71Cz/I4X9Ac5+gpEa5a8PpJCDlqKYO0CfAuEszu1JrXLl8YugMqYe3sM\", \"https://cdn.bokeh.org/bokeh/release/bokeh-widgets-2.2.3.min.js\": \"98GDGJ0kOMCUMUePhksaQ/GYgB3+NH9h996V88sh3aOiUNX3N+fLXAtry6xctSZ6\", \"https://cdn.bokeh.org/bokeh/release/bokeh-tables-2.2.3.min.js\": \"89bArO+nlbP3sgakeHjCo1JYxYR5wufVgA3IbUvDY+K7w4zyxJqssu7wVnfeKCq8\"};\n",
       "\n",
       "    for (var i = 0; i < js_urls.length; i++) {\n",
       "      var url = js_urls[i];\n",
       "      var element = document.createElement('script');\n",
       "      element.onload = on_load;\n",
       "      element.onerror = on_error;\n",
       "      element.async = false;\n",
       "      element.src = url;\n",
       "      if (url in hashes) {\n",
       "        element.crossOrigin = \"anonymous\";\n",
       "        element.integrity = \"sha384-\" + hashes[url];\n",
       "      }\n",
       "      console.debug(\"Bokeh: injecting script tag for BokehJS library: \", url);\n",
       "      document.head.appendChild(element);\n",
       "    }\n",
       "  };\n",
       "\n",
       "  function inject_raw_css(css) {\n",
       "    const element = document.createElement(\"style\");\n",
       "    element.appendChild(document.createTextNode(css));\n",
       "    document.body.appendChild(element);\n",
       "  }\n",
       "\n",
       "  \n",
       "  var js_urls = [\"https://cdn.bokeh.org/bokeh/release/bokeh-2.2.3.min.js\", \"https://cdn.bokeh.org/bokeh/release/bokeh-widgets-2.2.3.min.js\", \"https://cdn.bokeh.org/bokeh/release/bokeh-tables-2.2.3.min.js\"];\n",
       "  var css_urls = [];\n",
       "  \n",
       "\n",
       "  var inline_js = [\n",
       "    function(Bokeh) {\n",
       "      Bokeh.set_log_level(\"info\");\n",
       "    },\n",
       "    function(Bokeh) {\n",
       "    \n",
       "    \n",
       "    }\n",
       "  ];\n",
       "\n",
       "  function run_inline_js() {\n",
       "    \n",
       "    if (root.Bokeh !== undefined || force === true) {\n",
       "      \n",
       "    for (var i = 0; i < inline_js.length; i++) {\n",
       "      inline_js[i].call(root, root.Bokeh);\n",
       "    }\n",
       "    if (force === true) {\n",
       "        display_loaded();\n",
       "      }} else if (Date.now() < root._bokeh_timeout) {\n",
       "      setTimeout(run_inline_js, 100);\n",
       "    } else if (!root._bokeh_failed_load) {\n",
       "      console.log(\"Bokeh: BokehJS failed to load within specified timeout.\");\n",
       "      root._bokeh_failed_load = true;\n",
       "    } else if (force !== true) {\n",
       "      var cell = $(document.getElementById(\"1001\")).parents('.cell').data().cell;\n",
       "      cell.output_area.append_execute_result(NB_LOAD_WARNING)\n",
       "    }\n",
       "\n",
       "  }\n",
       "\n",
       "  if (root._bokeh_is_loading === 0) {\n",
       "    console.debug(\"Bokeh: BokehJS loaded, going straight to plotting\");\n",
       "    run_inline_js();\n",
       "  } else {\n",
       "    load_libs(css_urls, js_urls, function() {\n",
       "      console.debug(\"Bokeh: BokehJS plotting callback run at\", now());\n",
       "      run_inline_js();\n",
       "    });\n",
       "  }\n",
       "}(window));"
      ],
      "application/vnd.bokehjs_load.v0+json": "\n(function(root) {\n  function now() {\n    return new Date();\n  }\n\n  var force = true;\n\n  if (typeof root._bokeh_onload_callbacks === \"undefined\" || force === true) {\n    root._bokeh_onload_callbacks = [];\n    root._bokeh_is_loading = undefined;\n  }\n\n  \n\n  \n  if (typeof (root._bokeh_timeout) === \"undefined\" || force === true) {\n    root._bokeh_timeout = Date.now() + 5000;\n    root._bokeh_failed_load = false;\n  }\n\n  var NB_LOAD_WARNING = {'data': {'text/html':\n     \"<div style='background-color: #fdd'>\\n\"+\n     \"<p>\\n\"+\n     \"BokehJS does not appear to have successfully loaded. If loading BokehJS from CDN, this \\n\"+\n     \"may be due to a slow or bad network connection. Possible fixes:\\n\"+\n     \"</p>\\n\"+\n     \"<ul>\\n\"+\n     \"<li>re-rerun `output_notebook()` to attempt to load from CDN again, or</li>\\n\"+\n     \"<li>use INLINE resources instead, as so:</li>\\n\"+\n     \"</ul>\\n\"+\n     \"<code>\\n\"+\n     \"from bokeh.resources import INLINE\\n\"+\n     \"output_notebook(resources=INLINE)\\n\"+\n     \"</code>\\n\"+\n     \"</div>\"}};\n\n  function display_loaded() {\n    var el = document.getElementById(\"1001\");\n    if (el != null) {\n      el.textContent = \"BokehJS is loading...\";\n    }\n    if (root.Bokeh !== undefined) {\n      if (el != null) {\n        el.textContent = \"BokehJS \" + root.Bokeh.version + \" successfully loaded.\";\n      }\n    } else if (Date.now() < root._bokeh_timeout) {\n      setTimeout(display_loaded, 100)\n    }\n  }\n\n\n  function run_callbacks() {\n    try {\n      root._bokeh_onload_callbacks.forEach(function(callback) {\n        if (callback != null)\n          callback();\n      });\n    } finally {\n      delete root._bokeh_onload_callbacks\n    }\n    console.debug(\"Bokeh: all callbacks have finished\");\n  }\n\n  function load_libs(css_urls, js_urls, callback) {\n    if (css_urls == null) css_urls = [];\n    if (js_urls == null) js_urls = [];\n\n    root._bokeh_onload_callbacks.push(callback);\n    if (root._bokeh_is_loading > 0) {\n      console.debug(\"Bokeh: BokehJS is being loaded, scheduling callback at\", now());\n      return null;\n    }\n    if (js_urls == null || js_urls.length === 0) {\n      run_callbacks();\n      return null;\n    }\n    console.debug(\"Bokeh: BokehJS not loaded, scheduling load and callback at\", now());\n    root._bokeh_is_loading = css_urls.length + js_urls.length;\n\n    function on_load() {\n      root._bokeh_is_loading--;\n      if (root._bokeh_is_loading === 0) {\n        console.debug(\"Bokeh: all BokehJS libraries/stylesheets loaded\");\n        run_callbacks()\n      }\n    }\n\n    function on_error() {\n      console.error(\"failed to load \" + url);\n    }\n\n    for (var i = 0; i < css_urls.length; i++) {\n      var url = css_urls[i];\n      const element = document.createElement(\"link\");\n      element.onload = on_load;\n      element.onerror = on_error;\n      element.rel = \"stylesheet\";\n      element.type = \"text/css\";\n      element.href = url;\n      console.debug(\"Bokeh: injecting link tag for BokehJS stylesheet: \", url);\n      document.body.appendChild(element);\n    }\n\n    const hashes = {\"https://cdn.bokeh.org/bokeh/release/bokeh-2.2.3.min.js\": \"T2yuo9Oe71Cz/I4X9Ac5+gpEa5a8PpJCDlqKYO0CfAuEszu1JrXLl8YugMqYe3sM\", \"https://cdn.bokeh.org/bokeh/release/bokeh-widgets-2.2.3.min.js\": \"98GDGJ0kOMCUMUePhksaQ/GYgB3+NH9h996V88sh3aOiUNX3N+fLXAtry6xctSZ6\", \"https://cdn.bokeh.org/bokeh/release/bokeh-tables-2.2.3.min.js\": \"89bArO+nlbP3sgakeHjCo1JYxYR5wufVgA3IbUvDY+K7w4zyxJqssu7wVnfeKCq8\"};\n\n    for (var i = 0; i < js_urls.length; i++) {\n      var url = js_urls[i];\n      var element = document.createElement('script');\n      element.onload = on_load;\n      element.onerror = on_error;\n      element.async = false;\n      element.src = url;\n      if (url in hashes) {\n        element.crossOrigin = \"anonymous\";\n        element.integrity = \"sha384-\" + hashes[url];\n      }\n      console.debug(\"Bokeh: injecting script tag for BokehJS library: \", url);\n      document.head.appendChild(element);\n    }\n  };\n\n  function inject_raw_css(css) {\n    const element = document.createElement(\"style\");\n    element.appendChild(document.createTextNode(css));\n    document.body.appendChild(element);\n  }\n\n  \n  var js_urls = [\"https://cdn.bokeh.org/bokeh/release/bokeh-2.2.3.min.js\", \"https://cdn.bokeh.org/bokeh/release/bokeh-widgets-2.2.3.min.js\", \"https://cdn.bokeh.org/bokeh/release/bokeh-tables-2.2.3.min.js\"];\n  var css_urls = [];\n  \n\n  var inline_js = [\n    function(Bokeh) {\n      Bokeh.set_log_level(\"info\");\n    },\n    function(Bokeh) {\n    \n    \n    }\n  ];\n\n  function run_inline_js() {\n    \n    if (root.Bokeh !== undefined || force === true) {\n      \n    for (var i = 0; i < inline_js.length; i++) {\n      inline_js[i].call(root, root.Bokeh);\n    }\n    if (force === true) {\n        display_loaded();\n      }} else if (Date.now() < root._bokeh_timeout) {\n      setTimeout(run_inline_js, 100);\n    } else if (!root._bokeh_failed_load) {\n      console.log(\"Bokeh: BokehJS failed to load within specified timeout.\");\n      root._bokeh_failed_load = true;\n    } else if (force !== true) {\n      var cell = $(document.getElementById(\"1001\")).parents('.cell').data().cell;\n      cell.output_area.append_execute_result(NB_LOAD_WARNING)\n    }\n\n  }\n\n  if (root._bokeh_is_loading === 0) {\n    console.debug(\"Bokeh: BokehJS loaded, going straight to plotting\");\n    run_inline_js();\n  } else {\n    load_libs(css_urls, js_urls, function() {\n      console.debug(\"Bokeh: BokehJS plotting callback run at\", now());\n      run_inline_js();\n    });\n  }\n}(window));"
     },
     "metadata": {},
     "output_type": "display_data"
    }
   ],
   "source": [
    "# configure the default output state to generate output in notebook cells when show() is called\n",
    "# in colab, output_notebook() is called in each cell (this is not always the case)\n",
    "output_notebook()"
   ]
  },
  {
   "cell_type": "code",
   "execution_count": 5,
   "metadata": {
    "colab": {},
    "colab_type": "code",
    "id": "d5dtpUMQdN1v"
   },
   "outputs": [],
   "source": [
    "# output_notebook?"
   ]
  },
  {
   "cell_type": "markdown",
   "metadata": {
    "colab_type": "text",
    "id": "cgCYTtzc28Of"
   },
   "source": [
    "# Save Plots"
   ]
  },
  {
   "cell_type": "code",
   "execution_count": 6,
   "metadata": {
    "colab": {},
    "colab_type": "code",
    "id": "Ncg4_peA3ADt"
   },
   "outputs": [
    {
     "data": {
      "text/plain": [
       "'\\ncomment out output_file(), run reset_output(), then run output_notebook() to keep from opening new tabs \\nand display plots in notebook\\n'"
      ]
     },
     "execution_count": 6,
     "metadata": {},
     "output_type": "execute_result"
    }
   ],
   "source": [
    "# if not using a notebook environment, use this to save/open your bokeh plots\n",
    "# save your plot to html file or click save icon next to plot\n",
    "# output_file()\n",
    "\n",
    "'''\n",
    "comment out output_file(), run reset_output(), then run output_notebook() to keep from opening new tabs \n",
    "and display plots in notebook\n",
    "'''"
   ]
  },
  {
   "cell_type": "markdown",
   "metadata": {
    "colab_type": "text",
    "id": "ALnP9aXhtIB5"
   },
   "source": [
    "# Steps to Create Plots\n",
    "\n",
    "1. create figure - used to create/house plot\n",
    "\n",
    "2. call plot (glyph) method (types = line, bar, scatter, etc.)\n",
    "\n",
    "3. show figure plot"
   ]
  },
  {
   "cell_type": "markdown",
   "metadata": {
    "colab_type": "text",
    "id": "YL2R256ENhGS"
   },
   "source": [
    "# ColumnDataSource\n",
    "\n",
    "The ColumnDataSource is a data source used throughout Bokeh. Bokeh often creates the ColumnDataSource automatically, however there are times when it is useful to create them explicitly.\n",
    "\n",
    "The ColumnDataSource is a (dictionary) mapping of column names (strings) to sequences of values. The mapping is provided by passing a dictionary with string keys and lists (or similar data structures) as values."
   ]
  },
  {
   "cell_type": "code",
   "execution_count": 7,
   "metadata": {
    "colab": {
     "base_uri": "https://localhost:8080/",
     "height": 34
    },
    "colab_type": "code",
    "id": "L7J1krCcNfRk",
    "outputId": "fbd46480-d617-4a85-dbe4-8d2fb7e03112"
   },
   "outputs": [
    {
     "data": {
      "text/plain": [
       "{'A': [1, 2, 3, 4, 5], 'B': [5, 4, 3, 2, 1], 'C': [1, 3, 5, 1, 2]}"
      ]
     },
     "execution_count": 7,
     "metadata": {},
     "output_type": "execute_result"
    }
   ],
   "source": [
    "from bokeh.models import ColumnDataSource\n",
    "\n",
    "column_data_source = ColumnDataSource({'A': [1, 2, 3, 4, 5],\n",
    "                                       'B': [5, 4, 3, 2, 1],\n",
    "                                       'C': [1, 3, 5, 1, 2]})\n",
    "\n",
    "column_data_source.data"
   ]
  },
  {
   "cell_type": "markdown",
   "metadata": {
    "colab_type": "text",
    "id": "iwlTbIJriHZ6"
   },
   "source": [
    "# Line Plot"
   ]
  },
  {
   "cell_type": "code",
   "execution_count": 8,
   "metadata": {
    "colab": {
     "base_uri": "https://localhost:8080/",
     "height": 347
    },
    "colab_type": "code",
    "id": "OyTCuj7JJBJu",
    "outputId": "55abab31-ff88-498c-e2ce-a833f4c1bd3a"
   },
   "outputs": [
    {
     "name": "stderr",
     "output_type": "stream",
     "text": [
      "BokehDeprecationWarning: 'legend' keyword is deprecated, use explicit 'legend_label', 'legend_field', or 'legend_group' keywords instead\n"
     ]
    },
    {
     "data": {
      "text/html": [
       "\n",
       "\n",
       "\n",
       "\n",
       "\n",
       "\n",
       "  <div class=\"bk-root\" id=\"4aec5d59-72e8-4d54-8f25-d811c57cd9ee\" data-root-id=\"1003\"></div>\n"
      ]
     },
     "metadata": {},
     "output_type": "display_data"
    },
    {
     "data": {
      "application/javascript": [
       "(function(root) {\n",
       "  function embed_document(root) {\n",
       "    \n",
       "  var docs_json = {\"5d42d2ac-11c1-493d-9f17-ae37910f4447\":{\"roots\":{\"references\":[{\"attributes\":{\"below\":[{\"id\":\"1014\"}],\"center\":[{\"id\":\"1017\"},{\"id\":\"1021\"},{\"id\":\"1049\"}],\"left\":[{\"id\":\"1018\"}],\"plot_height\":325,\"plot_width\":500,\"renderers\":[{\"id\":\"1039\"}],\"title\":{\"id\":\"1004\"},\"toolbar\":{\"id\":\"1029\"},\"x_range\":{\"id\":\"1006\"},\"x_scale\":{\"id\":\"1010\"},\"y_range\":{\"id\":\"1008\"},\"y_scale\":{\"id\":\"1012\"}},\"id\":\"1003\",\"subtype\":\"Figure\",\"type\":\"Plot\"},{\"attributes\":{},\"id\":\"1015\",\"type\":\"BasicTicker\"},{\"attributes\":{},\"id\":\"1044\",\"type\":\"BasicTickFormatter\"},{\"attributes\":{},\"id\":\"1023\",\"type\":\"WheelZoomTool\"},{\"attributes\":{\"axis_label\":\"y\",\"formatter\":{\"id\":\"1044\"},\"ticker\":{\"id\":\"1019\"}},\"id\":\"1018\",\"type\":\"LinearAxis\"},{\"attributes\":{},\"id\":\"1027\",\"type\":\"HelpTool\"},{\"attributes\":{\"data_source\":{\"id\":\"1036\"},\"glyph\":{\"id\":\"1037\"},\"hover_glyph\":null,\"muted_glyph\":null,\"nonselection_glyph\":{\"id\":\"1038\"},\"selection_glyph\":null,\"view\":{\"id\":\"1040\"}},\"id\":\"1039\",\"type\":\"GlyphRenderer\"},{\"attributes\":{},\"id\":\"1019\",\"type\":\"BasicTicker\"},{\"attributes\":{\"overlay\":{\"id\":\"1028\"}},\"id\":\"1024\",\"type\":\"BoxZoomTool\"},{\"attributes\":{\"line_alpha\":0.1,\"line_color\":\"#1f77b4\",\"line_width\":2,\"x\":{\"field\":\"x\"},\"y\":{\"field\":\"y\"}},\"id\":\"1038\",\"type\":\"Line\"},{\"attributes\":{},\"id\":\"1025\",\"type\":\"SaveTool\"},{\"attributes\":{},\"id\":\"1026\",\"type\":\"ResetTool\"},{\"attributes\":{\"source\":{\"id\":\"1036\"}},\"id\":\"1040\",\"type\":\"CDSView\"},{\"attributes\":{\"line_color\":\"#1f77b4\",\"line_width\":2,\"x\":{\"field\":\"x\"},\"y\":{\"field\":\"y\"}},\"id\":\"1037\",\"type\":\"Line\"},{\"attributes\":{},\"id\":\"1046\",\"type\":\"Selection\"},{\"attributes\":{},\"id\":\"1047\",\"type\":\"UnionRenderers\"},{\"attributes\":{\"items\":[{\"id\":\"1050\"}]},\"id\":\"1049\",\"type\":\"Legend\"},{\"attributes\":{\"text\":\"Line Plot\"},\"id\":\"1004\",\"type\":\"Title\"},{\"attributes\":{},\"id\":\"1012\",\"type\":\"LinearScale\"},{\"attributes\":{},\"id\":\"1006\",\"type\":\"DataRange1d\"},{\"attributes\":{\"label\":{\"value\":\"line\"},\"renderers\":[{\"id\":\"1039\"}]},\"id\":\"1050\",\"type\":\"LegendItem\"},{\"attributes\":{},\"id\":\"1042\",\"type\":\"BasicTickFormatter\"},{\"attributes\":{\"bottom_units\":\"screen\",\"fill_alpha\":0.5,\"fill_color\":\"lightgrey\",\"left_units\":\"screen\",\"level\":\"overlay\",\"line_alpha\":1.0,\"line_color\":\"black\",\"line_dash\":[4,4],\"line_width\":2,\"right_units\":\"screen\",\"top_units\":\"screen\"},\"id\":\"1028\",\"type\":\"BoxAnnotation\"},{\"attributes\":{},\"id\":\"1008\",\"type\":\"DataRange1d\"},{\"attributes\":{\"axis\":{\"id\":\"1018\"},\"dimension\":1,\"ticker\":null},\"id\":\"1021\",\"type\":\"Grid\"},{\"attributes\":{\"data\":{\"x\":{\"__ndarray__\":\"AAAAAAEAAAACAAAAAwAAAAQAAAAFAAAABgAAAAcAAAAIAAAACQAAAA==\",\"dtype\":\"int32\",\"order\":\"little\",\"shape\":[10]},\"y\":{\"__ndarray__\":\"GAQGT0B9vj+IRGE3/6i1P6sfo4hKg+4/YJy3jysZqj8+GWii5lbRP5LhOxvAH+0/Jm4GI1m17T+Bgra/tT3nP6AqY6/VopU/DG1D/+PMzD8=\",\"dtype\":\"float64\",\"order\":\"little\",\"shape\":[10]}},\"selected\":{\"id\":\"1046\"},\"selection_policy\":{\"id\":\"1047\"}},\"id\":\"1036\",\"type\":\"ColumnDataSource\"},{\"attributes\":{\"callback\":null},\"id\":\"1051\",\"type\":\"HoverTool\"},{\"attributes\":{},\"id\":\"1022\",\"type\":\"PanTool\"},{\"attributes\":{},\"id\":\"1010\",\"type\":\"LinearScale\"},{\"attributes\":{\"axis_label\":\"x\",\"formatter\":{\"id\":\"1042\"},\"ticker\":{\"id\":\"1015\"}},\"id\":\"1014\",\"type\":\"LinearAxis\"},{\"attributes\":{\"active_drag\":\"auto\",\"active_inspect\":\"auto\",\"active_multi\":null,\"active_scroll\":\"auto\",\"active_tap\":\"auto\",\"tools\":[{\"id\":\"1022\"},{\"id\":\"1023\"},{\"id\":\"1024\"},{\"id\":\"1025\"},{\"id\":\"1026\"},{\"id\":\"1027\"},{\"id\":\"1051\"}]},\"id\":\"1029\",\"type\":\"Toolbar\"},{\"attributes\":{\"axis\":{\"id\":\"1014\"},\"ticker\":null},\"id\":\"1017\",\"type\":\"Grid\"}],\"root_ids\":[\"1003\"]},\"title\":\"Bokeh Application\",\"version\":\"2.2.3\"}};\n",
       "  var render_items = [{\"docid\":\"5d42d2ac-11c1-493d-9f17-ae37910f4447\",\"root_ids\":[\"1003\"],\"roots\":{\"1003\":\"4aec5d59-72e8-4d54-8f25-d811c57cd9ee\"}}];\n",
       "  root.Bokeh.embed.embed_items_notebook(docs_json, render_items);\n",
       "\n",
       "  }\n",
       "  if (root.Bokeh !== undefined) {\n",
       "    embed_document(root);\n",
       "  } else {\n",
       "    var attempts = 0;\n",
       "    var timer = setInterval(function(root) {\n",
       "      if (root.Bokeh !== undefined) {\n",
       "        clearInterval(timer);\n",
       "        embed_document(root);\n",
       "      } else {\n",
       "        attempts++;\n",
       "        if (attempts > 100) {\n",
       "          clearInterval(timer);\n",
       "          console.log(\"Bokeh: ERROR: Unable to run BokehJS code because BokehJS library is missing\");\n",
       "        }\n",
       "      }\n",
       "    }, 10, root)\n",
       "  }\n",
       "})(window);"
      ],
      "application/vnd.bokehjs_exec.v0+json": ""
     },
     "metadata": {
      "application/vnd.bokehjs_exec.v0+json": {
       "id": "1003"
      }
     },
     "output_type": "display_data"
    }
   ],
   "source": [
    "# line plot\n",
    "\n",
    "from bokeh.models import HoverTool\n",
    "\n",
    "# data\n",
    "x_line = np.arange(10)\n",
    "y_line = np.random.rand(10)\n",
    "\n",
    "# line plot\n",
    "line_plot = figure(plot_width=500, plot_height=325, title='Line Plot', x_axis_label='x', y_axis_label='y')\n",
    "line_plot.line(x_line, y_line, legend='line', line_width=2)\n",
    "\n",
    "# add hover tool\n",
    "line_plot.add_tools(HoverTool())\n",
    "\n",
    "# another way to set axis labels\n",
    "# line_plot.xaxis.axis_label = 'x-axis'\n",
    "# line_plot.yaxis.axis_label = 'y-axis'\n",
    "\n",
    "show(line_plot)"
   ]
  },
  {
   "cell_type": "markdown",
   "metadata": {},
   "source": [
    "Plot Tools = Documentation, Pan, Box Zoom, Wheel Zoom, Save, Reset, Hover, Bokeh Plot Tools Information, Additional Tools Can Be Added"
   ]
  },
  {
   "cell_type": "code",
   "execution_count": 9,
   "metadata": {
    "colab": {
     "base_uri": "https://localhost:8080/",
     "height": 347
    },
    "colab_type": "code",
    "id": "C-Q46qQKlILa",
    "outputId": "dcd37882-db9c-4d8a-b016-381730e24284"
   },
   "outputs": [
    {
     "data": {
      "text/html": [
       "\n",
       "    <div class=\"bk-root\">\n",
       "        <a href=\"https://bokeh.org\" target=\"_blank\" class=\"bk-logo bk-logo-small bk-logo-notebook\"></a>\n",
       "        <span id=\"1101\">Loading BokehJS ...</span>\n",
       "    </div>"
      ]
     },
     "metadata": {},
     "output_type": "display_data"
    },
    {
     "data": {
      "application/javascript": [
       "\n",
       "(function(root) {\n",
       "  function now() {\n",
       "    return new Date();\n",
       "  }\n",
       "\n",
       "  var force = true;\n",
       "\n",
       "  if (typeof root._bokeh_onload_callbacks === \"undefined\" || force === true) {\n",
       "    root._bokeh_onload_callbacks = [];\n",
       "    root._bokeh_is_loading = undefined;\n",
       "  }\n",
       "\n",
       "  var JS_MIME_TYPE = 'application/javascript';\n",
       "  var HTML_MIME_TYPE = 'text/html';\n",
       "  var EXEC_MIME_TYPE = 'application/vnd.bokehjs_exec.v0+json';\n",
       "  var CLASS_NAME = 'output_bokeh rendered_html';\n",
       "\n",
       "  /**\n",
       "   * Render data to the DOM node\n",
       "   */\n",
       "  function render(props, node) {\n",
       "    var script = document.createElement(\"script\");\n",
       "    node.appendChild(script);\n",
       "  }\n",
       "\n",
       "  /**\n",
       "   * Handle when an output is cleared or removed\n",
       "   */\n",
       "  function handleClearOutput(event, handle) {\n",
       "    var cell = handle.cell;\n",
       "\n",
       "    var id = cell.output_area._bokeh_element_id;\n",
       "    var server_id = cell.output_area._bokeh_server_id;\n",
       "    // Clean up Bokeh references\n",
       "    if (id != null && id in Bokeh.index) {\n",
       "      Bokeh.index[id].model.document.clear();\n",
       "      delete Bokeh.index[id];\n",
       "    }\n",
       "\n",
       "    if (server_id !== undefined) {\n",
       "      // Clean up Bokeh references\n",
       "      var cmd = \"from bokeh.io.state import curstate; print(curstate().uuid_to_server['\" + server_id + \"'].get_sessions()[0].document.roots[0]._id)\";\n",
       "      cell.notebook.kernel.execute(cmd, {\n",
       "        iopub: {\n",
       "          output: function(msg) {\n",
       "            var id = msg.content.text.trim();\n",
       "            if (id in Bokeh.index) {\n",
       "              Bokeh.index[id].model.document.clear();\n",
       "              delete Bokeh.index[id];\n",
       "            }\n",
       "          }\n",
       "        }\n",
       "      });\n",
       "      // Destroy server and session\n",
       "      var cmd = \"import bokeh.io.notebook as ion; ion.destroy_server('\" + server_id + \"')\";\n",
       "      cell.notebook.kernel.execute(cmd);\n",
       "    }\n",
       "  }\n",
       "\n",
       "  /**\n",
       "   * Handle when a new output is added\n",
       "   */\n",
       "  function handleAddOutput(event, handle) {\n",
       "    var output_area = handle.output_area;\n",
       "    var output = handle.output;\n",
       "\n",
       "    // limit handleAddOutput to display_data with EXEC_MIME_TYPE content only\n",
       "    if ((output.output_type != \"display_data\") || (!output.data.hasOwnProperty(EXEC_MIME_TYPE))) {\n",
       "      return\n",
       "    }\n",
       "\n",
       "    var toinsert = output_area.element.find(\".\" + CLASS_NAME.split(' ')[0]);\n",
       "\n",
       "    if (output.metadata[EXEC_MIME_TYPE][\"id\"] !== undefined) {\n",
       "      toinsert[toinsert.length - 1].firstChild.textContent = output.data[JS_MIME_TYPE];\n",
       "      // store reference to embed id on output_area\n",
       "      output_area._bokeh_element_id = output.metadata[EXEC_MIME_TYPE][\"id\"];\n",
       "    }\n",
       "    if (output.metadata[EXEC_MIME_TYPE][\"server_id\"] !== undefined) {\n",
       "      var bk_div = document.createElement(\"div\");\n",
       "      bk_div.innerHTML = output.data[HTML_MIME_TYPE];\n",
       "      var script_attrs = bk_div.children[0].attributes;\n",
       "      for (var i = 0; i < script_attrs.length; i++) {\n",
       "        toinsert[toinsert.length - 1].firstChild.setAttribute(script_attrs[i].name, script_attrs[i].value);\n",
       "        toinsert[toinsert.length - 1].firstChild.textContent = bk_div.children[0].textContent\n",
       "      }\n",
       "      // store reference to server id on output_area\n",
       "      output_area._bokeh_server_id = output.metadata[EXEC_MIME_TYPE][\"server_id\"];\n",
       "    }\n",
       "  }\n",
       "\n",
       "  function register_renderer(events, OutputArea) {\n",
       "\n",
       "    function append_mime(data, metadata, element) {\n",
       "      // create a DOM node to render to\n",
       "      var toinsert = this.create_output_subarea(\n",
       "        metadata,\n",
       "        CLASS_NAME,\n",
       "        EXEC_MIME_TYPE\n",
       "      );\n",
       "      this.keyboard_manager.register_events(toinsert);\n",
       "      // Render to node\n",
       "      var props = {data: data, metadata: metadata[EXEC_MIME_TYPE]};\n",
       "      render(props, toinsert[toinsert.length - 1]);\n",
       "      element.append(toinsert);\n",
       "      return toinsert\n",
       "    }\n",
       "\n",
       "    /* Handle when an output is cleared or removed */\n",
       "    events.on('clear_output.CodeCell', handleClearOutput);\n",
       "    events.on('delete.Cell', handleClearOutput);\n",
       "\n",
       "    /* Handle when a new output is added */\n",
       "    events.on('output_added.OutputArea', handleAddOutput);\n",
       "\n",
       "    /**\n",
       "     * Register the mime type and append_mime function with output_area\n",
       "     */\n",
       "    OutputArea.prototype.register_mime_type(EXEC_MIME_TYPE, append_mime, {\n",
       "      /* Is output safe? */\n",
       "      safe: true,\n",
       "      /* Index of renderer in `output_area.display_order` */\n",
       "      index: 0\n",
       "    });\n",
       "  }\n",
       "\n",
       "  // register the mime type if in Jupyter Notebook environment and previously unregistered\n",
       "  if (root.Jupyter !== undefined) {\n",
       "    var events = require('base/js/events');\n",
       "    var OutputArea = require('notebook/js/outputarea').OutputArea;\n",
       "\n",
       "    if (OutputArea.prototype.mime_types().indexOf(EXEC_MIME_TYPE) == -1) {\n",
       "      register_renderer(events, OutputArea);\n",
       "    }\n",
       "  }\n",
       "\n",
       "  \n",
       "  if (typeof (root._bokeh_timeout) === \"undefined\" || force === true) {\n",
       "    root._bokeh_timeout = Date.now() + 5000;\n",
       "    root._bokeh_failed_load = false;\n",
       "  }\n",
       "\n",
       "  var NB_LOAD_WARNING = {'data': {'text/html':\n",
       "     \"<div style='background-color: #fdd'>\\n\"+\n",
       "     \"<p>\\n\"+\n",
       "     \"BokehJS does not appear to have successfully loaded. If loading BokehJS from CDN, this \\n\"+\n",
       "     \"may be due to a slow or bad network connection. Possible fixes:\\n\"+\n",
       "     \"</p>\\n\"+\n",
       "     \"<ul>\\n\"+\n",
       "     \"<li>re-rerun `output_notebook()` to attempt to load from CDN again, or</li>\\n\"+\n",
       "     \"<li>use INLINE resources instead, as so:</li>\\n\"+\n",
       "     \"</ul>\\n\"+\n",
       "     \"<code>\\n\"+\n",
       "     \"from bokeh.resources import INLINE\\n\"+\n",
       "     \"output_notebook(resources=INLINE)\\n\"+\n",
       "     \"</code>\\n\"+\n",
       "     \"</div>\"}};\n",
       "\n",
       "  function display_loaded() {\n",
       "    var el = document.getElementById(\"1101\");\n",
       "    if (el != null) {\n",
       "      el.textContent = \"BokehJS is loading...\";\n",
       "    }\n",
       "    if (root.Bokeh !== undefined) {\n",
       "      if (el != null) {\n",
       "        el.textContent = \"BokehJS \" + root.Bokeh.version + \" successfully loaded.\";\n",
       "      }\n",
       "    } else if (Date.now() < root._bokeh_timeout) {\n",
       "      setTimeout(display_loaded, 100)\n",
       "    }\n",
       "  }\n",
       "\n",
       "\n",
       "  function run_callbacks() {\n",
       "    try {\n",
       "      root._bokeh_onload_callbacks.forEach(function(callback) {\n",
       "        if (callback != null)\n",
       "          callback();\n",
       "      });\n",
       "    } finally {\n",
       "      delete root._bokeh_onload_callbacks\n",
       "    }\n",
       "    console.debug(\"Bokeh: all callbacks have finished\");\n",
       "  }\n",
       "\n",
       "  function load_libs(css_urls, js_urls, callback) {\n",
       "    if (css_urls == null) css_urls = [];\n",
       "    if (js_urls == null) js_urls = [];\n",
       "\n",
       "    root._bokeh_onload_callbacks.push(callback);\n",
       "    if (root._bokeh_is_loading > 0) {\n",
       "      console.debug(\"Bokeh: BokehJS is being loaded, scheduling callback at\", now());\n",
       "      return null;\n",
       "    }\n",
       "    if (js_urls == null || js_urls.length === 0) {\n",
       "      run_callbacks();\n",
       "      return null;\n",
       "    }\n",
       "    console.debug(\"Bokeh: BokehJS not loaded, scheduling load and callback at\", now());\n",
       "    root._bokeh_is_loading = css_urls.length + js_urls.length;\n",
       "\n",
       "    function on_load() {\n",
       "      root._bokeh_is_loading--;\n",
       "      if (root._bokeh_is_loading === 0) {\n",
       "        console.debug(\"Bokeh: all BokehJS libraries/stylesheets loaded\");\n",
       "        run_callbacks()\n",
       "      }\n",
       "    }\n",
       "\n",
       "    function on_error() {\n",
       "      console.error(\"failed to load \" + url);\n",
       "    }\n",
       "\n",
       "    for (var i = 0; i < css_urls.length; i++) {\n",
       "      var url = css_urls[i];\n",
       "      const element = document.createElement(\"link\");\n",
       "      element.onload = on_load;\n",
       "      element.onerror = on_error;\n",
       "      element.rel = \"stylesheet\";\n",
       "      element.type = \"text/css\";\n",
       "      element.href = url;\n",
       "      console.debug(\"Bokeh: injecting link tag for BokehJS stylesheet: \", url);\n",
       "      document.body.appendChild(element);\n",
       "    }\n",
       "\n",
       "    const hashes = {\"https://cdn.bokeh.org/bokeh/release/bokeh-2.2.3.min.js\": \"T2yuo9Oe71Cz/I4X9Ac5+gpEa5a8PpJCDlqKYO0CfAuEszu1JrXLl8YugMqYe3sM\", \"https://cdn.bokeh.org/bokeh/release/bokeh-widgets-2.2.3.min.js\": \"98GDGJ0kOMCUMUePhksaQ/GYgB3+NH9h996V88sh3aOiUNX3N+fLXAtry6xctSZ6\", \"https://cdn.bokeh.org/bokeh/release/bokeh-tables-2.2.3.min.js\": \"89bArO+nlbP3sgakeHjCo1JYxYR5wufVgA3IbUvDY+K7w4zyxJqssu7wVnfeKCq8\"};\n",
       "\n",
       "    for (var i = 0; i < js_urls.length; i++) {\n",
       "      var url = js_urls[i];\n",
       "      var element = document.createElement('script');\n",
       "      element.onload = on_load;\n",
       "      element.onerror = on_error;\n",
       "      element.async = false;\n",
       "      element.src = url;\n",
       "      if (url in hashes) {\n",
       "        element.crossOrigin = \"anonymous\";\n",
       "        element.integrity = \"sha384-\" + hashes[url];\n",
       "      }\n",
       "      console.debug(\"Bokeh: injecting script tag for BokehJS library: \", url);\n",
       "      document.head.appendChild(element);\n",
       "    }\n",
       "  };\n",
       "\n",
       "  function inject_raw_css(css) {\n",
       "    const element = document.createElement(\"style\");\n",
       "    element.appendChild(document.createTextNode(css));\n",
       "    document.body.appendChild(element);\n",
       "  }\n",
       "\n",
       "  \n",
       "  var js_urls = [\"https://cdn.bokeh.org/bokeh/release/bokeh-2.2.3.min.js\", \"https://cdn.bokeh.org/bokeh/release/bokeh-widgets-2.2.3.min.js\", \"https://cdn.bokeh.org/bokeh/release/bokeh-tables-2.2.3.min.js\"];\n",
       "  var css_urls = [];\n",
       "  \n",
       "\n",
       "  var inline_js = [\n",
       "    function(Bokeh) {\n",
       "      Bokeh.set_log_level(\"info\");\n",
       "    },\n",
       "    function(Bokeh) {\n",
       "    \n",
       "    \n",
       "    }\n",
       "  ];\n",
       "\n",
       "  function run_inline_js() {\n",
       "    \n",
       "    if (root.Bokeh !== undefined || force === true) {\n",
       "      \n",
       "    for (var i = 0; i < inline_js.length; i++) {\n",
       "      inline_js[i].call(root, root.Bokeh);\n",
       "    }\n",
       "    if (force === true) {\n",
       "        display_loaded();\n",
       "      }} else if (Date.now() < root._bokeh_timeout) {\n",
       "      setTimeout(run_inline_js, 100);\n",
       "    } else if (!root._bokeh_failed_load) {\n",
       "      console.log(\"Bokeh: BokehJS failed to load within specified timeout.\");\n",
       "      root._bokeh_failed_load = true;\n",
       "    } else if (force !== true) {\n",
       "      var cell = $(document.getElementById(\"1101\")).parents('.cell').data().cell;\n",
       "      cell.output_area.append_execute_result(NB_LOAD_WARNING)\n",
       "    }\n",
       "\n",
       "  }\n",
       "\n",
       "  if (root._bokeh_is_loading === 0) {\n",
       "    console.debug(\"Bokeh: BokehJS loaded, going straight to plotting\");\n",
       "    run_inline_js();\n",
       "  } else {\n",
       "    load_libs(css_urls, js_urls, function() {\n",
       "      console.debug(\"Bokeh: BokehJS plotting callback run at\", now());\n",
       "      run_inline_js();\n",
       "    });\n",
       "  }\n",
       "}(window));"
      ],
      "application/vnd.bokehjs_load.v0+json": "\n(function(root) {\n  function now() {\n    return new Date();\n  }\n\n  var force = true;\n\n  if (typeof root._bokeh_onload_callbacks === \"undefined\" || force === true) {\n    root._bokeh_onload_callbacks = [];\n    root._bokeh_is_loading = undefined;\n  }\n\n  \n\n  \n  if (typeof (root._bokeh_timeout) === \"undefined\" || force === true) {\n    root._bokeh_timeout = Date.now() + 5000;\n    root._bokeh_failed_load = false;\n  }\n\n  var NB_LOAD_WARNING = {'data': {'text/html':\n     \"<div style='background-color: #fdd'>\\n\"+\n     \"<p>\\n\"+\n     \"BokehJS does not appear to have successfully loaded. If loading BokehJS from CDN, this \\n\"+\n     \"may be due to a slow or bad network connection. Possible fixes:\\n\"+\n     \"</p>\\n\"+\n     \"<ul>\\n\"+\n     \"<li>re-rerun `output_notebook()` to attempt to load from CDN again, or</li>\\n\"+\n     \"<li>use INLINE resources instead, as so:</li>\\n\"+\n     \"</ul>\\n\"+\n     \"<code>\\n\"+\n     \"from bokeh.resources import INLINE\\n\"+\n     \"output_notebook(resources=INLINE)\\n\"+\n     \"</code>\\n\"+\n     \"</div>\"}};\n\n  function display_loaded() {\n    var el = document.getElementById(\"1101\");\n    if (el != null) {\n      el.textContent = \"BokehJS is loading...\";\n    }\n    if (root.Bokeh !== undefined) {\n      if (el != null) {\n        el.textContent = \"BokehJS \" + root.Bokeh.version + \" successfully loaded.\";\n      }\n    } else if (Date.now() < root._bokeh_timeout) {\n      setTimeout(display_loaded, 100)\n    }\n  }\n\n\n  function run_callbacks() {\n    try {\n      root._bokeh_onload_callbacks.forEach(function(callback) {\n        if (callback != null)\n          callback();\n      });\n    } finally {\n      delete root._bokeh_onload_callbacks\n    }\n    console.debug(\"Bokeh: all callbacks have finished\");\n  }\n\n  function load_libs(css_urls, js_urls, callback) {\n    if (css_urls == null) css_urls = [];\n    if (js_urls == null) js_urls = [];\n\n    root._bokeh_onload_callbacks.push(callback);\n    if (root._bokeh_is_loading > 0) {\n      console.debug(\"Bokeh: BokehJS is being loaded, scheduling callback at\", now());\n      return null;\n    }\n    if (js_urls == null || js_urls.length === 0) {\n      run_callbacks();\n      return null;\n    }\n    console.debug(\"Bokeh: BokehJS not loaded, scheduling load and callback at\", now());\n    root._bokeh_is_loading = css_urls.length + js_urls.length;\n\n    function on_load() {\n      root._bokeh_is_loading--;\n      if (root._bokeh_is_loading === 0) {\n        console.debug(\"Bokeh: all BokehJS libraries/stylesheets loaded\");\n        run_callbacks()\n      }\n    }\n\n    function on_error() {\n      console.error(\"failed to load \" + url);\n    }\n\n    for (var i = 0; i < css_urls.length; i++) {\n      var url = css_urls[i];\n      const element = document.createElement(\"link\");\n      element.onload = on_load;\n      element.onerror = on_error;\n      element.rel = \"stylesheet\";\n      element.type = \"text/css\";\n      element.href = url;\n      console.debug(\"Bokeh: injecting link tag for BokehJS stylesheet: \", url);\n      document.body.appendChild(element);\n    }\n\n    const hashes = {\"https://cdn.bokeh.org/bokeh/release/bokeh-2.2.3.min.js\": \"T2yuo9Oe71Cz/I4X9Ac5+gpEa5a8PpJCDlqKYO0CfAuEszu1JrXLl8YugMqYe3sM\", \"https://cdn.bokeh.org/bokeh/release/bokeh-widgets-2.2.3.min.js\": \"98GDGJ0kOMCUMUePhksaQ/GYgB3+NH9h996V88sh3aOiUNX3N+fLXAtry6xctSZ6\", \"https://cdn.bokeh.org/bokeh/release/bokeh-tables-2.2.3.min.js\": \"89bArO+nlbP3sgakeHjCo1JYxYR5wufVgA3IbUvDY+K7w4zyxJqssu7wVnfeKCq8\"};\n\n    for (var i = 0; i < js_urls.length; i++) {\n      var url = js_urls[i];\n      var element = document.createElement('script');\n      element.onload = on_load;\n      element.onerror = on_error;\n      element.async = false;\n      element.src = url;\n      if (url in hashes) {\n        element.crossOrigin = \"anonymous\";\n        element.integrity = \"sha384-\" + hashes[url];\n      }\n      console.debug(\"Bokeh: injecting script tag for BokehJS library: \", url);\n      document.head.appendChild(element);\n    }\n  };\n\n  function inject_raw_css(css) {\n    const element = document.createElement(\"style\");\n    element.appendChild(document.createTextNode(css));\n    document.body.appendChild(element);\n  }\n\n  \n  var js_urls = [\"https://cdn.bokeh.org/bokeh/release/bokeh-2.2.3.min.js\", \"https://cdn.bokeh.org/bokeh/release/bokeh-widgets-2.2.3.min.js\", \"https://cdn.bokeh.org/bokeh/release/bokeh-tables-2.2.3.min.js\"];\n  var css_urls = [];\n  \n\n  var inline_js = [\n    function(Bokeh) {\n      Bokeh.set_log_level(\"info\");\n    },\n    function(Bokeh) {\n    \n    \n    }\n  ];\n\n  function run_inline_js() {\n    \n    if (root.Bokeh !== undefined || force === true) {\n      \n    for (var i = 0; i < inline_js.length; i++) {\n      inline_js[i].call(root, root.Bokeh);\n    }\n    if (force === true) {\n        display_loaded();\n      }} else if (Date.now() < root._bokeh_timeout) {\n      setTimeout(run_inline_js, 100);\n    } else if (!root._bokeh_failed_load) {\n      console.log(\"Bokeh: BokehJS failed to load within specified timeout.\");\n      root._bokeh_failed_load = true;\n    } else if (force !== true) {\n      var cell = $(document.getElementById(\"1101\")).parents('.cell').data().cell;\n      cell.output_area.append_execute_result(NB_LOAD_WARNING)\n    }\n\n  }\n\n  if (root._bokeh_is_loading === 0) {\n    console.debug(\"Bokeh: BokehJS loaded, going straight to plotting\");\n    run_inline_js();\n  } else {\n    load_libs(css_urls, js_urls, function() {\n      console.debug(\"Bokeh: BokehJS plotting callback run at\", now());\n      run_inline_js();\n    });\n  }\n}(window));"
     },
     "metadata": {},
     "output_type": "display_data"
    },
    {
     "data": {
      "text/html": [
       "\n",
       "\n",
       "\n",
       "\n",
       "\n",
       "\n",
       "  <div class=\"bk-root\" id=\"268834a4-8054-46eb-a731-20b8e97841d4\" data-root-id=\"1102\"></div>\n"
      ]
     },
     "metadata": {},
     "output_type": "display_data"
    },
    {
     "data": {
      "application/javascript": [
       "(function(root) {\n",
       "  function embed_document(root) {\n",
       "    \n",
       "  var docs_json = {\"7facdebe-89c4-45cd-873c-c70836d4cc08\":{\"roots\":{\"references\":[{\"attributes\":{\"below\":[{\"id\":\"1111\"}],\"center\":[{\"id\":\"1114\"},{\"id\":\"1118\"}],\"left\":[{\"id\":\"1115\"}],\"plot_height\":300,\"plot_width\":500,\"renderers\":[{\"id\":\"1136\"},{\"id\":\"1141\"},{\"id\":\"1146\"}],\"title\":{\"id\":\"1156\"},\"toolbar\":{\"id\":\"1126\"},\"toolbar_location\":\"below\",\"x_range\":{\"id\":\"1103\"},\"x_scale\":{\"id\":\"1107\"},\"y_range\":{\"id\":\"1105\"},\"y_scale\":{\"id\":\"1109\"}},\"id\":\"1102\",\"subtype\":\"Figure\",\"type\":\"Plot\"},{\"attributes\":{\"line_alpha\":0.1,\"line_color\":\"blue\",\"line_width\":3,\"x\":{\"field\":\"x\"},\"y\":{\"field\":\"y\"}},\"id\":\"1140\",\"type\":\"Line\"},{\"attributes\":{\"source\":{\"id\":\"1138\"}},\"id\":\"1142\",\"type\":\"CDSView\"},{\"attributes\":{\"line_color\":\"yellow\",\"line_width\":3,\"x\":{\"field\":\"x\"},\"y\":{\"field\":\"y\"}},\"id\":\"1144\",\"type\":\"Line\"},{\"attributes\":{},\"id\":\"1160\",\"type\":\"BasicTickFormatter\"},{\"attributes\":{},\"id\":\"1103\",\"type\":\"DataRange1d\"},{\"attributes\":{\"line_alpha\":0.1,\"line_color\":\"red\",\"line_width\":3,\"x\":{\"field\":\"x\"},\"y\":{\"field\":\"y\"}},\"id\":\"1135\",\"type\":\"Line\"},{\"attributes\":{},\"id\":\"1105\",\"type\":\"DataRange1d\"},{\"attributes\":{\"data\":{\"x\":{\"__ndarray__\":\"AAAAAAEAAAACAAAAAwAAAAQAAAAFAAAABgAAAAcAAAAIAAAACQAAAA==\",\"dtype\":\"int32\",\"order\":\"little\",\"shape\":[10]},\"y\":{\"__ndarray__\":\"pGfxH9HW0j/pgFUQobPmP1jIFXSVxtw/ullLKDbx5T8AwmDmpP5VP/KrcYWmieI/5i5EipFa5D/s8TUayGbDP6CAppQjJ80/HFzABzx5zj8=\",\"dtype\":\"float64\",\"order\":\"little\",\"shape\":[10]}},\"selected\":{\"id\":\"1162\"},\"selection_policy\":{\"id\":\"1163\"}},\"id\":\"1133\",\"type\":\"ColumnDataSource\"},{\"attributes\":{\"data\":{\"x\":{\"__ndarray__\":\"AAAAAAEAAAACAAAAAwAAAAQAAAAFAAAABgAAAAcAAAAIAAAACQAAAA==\",\"dtype\":\"int32\",\"order\":\"little\",\"shape\":[10]},\"y\":{\"__ndarray__\":\"oKylZ/0v3T9gNVJHpQbJP5Rww4iTL+I/c17ln+ib4z+qLPzPquPqP22QR7lv5+o/CIjuFeoyzT/sRmwgzlzTP9Uf92mbz+o/ckMh4AoU0j8=\",\"dtype\":\"float64\",\"order\":\"little\",\"shape\":[10]}},\"selected\":{\"id\":\"1166\"},\"selection_policy\":{\"id\":\"1167\"}},\"id\":\"1143\",\"type\":\"ColumnDataSource\"},{\"attributes\":{\"source\":{\"id\":\"1143\"}},\"id\":\"1147\",\"type\":\"CDSView\"},{\"attributes\":{},\"id\":\"1116\",\"type\":\"BasicTicker\"},{\"attributes\":{\"line_alpha\":0.1,\"line_color\":\"yellow\",\"line_width\":3,\"x\":{\"field\":\"x\"},\"y\":{\"field\":\"y\"}},\"id\":\"1145\",\"type\":\"Line\"},{\"attributes\":{},\"id\":\"1162\",\"type\":\"Selection\"},{\"attributes\":{},\"id\":\"1163\",\"type\":\"UnionRenderers\"},{\"attributes\":{\"data\":{\"x\":{\"__ndarray__\":\"AAAAAAEAAAACAAAAAwAAAAQAAAAFAAAABgAAAAcAAAAIAAAACQAAAA==\",\"dtype\":\"int32\",\"order\":\"little\",\"shape\":[10]},\"y\":{\"__ndarray__\":\"BKAfuY4C4T+gVrlkD9zPP27yfrPxM+s/KkMrFvf13T+ERtCGkn/RP3hd+TCO4b0/xYNRttAg4j/ovMSFKyLNP2z39fCMQcQ/dJhUkkKS1T8=\",\"dtype\":\"float64\",\"order\":\"little\",\"shape\":[10]}},\"selected\":{\"id\":\"1164\"},\"selection_policy\":{\"id\":\"1165\"}},\"id\":\"1138\",\"type\":\"ColumnDataSource\"},{\"attributes\":{\"text\":\"\"},\"id\":\"1156\",\"type\":\"Title\"},{\"attributes\":{\"bottom_units\":\"screen\",\"fill_alpha\":0.5,\"fill_color\":\"lightgrey\",\"left_units\":\"screen\",\"level\":\"overlay\",\"line_alpha\":1.0,\"line_color\":\"black\",\"line_dash\":[4,4],\"line_width\":2,\"right_units\":\"screen\",\"top_units\":\"screen\"},\"id\":\"1125\",\"type\":\"BoxAnnotation\"},{\"attributes\":{\"data_source\":{\"id\":\"1138\"},\"glyph\":{\"id\":\"1139\"},\"hover_glyph\":null,\"muted_glyph\":null,\"nonselection_glyph\":{\"id\":\"1140\"},\"selection_glyph\":null,\"view\":{\"id\":\"1142\"}},\"id\":\"1141\",\"type\":\"GlyphRenderer\"},{\"attributes\":{\"axis\":{\"id\":\"1115\"},\"dimension\":1,\"ticker\":null},\"id\":\"1118\",\"type\":\"Grid\"},{\"attributes\":{},\"id\":\"1124\",\"type\":\"HelpTool\"},{\"attributes\":{\"formatter\":{\"id\":\"1160\"},\"ticker\":{\"id\":\"1116\"}},\"id\":\"1115\",\"type\":\"LinearAxis\"},{\"attributes\":{},\"id\":\"1107\",\"type\":\"LinearScale\"},{\"attributes\":{},\"id\":\"1158\",\"type\":\"BasicTickFormatter\"},{\"attributes\":{\"formatter\":{\"id\":\"1158\"},\"ticker\":{\"id\":\"1112\"}},\"id\":\"1111\",\"type\":\"LinearAxis\"},{\"attributes\":{},\"id\":\"1123\",\"type\":\"ResetTool\"},{\"attributes\":{},\"id\":\"1164\",\"type\":\"Selection\"},{\"attributes\":{},\"id\":\"1165\",\"type\":\"UnionRenderers\"},{\"attributes\":{},\"id\":\"1112\",\"type\":\"BasicTicker\"},{\"attributes\":{},\"id\":\"1109\",\"type\":\"LinearScale\"},{\"attributes\":{\"axis\":{\"id\":\"1111\"},\"ticker\":null},\"id\":\"1114\",\"type\":\"Grid\"},{\"attributes\":{\"data_source\":{\"id\":\"1143\"},\"glyph\":{\"id\":\"1144\"},\"hover_glyph\":null,\"muted_glyph\":null,\"nonselection_glyph\":{\"id\":\"1145\"},\"selection_glyph\":null,\"view\":{\"id\":\"1147\"}},\"id\":\"1146\",\"type\":\"GlyphRenderer\"},{\"attributes\":{},\"id\":\"1122\",\"type\":\"SaveTool\"},{\"attributes\":{},\"id\":\"1120\",\"type\":\"WheelZoomTool\"},{\"attributes\":{\"active_drag\":\"auto\",\"active_inspect\":\"auto\",\"active_multi\":null,\"active_scroll\":\"auto\",\"active_tap\":\"auto\",\"tools\":[{\"id\":\"1119\"},{\"id\":\"1120\"},{\"id\":\"1121\"},{\"id\":\"1122\"},{\"id\":\"1123\"},{\"id\":\"1124\"}]},\"id\":\"1126\",\"type\":\"Toolbar\"},{\"attributes\":{},\"id\":\"1166\",\"type\":\"Selection\"},{\"attributes\":{\"data_source\":{\"id\":\"1133\"},\"glyph\":{\"id\":\"1134\"},\"hover_glyph\":null,\"muted_glyph\":null,\"nonselection_glyph\":{\"id\":\"1135\"},\"selection_glyph\":null,\"view\":{\"id\":\"1137\"}},\"id\":\"1136\",\"type\":\"GlyphRenderer\"},{\"attributes\":{},\"id\":\"1167\",\"type\":\"UnionRenderers\"},{\"attributes\":{\"source\":{\"id\":\"1133\"}},\"id\":\"1137\",\"type\":\"CDSView\"},{\"attributes\":{},\"id\":\"1119\",\"type\":\"PanTool\"},{\"attributes\":{\"overlay\":{\"id\":\"1125\"}},\"id\":\"1121\",\"type\":\"BoxZoomTool\"},{\"attributes\":{\"line_color\":\"blue\",\"line_width\":3,\"x\":{\"field\":\"x\"},\"y\":{\"field\":\"y\"}},\"id\":\"1139\",\"type\":\"Line\"},{\"attributes\":{\"line_color\":\"red\",\"line_width\":3,\"x\":{\"field\":\"x\"},\"y\":{\"field\":\"y\"}},\"id\":\"1134\",\"type\":\"Line\"}],\"root_ids\":[\"1102\"]},\"title\":\"Bokeh Application\",\"version\":\"2.2.3\"}};\n",
       "  var render_items = [{\"docid\":\"7facdebe-89c4-45cd-873c-c70836d4cc08\",\"root_ids\":[\"1102\"],\"roots\":{\"1102\":\"268834a4-8054-46eb-a731-20b8e97841d4\"}}];\n",
       "  root.Bokeh.embed.embed_items_notebook(docs_json, render_items);\n",
       "\n",
       "  }\n",
       "  if (root.Bokeh !== undefined) {\n",
       "    embed_document(root);\n",
       "  } else {\n",
       "    var attempts = 0;\n",
       "    var timer = setInterval(function(root) {\n",
       "      if (root.Bokeh !== undefined) {\n",
       "        clearInterval(timer);\n",
       "        embed_document(root);\n",
       "      } else {\n",
       "        attempts++;\n",
       "        if (attempts > 100) {\n",
       "          clearInterval(timer);\n",
       "          console.log(\"Bokeh: ERROR: Unable to run BokehJS code because BokehJS library is missing\");\n",
       "        }\n",
       "      }\n",
       "    }, 10, root)\n",
       "  }\n",
       "})(window);"
      ],
      "application/vnd.bokehjs_exec.v0+json": ""
     },
     "metadata": {
      "application/vnd.bokehjs_exec.v0+json": {
       "id": "1102"
      }
     },
     "output_type": "display_data"
    }
   ],
   "source": [
    "# line plot - multiple lines\n",
    "\n",
    "output_notebook()\n",
    "\n",
    "# data\n",
    "multi_line_x = np.arange(10)\n",
    "multi_line_y1 = np.random.rand(10)\n",
    "multi_line_y2 = np.random.rand(10)\n",
    "multi_line_y3 = np.random.rand(10)\n",
    "\n",
    "# plot \n",
    "multi_line_plot = figure(plot_width=500, plot_height=300, toolbar_location='below')\n",
    "multi_line_plot.line(multi_line_x, multi_line_y1, color='red', line_width=3)\n",
    "multi_line_plot.line(multi_line_x, multi_line_y2, color='blue', line_width=3)\n",
    "multi_line_plot.line(multi_line_x, multi_line_y3, color='yellow', line_width=3)\n",
    "show(multi_line_plot)"
   ]
  },
  {
   "cell_type": "markdown",
   "metadata": {
    "colab_type": "text",
    "id": "ysGyGjP4F2fJ"
   },
   "source": [
    "# Bar Charts"
   ]
  },
  {
   "cell_type": "code",
   "execution_count": 10,
   "metadata": {
    "colab": {
     "base_uri": "https://localhost:8080/",
     "height": 647
    },
    "colab_type": "code",
    "id": "g2CC8gbNfluJ",
    "outputId": "79fe3d16-0dde-4b9a-9511-6938fc0a7184"
   },
   "outputs": [
    {
     "data": {
      "text/html": [
       "\n",
       "\n",
       "\n",
       "\n",
       "\n",
       "\n",
       "  <div class=\"bk-root\" id=\"92845e47-f56a-46bd-b5ff-c7705002063f\" data-root-id=\"1234\"></div>\n"
      ]
     },
     "metadata": {},
     "output_type": "display_data"
    },
    {
     "data": {
      "application/javascript": [
       "(function(root) {\n",
       "  function embed_document(root) {\n",
       "    \n",
       "  var docs_json = {\"cadb5fb9-8559-42f1-9f20-2199639c3a62\":{\"roots\":{\"references\":[{\"attributes\":{\"below\":[{\"id\":\"1245\"}],\"center\":[{\"id\":\"1247\"},{\"id\":\"1251\"}],\"left\":[{\"id\":\"1248\"}],\"plot_height\":300,\"renderers\":[{\"id\":\"1269\"}],\"title\":{\"id\":\"1235\"},\"toolbar\":{\"id\":\"1259\"},\"x_range\":{\"id\":\"1237\"},\"x_scale\":{\"id\":\"1241\"},\"y_range\":{\"id\":\"1239\"},\"y_scale\":{\"id\":\"1243\"}},\"id\":\"1234\",\"subtype\":\"Figure\",\"type\":\"Plot\"},{\"attributes\":{\"fill_alpha\":{\"value\":0.1},\"fill_color\":{\"value\":\"blue\"},\"line_alpha\":{\"value\":0.1},\"line_color\":{\"value\":\"blue\"},\"top\":{\"field\":\"top\"},\"width\":{\"value\":0.5},\"x\":{\"field\":\"x\"}},\"id\":\"1268\",\"type\":\"VBar\"},{\"attributes\":{\"data_source\":{\"id\":\"1266\"},\"glyph\":{\"id\":\"1267\"},\"hover_glyph\":null,\"muted_glyph\":null,\"nonselection_glyph\":{\"id\":\"1268\"},\"selection_glyph\":null,\"view\":{\"id\":\"1270\"}},\"id\":\"1269\",\"type\":\"GlyphRenderer\"},{\"attributes\":{\"bottom_units\":\"screen\",\"fill_alpha\":0.5,\"fill_color\":\"lightgrey\",\"left_units\":\"screen\",\"level\":\"overlay\",\"line_alpha\":1.0,\"line_color\":\"black\",\"line_dash\":[4,4],\"line_width\":2,\"right_units\":\"screen\",\"top_units\":\"screen\"},\"id\":\"1258\",\"type\":\"BoxAnnotation\"},{\"attributes\":{},\"id\":\"1298\",\"type\":\"UnionRenderers\"},{\"attributes\":{\"fill_color\":{\"value\":\"blue\"},\"line_color\":{\"value\":\"blue\"},\"top\":{\"field\":\"top\"},\"width\":{\"value\":0.5},\"x\":{\"field\":\"x\"}},\"id\":\"1267\",\"type\":\"VBar\"},{\"attributes\":{},\"id\":\"1293\",\"type\":\"CategoricalTickFormatter\"},{\"attributes\":{\"active_drag\":\"auto\",\"active_inspect\":\"auto\",\"active_multi\":null,\"active_scroll\":\"auto\",\"active_tap\":\"auto\",\"tools\":[{\"id\":\"1252\"},{\"id\":\"1253\"},{\"id\":\"1254\"},{\"id\":\"1255\"},{\"id\":\"1256\"},{\"id\":\"1257\"}]},\"id\":\"1259\",\"type\":\"Toolbar\"},{\"attributes\":{\"text\":\"Bar Plot\"},\"id\":\"1235\",\"type\":\"Title\"},{\"attributes\":{\"data\":{\"top\":{\"__ndarray__\":\"yaSAHgmwF0BogDwTI8YDQJX8/KdnjSFAknC8UhGx9z+XZuu22OkVQA==\",\"dtype\":\"float64\",\"order\":\"little\",\"shape\":[5]},\"x\":[\"category1\",\"category2\",\"category3\",\"category4\",\"category5\"]},\"selected\":{\"id\":\"1297\"},\"selection_policy\":{\"id\":\"1298\"}},\"id\":\"1266\",\"type\":\"ColumnDataSource\"},{\"attributes\":{\"overlay\":{\"id\":\"1258\"}},\"id\":\"1254\",\"type\":\"BoxZoomTool\"},{\"attributes\":{\"axis_label\":\"x\",\"formatter\":{\"id\":\"1293\"},\"ticker\":{\"id\":\"1246\"}},\"id\":\"1245\",\"type\":\"CategoricalAxis\"},{\"attributes\":{\"source\":{\"id\":\"1266\"}},\"id\":\"1270\",\"type\":\"CDSView\"},{\"attributes\":{\"factors\":[\"category3\",\"category1\",\"category5\",\"category2\",\"category4\"]},\"id\":\"1237\",\"type\":\"FactorRange\"},{\"attributes\":{\"start\":0},\"id\":\"1239\",\"type\":\"DataRange1d\"},{\"attributes\":{},\"id\":\"1241\",\"type\":\"CategoricalScale\"},{\"attributes\":{},\"id\":\"1243\",\"type\":\"LinearScale\"},{\"attributes\":{},\"id\":\"1246\",\"type\":\"CategoricalTicker\"},{\"attributes\":{},\"id\":\"1297\",\"type\":\"Selection\"},{\"attributes\":{\"axis\":{\"id\":\"1245\"},\"ticker\":null},\"id\":\"1247\",\"type\":\"Grid\"},{\"attributes\":{},\"id\":\"1253\",\"type\":\"WheelZoomTool\"},{\"attributes\":{},\"id\":\"1295\",\"type\":\"BasicTickFormatter\"},{\"attributes\":{\"axis_label\":\"y\",\"formatter\":{\"id\":\"1295\"},\"ticker\":{\"id\":\"1249\"}},\"id\":\"1248\",\"type\":\"LinearAxis\"},{\"attributes\":{\"axis\":{\"id\":\"1248\"},\"dimension\":1,\"ticker\":null},\"id\":\"1251\",\"type\":\"Grid\"},{\"attributes\":{},\"id\":\"1249\",\"type\":\"BasicTicker\"},{\"attributes\":{},\"id\":\"1257\",\"type\":\"HelpTool\"},{\"attributes\":{},\"id\":\"1252\",\"type\":\"PanTool\"},{\"attributes\":{},\"id\":\"1255\",\"type\":\"SaveTool\"},{\"attributes\":{},\"id\":\"1256\",\"type\":\"ResetTool\"}],\"root_ids\":[\"1234\"]},\"title\":\"Bokeh Application\",\"version\":\"2.2.3\"}};\n",
       "  var render_items = [{\"docid\":\"cadb5fb9-8559-42f1-9f20-2199639c3a62\",\"root_ids\":[\"1234\"],\"roots\":{\"1234\":\"92845e47-f56a-46bd-b5ff-c7705002063f\"}}];\n",
       "  root.Bokeh.embed.embed_items_notebook(docs_json, render_items);\n",
       "\n",
       "  }\n",
       "  if (root.Bokeh !== undefined) {\n",
       "    embed_document(root);\n",
       "  } else {\n",
       "    var attempts = 0;\n",
       "    var timer = setInterval(function(root) {\n",
       "      if (root.Bokeh !== undefined) {\n",
       "        clearInterval(timer);\n",
       "        embed_document(root);\n",
       "      } else {\n",
       "        attempts++;\n",
       "        if (attempts > 100) {\n",
       "          clearInterval(timer);\n",
       "          console.log(\"Bokeh: ERROR: Unable to run BokehJS code because BokehJS library is missing\");\n",
       "        }\n",
       "      }\n",
       "    }, 10, root)\n",
       "  }\n",
       "})(window);"
      ],
      "application/vnd.bokehjs_exec.v0+json": ""
     },
     "metadata": {
      "application/vnd.bokehjs_exec.v0+json": {
       "id": "1234"
      }
     },
     "output_type": "display_data"
    }
   ],
   "source": [
    "# bar chart\n",
    "\n",
    "# data\n",
    "x_bar = ['category1', 'category2', 'category3', 'category4', 'category5']\n",
    "y_bar = np.random.rand(5)*10\n",
    "\n",
    "# sort data (sort x by its cooresponding y)\n",
    "sorted_categories = sorted(x_bar, key=lambda x: y_bar[x_bar.index(x)], reverse=True)\n",
    "\n",
    "# plot\n",
    "bar_chart = figure(x_range=sorted_categories, title='Bar Plot', x_axis_label='x', y_axis_label='y', plot_height=300)\n",
    "bar_chart.vbar(x_bar, top=y_bar, color='blue', width=0.5)\n",
    "bar_chart.y_range.start = 0\n",
    "show(bar_chart)\n",
    "\n",
    "# use hbar for horizontal bar chart"
   ]
  },
  {
   "cell_type": "code",
   "execution_count": 11,
   "metadata": {
    "colab": {},
    "colab_type": "code",
    "id": "QNetkzBhJ0lu"
   },
   "outputs": [
    {
     "data": {
      "text/html": [
       "\n",
       "\n",
       "\n",
       "\n",
       "\n",
       "\n",
       "  <div class=\"bk-root\" id=\"270d0b92-ea87-4d38-9836-0c8dc2ac81a0\" data-root-id=\"1341\"></div>\n"
      ]
     },
     "metadata": {},
     "output_type": "display_data"
    },
    {
     "data": {
      "application/javascript": [
       "(function(root) {\n",
       "  function embed_document(root) {\n",
       "    \n",
       "  var docs_json = {\"e0448405-246b-477a-b66b-898ec479012b\":{\"roots\":{\"references\":[{\"attributes\":{\"below\":[{\"id\":\"1352\"}],\"center\":[{\"id\":\"1355\"},{\"id\":\"1359\"}],\"left\":[{\"id\":\"1356\"}],\"plot_height\":300,\"renderers\":[{\"id\":\"1381\"},{\"id\":\"1386\"}],\"title\":{\"id\":\"1342\"},\"toolbar\":{\"id\":\"1367\"},\"x_range\":{\"id\":\"1344\"},\"x_scale\":{\"id\":\"1348\"},\"y_range\":{\"id\":\"1346\"},\"y_scale\":{\"id\":\"1350\"}},\"id\":\"1341\",\"subtype\":\"Figure\",\"type\":\"Plot\"},{\"attributes\":{\"data_source\":{\"id\":\"1340\"},\"glyph\":{\"id\":\"1379\"},\"hover_glyph\":null,\"muted_glyph\":null,\"name\":\"x1\",\"nonselection_glyph\":{\"id\":\"1380\"},\"selection_glyph\":null,\"view\":{\"id\":\"1382\"}},\"id\":\"1381\",\"type\":\"GlyphRenderer\"},{\"attributes\":{},\"id\":\"1350\",\"type\":\"LinearScale\"},{\"attributes\":{},\"id\":\"1423\",\"type\":\"UnionRenderers\"},{\"attributes\":{\"fields\":[\"x1\"]},\"id\":\"1376\",\"type\":\"Stack\"},{\"attributes\":{},\"id\":\"1363\",\"type\":\"SaveTool\"},{\"attributes\":{\"source\":{\"id\":\"1340\"}},\"id\":\"1382\",\"type\":\"CDSView\"},{\"attributes\":{\"fields\":[\"x1\",\"x2\"]},\"id\":\"1377\",\"type\":\"Stack\"},{\"attributes\":{\"fill_alpha\":{\"value\":0.1},\"fill_color\":{\"value\":\"grey\"},\"height\":{\"value\":0.8},\"left\":{\"expr\":{\"id\":\"1374\"}},\"line_alpha\":{\"value\":0.1},\"line_color\":{\"value\":\"grey\"},\"right\":{\"expr\":{\"id\":\"1375\"}},\"y\":{\"field\":\"y\"}},\"id\":\"1380\",\"type\":\"HBar\"},{\"attributes\":{\"fill_color\":{\"value\":\"grey\"},\"height\":{\"value\":0.8},\"left\":{\"expr\":{\"id\":\"1374\"}},\"line_color\":{\"value\":\"grey\"},\"right\":{\"expr\":{\"id\":\"1375\"}},\"y\":{\"field\":\"y\"}},\"id\":\"1379\",\"type\":\"HBar\"},{\"attributes\":{\"formatter\":{\"id\":\"1420\"},\"ticker\":{\"id\":\"1357\"}},\"id\":\"1356\",\"type\":\"LinearAxis\"},{\"attributes\":{\"fill_color\":{\"value\":\"lightgrey\"},\"height\":{\"value\":0.8},\"left\":{\"expr\":{\"id\":\"1376\"}},\"line_color\":{\"value\":\"lightgrey\"},\"right\":{\"expr\":{\"id\":\"1377\"}},\"y\":{\"field\":\"y\"}},\"id\":\"1384\",\"type\":\"HBar\"},{\"attributes\":{\"source\":{\"id\":\"1340\"}},\"id\":\"1387\",\"type\":\"CDSView\"},{\"attributes\":{},\"id\":\"1364\",\"type\":\"ResetTool\"},{\"attributes\":{},\"id\":\"1360\",\"type\":\"PanTool\"},{\"attributes\":{},\"id\":\"1357\",\"type\":\"BasicTicker\"},{\"attributes\":{\"fields\":[\"x1\"]},\"id\":\"1375\",\"type\":\"Stack\"},{\"attributes\":{\"data_source\":{\"id\":\"1340\"},\"glyph\":{\"id\":\"1384\"},\"hover_glyph\":null,\"muted_glyph\":null,\"name\":\"x2\",\"nonselection_glyph\":{\"id\":\"1385\"},\"selection_glyph\":null,\"view\":{\"id\":\"1387\"}},\"id\":\"1386\",\"type\":\"GlyphRenderer\"},{\"attributes\":{},\"id\":\"1418\",\"type\":\"BasicTickFormatter\"},{\"attributes\":{\"fill_alpha\":{\"value\":0.1},\"fill_color\":{\"value\":\"lightgrey\"},\"height\":{\"value\":0.8},\"left\":{\"expr\":{\"id\":\"1376\"}},\"line_alpha\":{\"value\":0.1},\"line_color\":{\"value\":\"lightgrey\"},\"right\":{\"expr\":{\"id\":\"1377\"}},\"y\":{\"field\":\"y\"}},\"id\":\"1385\",\"type\":\"HBar\"},{\"attributes\":{\"active_drag\":\"auto\",\"active_inspect\":\"auto\",\"active_multi\":null,\"active_scroll\":\"auto\",\"active_tap\":\"auto\",\"tools\":[{\"id\":\"1360\"},{\"id\":\"1361\"},{\"id\":\"1362\"},{\"id\":\"1363\"},{\"id\":\"1364\"},{\"id\":\"1365\"}]},\"id\":\"1367\",\"type\":\"Toolbar\"},{\"attributes\":{},\"id\":\"1422\",\"type\":\"Selection\"},{\"attributes\":{\"bottom_units\":\"screen\",\"fill_alpha\":0.5,\"fill_color\":\"lightgrey\",\"left_units\":\"screen\",\"level\":\"overlay\",\"line_alpha\":1.0,\"line_color\":\"black\",\"line_dash\":[4,4],\"line_width\":2,\"right_units\":\"screen\",\"top_units\":\"screen\"},\"id\":\"1366\",\"type\":\"BoxAnnotation\"},{\"attributes\":{\"overlay\":{\"id\":\"1366\"}},\"id\":\"1362\",\"type\":\"BoxZoomTool\"},{\"attributes\":{\"data\":{\"index\":[0,1,2,3,4],\"x1\":[1,2,4,3,4],\"x2\":[1,4,2,2,3],\"y\":[1,2,3,4,5]},\"selected\":{\"id\":\"1422\"},\"selection_policy\":{\"id\":\"1423\"}},\"id\":\"1340\",\"type\":\"ColumnDataSource\"},{\"attributes\":{},\"id\":\"1353\",\"type\":\"BasicTicker\"},{\"attributes\":{},\"id\":\"1365\",\"type\":\"HelpTool\"},{\"attributes\":{\"axis\":{\"id\":\"1352\"},\"ticker\":null},\"id\":\"1355\",\"type\":\"Grid\"},{\"attributes\":{},\"id\":\"1361\",\"type\":\"WheelZoomTool\"},{\"attributes\":{},\"id\":\"1346\",\"type\":\"DataRange1d\"},{\"attributes\":{},\"id\":\"1344\",\"type\":\"DataRange1d\"},{\"attributes\":{},\"id\":\"1420\",\"type\":\"BasicTickFormatter\"},{\"attributes\":{\"fields\":[]},\"id\":\"1374\",\"type\":\"Stack\"},{\"attributes\":{\"text\":\"stacked bar chart\"},\"id\":\"1342\",\"type\":\"Title\"},{\"attributes\":{\"formatter\":{\"id\":\"1418\"},\"ticker\":{\"id\":\"1353\"}},\"id\":\"1352\",\"type\":\"LinearAxis\"},{\"attributes\":{\"axis\":{\"id\":\"1356\"},\"dimension\":1,\"ticker\":null},\"id\":\"1359\",\"type\":\"Grid\"},{\"attributes\":{},\"id\":\"1348\",\"type\":\"LinearScale\"}],\"root_ids\":[\"1341\"]},\"title\":\"Bokeh Application\",\"version\":\"2.2.3\"}};\n",
       "  var render_items = [{\"docid\":\"e0448405-246b-477a-b66b-898ec479012b\",\"root_ids\":[\"1341\"],\"roots\":{\"1341\":\"270d0b92-ea87-4d38-9836-0c8dc2ac81a0\"}}];\n",
       "  root.Bokeh.embed.embed_items_notebook(docs_json, render_items);\n",
       "\n",
       "  }\n",
       "  if (root.Bokeh !== undefined) {\n",
       "    embed_document(root);\n",
       "  } else {\n",
       "    var attempts = 0;\n",
       "    var timer = setInterval(function(root) {\n",
       "      if (root.Bokeh !== undefined) {\n",
       "        clearInterval(timer);\n",
       "        embed_document(root);\n",
       "      } else {\n",
       "        attempts++;\n",
       "        if (attempts > 100) {\n",
       "          clearInterval(timer);\n",
       "          console.log(\"Bokeh: ERROR: Unable to run BokehJS code because BokehJS library is missing\");\n",
       "        }\n",
       "      }\n",
       "    }, 10, root)\n",
       "  }\n",
       "})(window);"
      ],
      "application/vnd.bokehjs_exec.v0+json": ""
     },
     "metadata": {
      "application/vnd.bokehjs_exec.v0+json": {
       "id": "1341"
      }
     },
     "output_type": "display_data"
    }
   ],
   "source": [
    "# stacked bar chart\n",
    "# note - appears to work fine with dataframe or column data source converted dataframe\n",
    "# if dataframe does not work, use column data source\n",
    "\n",
    "stacked_bar_df = pd.DataFrame({'y': [1, 2, 3, 4, 5],\n",
    "                               'x1': [1, 2, 4, 3, 4],\n",
    "                               'x2': [1, 4, 2, 2, 3]})\n",
    "\n",
    "cds_stacked_bar_df = ColumnDataSource(stacked_bar_df)\n",
    "\n",
    "stacked_bar_chart = figure(plot_width=600, plot_height=300, title='stacked bar chart')\n",
    "\n",
    "stacked_bar_chart.hbar_stack(['x1', 'x2'], \n",
    "                             y='y', \n",
    "                             height=0.8, \n",
    "                             color=('grey', 'lightgrey'), \n",
    "                             source=cds_stacked_bar_df)\n",
    "\n",
    "show(stacked_bar_chart)"
   ]
  },
  {
   "cell_type": "code",
   "execution_count": 12,
   "metadata": {},
   "outputs": [
    {
     "name": "stderr",
     "output_type": "stream",
     "text": [
      "BokehDeprecationWarning: 'legend' keyword is deprecated, use explicit 'legend_label', 'legend_field', or 'legend_group' keywords instead\n",
      "BokehDeprecationWarning: 'legend' keyword is deprecated, use explicit 'legend_label', 'legend_field', or 'legend_group' keywords instead\n",
      "BokehDeprecationWarning: 'legend' keyword is deprecated, use explicit 'legend_label', 'legend_field', or 'legend_group' keywords instead\n"
     ]
    },
    {
     "data": {
      "text/html": [
       "\n",
       "\n",
       "\n",
       "\n",
       "\n",
       "\n",
       "  <div class=\"bk-root\" id=\"d84ee766-81c6-44b1-90c0-d7fc67079658\" data-root-id=\"1465\"></div>\n"
      ]
     },
     "metadata": {},
     "output_type": "display_data"
    },
    {
     "data": {
      "application/javascript": [
       "(function(root) {\n",
       "  function embed_document(root) {\n",
       "    \n",
       "  var docs_json = {\"350fe745-64f6-4f77-8cd2-b77e6d70eab1\":{\"roots\":{\"references\":[{\"attributes\":{\"below\":[{\"id\":\"1474\"}],\"center\":[{\"id\":\"1476\"},{\"id\":\"1480\"},{\"id\":\"1513\"}],\"left\":[{\"id\":\"1477\"}],\"plot_height\":250,\"renderers\":[{\"id\":\"1502\"},{\"id\":\"1519\"},{\"id\":\"1537\"}],\"title\":{\"id\":\"1504\"},\"toolbar\":{\"id\":\"1488\"},\"x_range\":{\"id\":\"1466\"},\"x_scale\":{\"id\":\"1470\"},\"y_range\":{\"id\":\"1468\"},\"y_scale\":{\"id\":\"1472\"}},\"id\":\"1465\",\"subtype\":\"Figure\",\"type\":\"Plot\"},{\"attributes\":{},\"id\":\"1508\",\"type\":\"BasicTickFormatter\"},{\"attributes\":{\"range\":{\"id\":\"1466\"},\"value\":0.25},\"id\":\"1497\",\"type\":\"Dodge\"},{\"attributes\":{\"items\":[{\"id\":\"1514\"},{\"id\":\"1532\"},{\"id\":\"1552\"}],\"location\":\"top_left\",\"orientation\":\"horizontal\"},\"id\":\"1513\",\"type\":\"Legend\"},{\"attributes\":{\"fill_alpha\":{\"value\":0.1},\"fill_color\":{\"value\":\"green\"},\"line_alpha\":{\"value\":0.1},\"line_color\":{\"value\":\"green\"},\"top\":{\"field\":\"2017\"},\"width\":{\"value\":0.2},\"x\":{\"field\":\"categories\",\"transform\":{\"id\":\"1497\"}}},\"id\":\"1536\",\"type\":\"VBar\"},{\"attributes\":{\"factors\":[\"category1\",\"category2\",\"category3\"]},\"id\":\"1466\",\"type\":\"FactorRange\"},{\"attributes\":{},\"id\":\"1550\",\"type\":\"UnionRenderers\"},{\"attributes\":{\"label\":{\"value\":\"2015\"},\"renderers\":[{\"id\":\"1502\"}]},\"id\":\"1514\",\"type\":\"LegendItem\"},{\"attributes\":{\"range\":{\"id\":\"1466\"},\"value\":-0.25},\"id\":\"1495\",\"type\":\"Dodge\"},{\"attributes\":{\"data_source\":{\"id\":\"1498\"},\"glyph\":{\"id\":\"1500\"},\"hover_glyph\":null,\"muted_glyph\":null,\"nonselection_glyph\":{\"id\":\"1501\"},\"selection_glyph\":null,\"view\":{\"id\":\"1503\"}},\"id\":\"1502\",\"type\":\"GlyphRenderer\"},{\"attributes\":{\"range\":{\"id\":\"1466\"}},\"id\":\"1496\",\"type\":\"Dodge\"},{\"attributes\":{\"data\":{\"2015\":[2,1,4],\"2016\":[5,3,3],\"2017\":[3,2,4],\"categories\":[\"category1\",\"category2\",\"category3\"],\"index\":[0,1,2]},\"selected\":{\"id\":\"1510\"},\"selection_policy\":{\"id\":\"1511\"}},\"id\":\"1498\",\"type\":\"ColumnDataSource\"},{\"attributes\":{\"text\":\"\"},\"id\":\"1504\",\"type\":\"Title\"},{\"attributes\":{\"data_source\":{\"id\":\"1515\"},\"glyph\":{\"id\":\"1517\"},\"hover_glyph\":null,\"muted_glyph\":null,\"nonselection_glyph\":{\"id\":\"1518\"},\"selection_glyph\":null,\"view\":{\"id\":\"1520\"}},\"id\":\"1519\",\"type\":\"GlyphRenderer\"},{\"attributes\":{\"label\":{\"value\":\"2017\"},\"renderers\":[{\"id\":\"1537\"}]},\"id\":\"1552\",\"type\":\"LegendItem\"},{\"attributes\":{\"data\":{\"2015\":[2,1,4],\"2016\":[5,3,3],\"2017\":[3,2,4],\"categories\":[\"category1\",\"category2\",\"category3\"],\"index\":[0,1,2]},\"selected\":{\"id\":\"1549\"},\"selection_policy\":{\"id\":\"1550\"}},\"id\":\"1533\",\"type\":\"ColumnDataSource\"},{\"attributes\":{\"fill_alpha\":{\"value\":0.1},\"fill_color\":{\"value\":\"blue\"},\"line_alpha\":{\"value\":0.1},\"line_color\":{\"value\":\"blue\"},\"top\":{\"field\":\"2016\"},\"width\":{\"value\":0.2},\"x\":{\"field\":\"categories\",\"transform\":{\"id\":\"1496\"}}},\"id\":\"1518\",\"type\":\"VBar\"},{\"attributes\":{\"fill_color\":{\"value\":\"green\"},\"line_color\":{\"value\":\"green\"},\"top\":{\"field\":\"2017\"},\"width\":{\"value\":0.2},\"x\":{\"field\":\"categories\",\"transform\":{\"id\":\"1497\"}}},\"id\":\"1535\",\"type\":\"VBar\"},{\"attributes\":{\"line_color\":{\"value\":\"gray\"},\"top\":{\"field\":\"2015\"},\"width\":{\"value\":0.2},\"x\":{\"field\":\"categories\",\"transform\":{\"id\":\"1495\"}}},\"id\":\"1500\",\"type\":\"VBar\"},{\"attributes\":{},\"id\":\"1529\",\"type\":\"Selection\"},{\"attributes\":{},\"id\":\"1475\",\"type\":\"CategoricalTicker\"},{\"attributes\":{\"label\":{\"value\":\"2016\"},\"renderers\":[{\"id\":\"1519\"}]},\"id\":\"1532\",\"type\":\"LegendItem\"},{\"attributes\":{},\"id\":\"1470\",\"type\":\"CategoricalScale\"},{\"attributes\":{\"source\":{\"id\":\"1533\"}},\"id\":\"1538\",\"type\":\"CDSView\"},{\"attributes\":{\"bottom_units\":\"screen\",\"fill_alpha\":0.5,\"fill_color\":\"lightgrey\",\"left_units\":\"screen\",\"level\":\"overlay\",\"line_alpha\":1.0,\"line_color\":\"black\",\"line_dash\":[4,4],\"line_width\":2,\"right_units\":\"screen\",\"top_units\":\"screen\"},\"id\":\"1487\",\"type\":\"BoxAnnotation\"},{\"attributes\":{\"end\":10},\"id\":\"1468\",\"type\":\"Range1d\"},{\"attributes\":{},\"id\":\"1549\",\"type\":\"Selection\"},{\"attributes\":{\"formatter\":{\"id\":\"1506\"},\"ticker\":{\"id\":\"1475\"}},\"id\":\"1474\",\"type\":\"CategoricalAxis\"},{\"attributes\":{},\"id\":\"1472\",\"type\":\"LinearScale\"},{\"attributes\":{\"fill_color\":{\"value\":\"blue\"},\"line_color\":{\"value\":\"blue\"},\"top\":{\"field\":\"2016\"},\"width\":{\"value\":0.2},\"x\":{\"field\":\"categories\",\"transform\":{\"id\":\"1496\"}}},\"id\":\"1517\",\"type\":\"VBar\"},{\"attributes\":{},\"id\":\"1486\",\"type\":\"HelpTool\"},{\"attributes\":{\"formatter\":{\"id\":\"1508\"},\"ticker\":{\"id\":\"1478\"}},\"id\":\"1477\",\"type\":\"LinearAxis\"},{\"attributes\":{\"data_source\":{\"id\":\"1533\"},\"glyph\":{\"id\":\"1535\"},\"hover_glyph\":null,\"muted_glyph\":null,\"nonselection_glyph\":{\"id\":\"1536\"},\"selection_glyph\":null,\"view\":{\"id\":\"1538\"}},\"id\":\"1537\",\"type\":\"GlyphRenderer\"},{\"attributes\":{\"axis\":{\"id\":\"1474\"},\"ticker\":null},\"id\":\"1476\",\"type\":\"Grid\"},{\"attributes\":{\"source\":{\"id\":\"1515\"}},\"id\":\"1520\",\"type\":\"CDSView\"},{\"attributes\":{\"axis\":{\"id\":\"1477\"},\"dimension\":1,\"ticker\":null},\"id\":\"1480\",\"type\":\"Grid\"},{\"attributes\":{},\"id\":\"1530\",\"type\":\"UnionRenderers\"},{\"attributes\":{},\"id\":\"1478\",\"type\":\"BasicTicker\"},{\"attributes\":{\"data\":{\"2015\":[2,1,4],\"2016\":[5,3,3],\"2017\":[3,2,4],\"categories\":[\"category1\",\"category2\",\"category3\"],\"index\":[0,1,2]},\"selected\":{\"id\":\"1529\"},\"selection_policy\":{\"id\":\"1530\"}},\"id\":\"1515\",\"type\":\"ColumnDataSource\"},{\"attributes\":{\"active_drag\":\"auto\",\"active_inspect\":\"auto\",\"active_multi\":null,\"active_scroll\":\"auto\",\"active_tap\":\"auto\",\"tools\":[{\"id\":\"1481\"},{\"id\":\"1482\"},{\"id\":\"1483\"},{\"id\":\"1484\"},{\"id\":\"1485\"},{\"id\":\"1486\"}]},\"id\":\"1488\",\"type\":\"Toolbar\"},{\"attributes\":{},\"id\":\"1510\",\"type\":\"Selection\"},{\"attributes\":{},\"id\":\"1482\",\"type\":\"WheelZoomTool\"},{\"attributes\":{},\"id\":\"1511\",\"type\":\"UnionRenderers\"},{\"attributes\":{},\"id\":\"1481\",\"type\":\"PanTool\"},{\"attributes\":{\"overlay\":{\"id\":\"1487\"}},\"id\":\"1483\",\"type\":\"BoxZoomTool\"},{\"attributes\":{},\"id\":\"1484\",\"type\":\"SaveTool\"},{\"attributes\":{},\"id\":\"1485\",\"type\":\"ResetTool\"},{\"attributes\":{\"fill_alpha\":{\"value\":0.1},\"line_alpha\":{\"value\":0.1},\"line_color\":{\"value\":\"gray\"},\"top\":{\"field\":\"2015\"},\"width\":{\"value\":0.2},\"x\":{\"field\":\"categories\",\"transform\":{\"id\":\"1495\"}}},\"id\":\"1501\",\"type\":\"VBar\"},{\"attributes\":{\"source\":{\"id\":\"1498\"}},\"id\":\"1503\",\"type\":\"CDSView\"},{\"attributes\":{},\"id\":\"1506\",\"type\":\"CategoricalTickFormatter\"}],\"root_ids\":[\"1465\"]},\"title\":\"Bokeh Application\",\"version\":\"2.2.3\"}};\n",
       "  var render_items = [{\"docid\":\"350fe745-64f6-4f77-8cd2-b77e6d70eab1\",\"root_ids\":[\"1465\"],\"roots\":{\"1465\":\"d84ee766-81c6-44b1-90c0-d7fc67079658\"}}];\n",
       "  root.Bokeh.embed.embed_items_notebook(docs_json, render_items);\n",
       "\n",
       "  }\n",
       "  if (root.Bokeh !== undefined) {\n",
       "    embed_document(root);\n",
       "  } else {\n",
       "    var attempts = 0;\n",
       "    var timer = setInterval(function(root) {\n",
       "      if (root.Bokeh !== undefined) {\n",
       "        clearInterval(timer);\n",
       "        embed_document(root);\n",
       "      } else {\n",
       "        attempts++;\n",
       "        if (attempts > 100) {\n",
       "          clearInterval(timer);\n",
       "          console.log(\"Bokeh: ERROR: Unable to run BokehJS code because BokehJS library is missing\");\n",
       "        }\n",
       "      }\n",
       "    }, 10, root)\n",
       "  }\n",
       "})(window);"
      ],
      "application/vnd.bokehjs_exec.v0+json": ""
     },
     "metadata": {
      "application/vnd.bokehjs_exec.v0+json": {
       "id": "1465"
      }
     },
     "output_type": "display_data"
    }
   ],
   "source": [
    "# grouped bar chart\n",
    "\n",
    "from bokeh.core.properties import value\n",
    "from bokeh.transform import dodge\n",
    "\n",
    "# data\n",
    "categories = ['category1', 'category2', 'category3']\n",
    "grouped_bar_df = pd.DataFrame({'categories' : categories,\n",
    "                               '2015': [2, 1, 4],\n",
    "                               '2016': [5, 3, 3],\n",
    "                               '2017': [3, 2, 4]})\n",
    "\n",
    "# plot\n",
    "grouped_bar = figure(x_range=categories, y_range=(0, 10), plot_height=250)\n",
    "\n",
    "# offsets bars / bar locations on axis\n",
    "dodge1 = dodge('categories', -0.25, range=grouped_bar.x_range)\n",
    "dodge2 = dodge('categories',  0.0,  range=grouped_bar.x_range)\n",
    "dodge3 = dodge('categories',  0.25, range=grouped_bar.x_range)\n",
    "\n",
    "grouped_bar.vbar(x=dodge1, top='2015', width=0.2, source=grouped_bar_df, color='gray', legend=value('2015'))\n",
    "grouped_bar.vbar(x=dodge2, top='2016', width=0.2, source=grouped_bar_df, color='blue', legend=value('2016'))\n",
    "grouped_bar.vbar(x=dodge3, top='2017', width=0.2, source=grouped_bar_df, color='green', legend=value('2017'))\n",
    "\n",
    "# format legend\n",
    "grouped_bar.legend.location = 'top_left'\n",
    "grouped_bar.legend.orientation = 'horizontal'\n",
    "\n",
    "show(grouped_bar)"
   ]
  },
  {
   "cell_type": "markdown",
   "metadata": {},
   "source": [
    "# Stacked Area Chart"
   ]
  },
  {
   "cell_type": "code",
   "execution_count": 13,
   "metadata": {},
   "outputs": [
    {
     "data": {
      "text/html": [
       "\n",
       "\n",
       "\n",
       "\n",
       "\n",
       "\n",
       "  <div class=\"bk-root\" id=\"d954f20e-a2b3-4f2f-adfe-a9582dde7ab3\" data-root-id=\"1668\"></div>\n"
      ]
     },
     "metadata": {},
     "output_type": "display_data"
    },
    {
     "data": {
      "application/javascript": [
       "(function(root) {\n",
       "  function embed_document(root) {\n",
       "    \n",
       "  var docs_json = {\"9ed9d1e9-e155-4994-903a-212fe1e6c383\":{\"roots\":{\"references\":[{\"attributes\":{\"below\":[{\"id\":\"1677\"}],\"center\":[{\"id\":\"1680\"},{\"id\":\"1684\"}],\"left\":[{\"id\":\"1681\"}],\"plot_height\":300,\"renderers\":[{\"id\":\"1707\"},{\"id\":\"1713\"}],\"title\":{\"id\":\"1765\"},\"toolbar\":{\"id\":\"1692\"},\"x_range\":{\"id\":\"1669\"},\"x_scale\":{\"id\":\"1673\"},\"y_range\":{\"id\":\"1671\"},\"y_scale\":{\"id\":\"1675\"}},\"id\":\"1668\",\"subtype\":\"Figure\",\"type\":\"Plot\"},{\"attributes\":{\"data\":{\"index\":[0,1,2,3,4],\"x\":[1,2,3,4,5],\"y1\":[1,2,4,3,4],\"y2\":[1,4,2,2,3]},\"selected\":{\"id\":\"1771\"},\"selection_policy\":{\"id\":\"1772\"}},\"id\":\"1703\",\"type\":\"ColumnDataSource\"},{\"attributes\":{\"overlay\":{\"id\":\"1691\"}},\"id\":\"1687\",\"type\":\"BoxZoomTool\"},{\"attributes\":{\"fields\":[\"y1\"]},\"id\":\"1701\",\"type\":\"Stack\"},{\"attributes\":{},\"id\":\"1769\",\"type\":\"BasicTickFormatter\"},{\"attributes\":{\"fields\":[\"y1\",\"y2\"]},\"id\":\"1702\",\"type\":\"Stack\"},{\"attributes\":{\"active_drag\":\"auto\",\"active_inspect\":\"auto\",\"active_multi\":null,\"active_scroll\":\"auto\",\"active_tap\":\"auto\",\"tools\":[{\"id\":\"1685\"},{\"id\":\"1686\"},{\"id\":\"1687\"},{\"id\":\"1688\"},{\"id\":\"1689\"},{\"id\":\"1690\"}]},\"id\":\"1692\",\"type\":\"Toolbar\"},{\"attributes\":{\"fill_alpha\":0.1,\"fill_color\":\"green\",\"x\":{\"field\":\"x\"},\"y1\":{\"expr\":{\"id\":\"1699\"}},\"y2\":{\"expr\":{\"id\":\"1700\"}}},\"id\":\"1706\",\"type\":\"VArea\"},{\"attributes\":{\"fields\":[\"y1\"]},\"id\":\"1700\",\"type\":\"Stack\"},{\"attributes\":{},\"id\":\"1690\",\"type\":\"HelpTool\"},{\"attributes\":{},\"id\":\"1774\",\"type\":\"UnionRenderers\"},{\"attributes\":{\"data\":{\"index\":[0,1,2,3,4],\"x\":[1,2,3,4,5],\"y1\":[1,2,4,3,4],\"y2\":[1,4,2,2,3]},\"selected\":{\"id\":\"1773\"},\"selection_policy\":{\"id\":\"1774\"}},\"id\":\"1709\",\"type\":\"ColumnDataSource\"},{\"attributes\":{},\"id\":\"1669\",\"type\":\"DataRange1d\"},{\"attributes\":{\"data_source\":{\"id\":\"1703\"},\"glyph\":{\"id\":\"1705\"},\"hover_glyph\":null,\"muted_glyph\":null,\"name\":\"y1\",\"nonselection_glyph\":{\"id\":\"1706\"},\"selection_glyph\":null,\"view\":{\"id\":\"1708\"}},\"id\":\"1707\",\"type\":\"GlyphRenderer\"},{\"attributes\":{\"bottom_units\":\"screen\",\"fill_alpha\":0.5,\"fill_color\":\"lightgrey\",\"left_units\":\"screen\",\"level\":\"overlay\",\"line_alpha\":1.0,\"line_color\":\"black\",\"line_dash\":[4,4],\"line_width\":2,\"right_units\":\"screen\",\"top_units\":\"screen\"},\"id\":\"1691\",\"type\":\"BoxAnnotation\"},{\"attributes\":{\"fill_color\":\"green\",\"x\":{\"field\":\"x\"},\"y1\":{\"expr\":{\"id\":\"1699\"}},\"y2\":{\"expr\":{\"id\":\"1700\"}}},\"id\":\"1705\",\"type\":\"VArea\"},{\"attributes\":{},\"id\":\"1772\",\"type\":\"UnionRenderers\"},{\"attributes\":{},\"id\":\"1771\",\"type\":\"Selection\"},{\"attributes\":{\"fill_alpha\":0.1,\"fill_color\":\"lightgreen\",\"x\":{\"field\":\"x\"},\"y1\":{\"expr\":{\"id\":\"1701\"}},\"y2\":{\"expr\":{\"id\":\"1702\"}}},\"id\":\"1712\",\"type\":\"VArea\"},{\"attributes\":{\"formatter\":{\"id\":\"1769\"},\"ticker\":{\"id\":\"1682\"}},\"id\":\"1681\",\"type\":\"LinearAxis\"},{\"attributes\":{},\"id\":\"1675\",\"type\":\"LinearScale\"},{\"attributes\":{},\"id\":\"1671\",\"type\":\"DataRange1d\"},{\"attributes\":{\"source\":{\"id\":\"1703\"}},\"id\":\"1708\",\"type\":\"CDSView\"},{\"attributes\":{\"data_source\":{\"id\":\"1709\"},\"glyph\":{\"id\":\"1711\"},\"hover_glyph\":null,\"muted_glyph\":null,\"name\":\"y2\",\"nonselection_glyph\":{\"id\":\"1712\"},\"selection_glyph\":null,\"view\":{\"id\":\"1714\"}},\"id\":\"1713\",\"type\":\"GlyphRenderer\"},{\"attributes\":{},\"id\":\"1673\",\"type\":\"LinearScale\"},{\"attributes\":{\"text\":\"\"},\"id\":\"1765\",\"type\":\"Title\"},{\"attributes\":{\"source\":{\"id\":\"1709\"}},\"id\":\"1714\",\"type\":\"CDSView\"},{\"attributes\":{\"formatter\":{\"id\":\"1767\"},\"ticker\":{\"id\":\"1678\"}},\"id\":\"1677\",\"type\":\"LinearAxis\"},{\"attributes\":{},\"id\":\"1689\",\"type\":\"ResetTool\"},{\"attributes\":{\"fill_color\":\"lightgreen\",\"x\":{\"field\":\"x\"},\"y1\":{\"expr\":{\"id\":\"1701\"}},\"y2\":{\"expr\":{\"id\":\"1702\"}}},\"id\":\"1711\",\"type\":\"VArea\"},{\"attributes\":{},\"id\":\"1678\",\"type\":\"BasicTicker\"},{\"attributes\":{},\"id\":\"1773\",\"type\":\"Selection\"},{\"attributes\":{\"axis\":{\"id\":\"1677\"},\"ticker\":null},\"id\":\"1680\",\"type\":\"Grid\"},{\"attributes\":{\"axis\":{\"id\":\"1681\"},\"dimension\":1,\"ticker\":null},\"id\":\"1684\",\"type\":\"Grid\"},{\"attributes\":{\"fields\":[]},\"id\":\"1699\",\"type\":\"Stack\"},{\"attributes\":{},\"id\":\"1686\",\"type\":\"WheelZoomTool\"},{\"attributes\":{},\"id\":\"1688\",\"type\":\"SaveTool\"},{\"attributes\":{},\"id\":\"1682\",\"type\":\"BasicTicker\"},{\"attributes\":{},\"id\":\"1767\",\"type\":\"BasicTickFormatter\"},{\"attributes\":{},\"id\":\"1685\",\"type\":\"PanTool\"}],\"root_ids\":[\"1668\"]},\"title\":\"Bokeh Application\",\"version\":\"2.2.3\"}};\n",
       "  var render_items = [{\"docid\":\"9ed9d1e9-e155-4994-903a-212fe1e6c383\",\"root_ids\":[\"1668\"],\"roots\":{\"1668\":\"d954f20e-a2b3-4f2f-adfe-a9582dde7ab3\"}}];\n",
       "  root.Bokeh.embed.embed_items_notebook(docs_json, render_items);\n",
       "\n",
       "  }\n",
       "  if (root.Bokeh !== undefined) {\n",
       "    embed_document(root);\n",
       "  } else {\n",
       "    var attempts = 0;\n",
       "    var timer = setInterval(function(root) {\n",
       "      if (root.Bokeh !== undefined) {\n",
       "        clearInterval(timer);\n",
       "        embed_document(root);\n",
       "      } else {\n",
       "        attempts++;\n",
       "        if (attempts > 100) {\n",
       "          clearInterval(timer);\n",
       "          console.log(\"Bokeh: ERROR: Unable to run BokehJS code because BokehJS library is missing\");\n",
       "        }\n",
       "      }\n",
       "    }, 10, root)\n",
       "  }\n",
       "})(window);"
      ],
      "application/vnd.bokehjs_exec.v0+json": ""
     },
     "metadata": {
      "application/vnd.bokehjs_exec.v0+json": {
       "id": "1668"
      }
     },
     "output_type": "display_data"
    }
   ],
   "source": [
    "stacked_area_df = pd.DataFrame({'x': [1, 2, 3, 4, 5],\n",
    "                                'y1': [1, 2, 4, 3, 4],\n",
    "                                'y2': [1, 4, 2, 2, 3]})\n",
    "\n",
    "stacked_area_plot = figure(plot_width=600, plot_height=300)\n",
    "\n",
    "stacked_area_plot.varea_stack(['y1', 'y2'],\n",
    "                              x='x',\n",
    "                              color=('green', 'lightgreen'),\n",
    "                              source=stacked_area_df)\n",
    "\n",
    "show(stacked_area_plot)"
   ]
  },
  {
   "cell_type": "code",
   "execution_count": 14,
   "metadata": {},
   "outputs": [],
   "source": [
    "# stacked_area_plot.varea_stack?"
   ]
  },
  {
   "cell_type": "markdown",
   "metadata": {
    "colab_type": "text",
    "id": "h0zow8J_HRdJ"
   },
   "source": [
    "# Scatter Plots"
   ]
  },
  {
   "cell_type": "code",
   "execution_count": 15,
   "metadata": {
    "colab": {
     "base_uri": "https://localhost:8080/",
     "height": 204
    },
    "colab_type": "code",
    "id": "2EFdzYx0fhUW",
    "outputId": "2bac8924-242e-4cf2-fecc-0d262a9b0e45"
   },
   "outputs": [
    {
     "ename": "NameError",
     "evalue": "name 'vds' is not defined",
     "output_type": "error",
     "traceback": [
      "\u001b[1;31m---------------------------------------------------------------------------\u001b[0m",
      "\u001b[1;31mNameError\u001b[0m                                 Traceback (most recent call last)",
      "\u001b[1;32m<ipython-input-15-dc24ca045e2d>\u001b[0m in \u001b[0;36m<module>\u001b[1;34m\u001b[0m\n\u001b[0;32m      1\u001b[0m \u001b[1;31m# vega data sets cars data\u001b[0m\u001b[1;33m\u001b[0m\u001b[1;33m\u001b[0m\u001b[1;33m\u001b[0m\u001b[0m\n\u001b[1;32m----> 2\u001b[1;33m \u001b[0mcars\u001b[0m \u001b[1;33m=\u001b[0m \u001b[0mvds\u001b[0m\u001b[1;33m.\u001b[0m\u001b[0mcars\u001b[0m\u001b[1;33m(\u001b[0m\u001b[1;33m)\u001b[0m\u001b[1;33m\u001b[0m\u001b[1;33m\u001b[0m\u001b[0m\n\u001b[0m\u001b[0;32m      3\u001b[0m \u001b[0mcars\u001b[0m\u001b[1;33m.\u001b[0m\u001b[0mtail\u001b[0m\u001b[1;33m(\u001b[0m\u001b[1;33m)\u001b[0m\u001b[1;33m\u001b[0m\u001b[1;33m\u001b[0m\u001b[0m\n",
      "\u001b[1;31mNameError\u001b[0m: name 'vds' is not defined"
     ]
    }
   ],
   "source": [
    "# vega data sets cars data\n",
    "cars = vds.cars()\n",
    "cars.tail()"
   ]
  },
  {
   "cell_type": "code",
   "execution_count": null,
   "metadata": {
    "colab": {
     "base_uri": "https://localhost:8080/",
     "height": 347
    },
    "colab_type": "code",
    "id": "OTJC6Ugpg2O5",
    "outputId": "6ffe1e14-66da-4fda-8e8a-37b286d0ce07"
   },
   "outputs": [],
   "source": [
    "# scatter plot\n",
    "\n",
    "# data\n",
    "x_scatter = cars.Weight_in_lbs\n",
    "y_scatter = cars.Miles_per_Gallon\n",
    "\n",
    "# plot \n",
    "scatter_plot = figure(plot_width=500, plot_height=300, x_axis_label='Weight_in_lbs', y_axis_label='Miles_per_Gallon')\n",
    "scatter_plot.circle(x_scatter, y_scatter, size=15, line_color='navy', fill_color='orange', fill_alpha=0.5)\n",
    "show(scatter_plot)"
   ]
  },
  {
   "cell_type": "markdown",
   "metadata": {
    "colab_type": "text",
    "id": "E6mffj8pHRi7"
   },
   "source": [
    "Other scatter plot variations include: cross, x, diamond, diamond_cross, circle_x, circle_cross, triangle, \n",
    "inverted_triangle, square, square_x, square_cross, asterisk"
   ]
  },
  {
   "cell_type": "code",
   "execution_count": null,
   "metadata": {
    "colab": {
     "base_uri": "https://localhost:8080/",
     "height": 204
    },
    "colab_type": "code",
    "id": "pPYAaVM2rZtw",
    "outputId": "2c9830e0-41ca-485d-88c7-a102a4b6898e"
   },
   "outputs": [],
   "source": [
    "# vega data sets iris data\n",
    "iris = vds.iris()\n",
    "iris.tail()"
   ]
  },
  {
   "cell_type": "code",
   "execution_count": null,
   "metadata": {
    "colab": {
     "base_uri": "https://localhost:8080/",
     "height": 447
    },
    "colab_type": "code",
    "id": "9tLMFhgNHeyC",
    "outputId": "6ffe776c-ed2f-41fc-e009-bc27b1b586dc"
   },
   "outputs": [],
   "source": [
    "# scatter plot subgroups using iris data\n",
    "\n",
    "from bokeh.transform import factor_cmap, factor_mark\n",
    "\n",
    "# data\n",
    "# use vega_datasets iris data\n",
    "\n",
    "# plot \n",
    "species = ['setosa', 'versicolor', 'virginica']\n",
    "markers = ['hex', 'cross', 'triangle']\n",
    "\n",
    "scatter_plot_subgroups = figure(plot_width=600, \n",
    "                                plot_height=400, \n",
    "                                title ='Iris', \n",
    "                                x_axis_label='petalLength', \n",
    "                                y_axis_label='petalWidth')\n",
    "\n",
    "scatter_plot_subgroups.scatter(x='petalLength',\n",
    "                               y='petalWidth',\n",
    "                               source=iris,\n",
    "                               legend='species',\n",
    "                               fill_alpha=0.5,\n",
    "                               size=15,\n",
    "                               color=factor_cmap(field_name='species', palette='Dark2_3', factors=species),\n",
    "                               marker=factor_mark('species', markers, species)\n",
    "                              )\n",
    "\n",
    "# move legend\n",
    "scatter_plot_subgroups.legend.location = 'top_left'\n",
    "show(scatter_plot_subgroups)"
   ]
  },
  {
   "cell_type": "code",
   "execution_count": null,
   "metadata": {},
   "outputs": [],
   "source": [
    "# scatter_plot_subgroups.scatter?"
   ]
  },
  {
   "cell_type": "markdown",
   "metadata": {
    "colab_type": "text",
    "id": "VtNjJ-GVFoNl"
   },
   "source": [
    "# Subplots"
   ]
  },
  {
   "cell_type": "code",
   "execution_count": null,
   "metadata": {
    "colab": {
     "base_uri": "https://localhost:8080/",
     "height": 677
    },
    "colab_type": "code",
    "id": "Ynt0mf4sFreV",
    "outputId": "3a3dc3e4-758b-4c64-bf00-9df8e847c98d"
   },
   "outputs": [],
   "source": [
    "from bokeh.layouts import gridplot\n",
    "\n",
    "output_notebook()\n",
    "\n",
    "# data\n",
    "subplot_x1 = cars['Acceleration']; subplot_y1 = cars['Miles_per_Gallon']\n",
    "subplot_x2 = cars['Cylinders']; subplot_y2 = cars['Miles_per_Gallon']\n",
    "subplot_x3 = cars['Horsepower']; subplot_y3 = cars['Miles_per_Gallon']\n",
    "subplot_x4 = cars['Weight_in_lbs']; subplot_y4 = cars['Miles_per_Gallon']\n",
    "\n",
    "# figures\n",
    "subplot1 = figure(plot_width=300, plot_height=300)\n",
    "subplot2 = figure(plot_width=300, plot_height=300)\n",
    "subplot3 = figure(plot_width=300, plot_height=300)\n",
    "subplot4 = figure(plot_width=300, plot_height=300)\n",
    "\n",
    "# plots\n",
    "subplot1.circle(subplot_x1, subplot_y1)\n",
    "subplot2.circle(subplot_x2, subplot_y2)\n",
    "subplot3.circle(subplot_x3, subplot_y3)\n",
    "subplot4.circle(subplot_x4, subplot_y4)\n",
    "\n",
    "# subplots gridplot\n",
    "grid = gridplot([subplot1, subplot2, subplot3, subplot4], ncols=2)\n",
    "\n",
    "# show\n",
    "show(grid)"
   ]
  },
  {
   "cell_type": "markdown",
   "metadata": {},
   "source": [
    "# Link Plots"
   ]
  },
  {
   "cell_type": "code",
   "execution_count": null,
   "metadata": {},
   "outputs": [],
   "source": [
    "from bokeh.layouts import gridplot\n",
    "\n",
    "linked_data_x = np.arange(10)\n",
    "linked_data_y = np.random.rand(10)\n",
    "\n",
    "# linked plot 1\n",
    "linked_plot1 = figure(width=250, height=250)\n",
    "linked_plot1.circle(linked_data_x, linked_data_y)\n",
    "\n",
    "# create new plots and share both ranges\n",
    "linked_plot2 = figure(width=250, height=250, x_range=linked_plot1.x_range, y_range=linked_plot1.y_range)\n",
    "linked_plot2.line(linked_data_x, linked_data_y)\n",
    "\n",
    "linked_plot3 = figure(width=250, height=250, x_range=linked_plot1.x_range, y_range=linked_plot1.y_range)\n",
    "linked_plot3.vbar(linked_data_x, top=linked_data_y, width=0.5)\n",
    "\n",
    "# the subplots in a gridplot\n",
    "linked_gridplot = gridplot([[linked_plot1, linked_plot2, linked_plot3]])\n",
    "\n",
    "# show the results\n",
    "show(linked_gridplot)"
   ]
  },
  {
   "cell_type": "markdown",
   "metadata": {},
   "source": [
    "# Linked Selection - Box Select, Lasso Select"
   ]
  },
  {
   "cell_type": "code",
   "execution_count": null,
   "metadata": {},
   "outputs": [],
   "source": [
    "# data\n",
    "seattle_weather = vds.seattle_weather()\n",
    "seattle_weather.tail()"
   ]
  },
  {
   "cell_type": "code",
   "execution_count": null,
   "metadata": {},
   "outputs": [],
   "source": [
    "from bokeh.transform import factor_cmap, factor_mark\n",
    "\n",
    "TOOLS = 'box_select, lasso_select, reset, wheel_zoom, pan'\n",
    "\n",
    "weather_types = ['drizzle', 'rain', 'sun', 'snow', 'fog']\n",
    "weather_markers = ['hex', 'cross', 'triangle', 'square', 'circle_x']\n",
    "\n",
    "# use ColumnDataSource for linking interactions\n",
    "seattle_weather_source = ColumnDataSource(seattle_weather)\n",
    "\n",
    "# scatter plot 1\n",
    "weather_scatter = figure(plot_width=900, plot_height=300, y_axis_label='Temp', x_axis_type='datetime', tools=TOOLS)\n",
    "weather_scatter.circle('date', 'temp_max', size=15, fill_alpha=0.1, source=seattle_weather_source)\n",
    "\n",
    "# scatter plot 2\n",
    "weather_scatter_zoom = figure(plot_width=900, plot_height=500, x_axis_type='datetime', tools=TOOLS)\n",
    "weather_scatter_zoom.scatter('date', \n",
    "                             'temp_max', \n",
    "                             size=15, \n",
    "                             fill_alpha=0.1,\n",
    "                             color=factor_cmap(field_name='weather', palette='Dark2_5', factors=weather_types),\n",
    "                             marker=factor_mark('weather', weather_markers, weather_types),\n",
    "                             legend='weather',\n",
    "                             source=seattle_weather_source\n",
    "                             )\n",
    "\n",
    "# shared data between plots helps the linked selection to work\n",
    "\n",
    "# format legend\n",
    "weather_scatter_zoom.legend.location = 'top_left'\n",
    "weather_scatter_zoom.legend.orientation = 'horizontal'\n",
    "\n",
    "weather_grid = gridplot([[weather_scatter], [weather_scatter_zoom]])\n",
    "show(weather_grid)"
   ]
  },
  {
   "cell_type": "markdown",
   "metadata": {
    "colab_type": "text",
    "id": "5lkbFHfaUAmY"
   },
   "source": [
    "# Labels and Annotations"
   ]
  },
  {
   "cell_type": "code",
   "execution_count": null,
   "metadata": {
    "colab": {
     "base_uri": "https://localhost:8080/",
     "height": 647
    },
    "colab_type": "code",
    "id": "YC2-Ex3ET_5N",
    "outputId": "3deecc76-79e5-4d85-8055-c6a323a1d06c"
   },
   "outputs": [],
   "source": [
    "from bokeh.models.annotations import Label, LabelSet, Arrow\n",
    "from bokeh.models.arrow_heads import NormalHead\n",
    "\n",
    "output_notebook()\n",
    "\n",
    "# data\n",
    "fig_with_label_data = ColumnDataSource({'x': np.arange(10), \n",
    "                                        'y': [4, 7, 5, 5, 9, 2, 3, 4, 3, 4]})\n",
    "\n",
    "# plot\n",
    "fig_with_label = figure()\n",
    "fig_with_label.line(x='x', y='y', source=fig_with_label_data)\n",
    "\n",
    "# add label\n",
    "label = Label(x=4, y=9, x_offset=10, text='Higest Point', text_baseline='middle')\n",
    "fig_with_label.add_layout(label)\n",
    "\n",
    "# add multiple labels\n",
    "labels = LabelSet(x='x', y='y', text='y', level='glyph', source=fig_with_label_data)\n",
    "fig_with_label.add_layout(labels)\n",
    "\n",
    "# arrow annotation\n",
    "fig_with_label.add_layout(Arrow(end=NormalHead(fill_color='orange'), x_start=5, y_start=7.5, x_end=4.5, y_end=8.8))\n",
    "\n",
    "show(fig_with_label)"
   ]
  },
  {
   "cell_type": "markdown",
   "metadata": {
    "colab_type": "text",
    "id": "AwJxRUYj_9oa"
   },
   "source": [
    "# Color Bar"
   ]
  },
  {
   "cell_type": "code",
   "execution_count": null,
   "metadata": {
    "colab": {
     "base_uri": "https://localhost:8080/",
     "height": 204
    },
    "colab_type": "code",
    "id": "aCH4CksZBF43",
    "outputId": "05946b3e-2132-4764-fe6f-5204d87abfa7"
   },
   "outputs": [],
   "source": [
    "cars.head()"
   ]
  },
  {
   "cell_type": "code",
   "execution_count": null,
   "metadata": {
    "colab": {
     "base_uri": "https://localhost:8080/",
     "height": 447
    },
    "colab_type": "code",
    "id": "NDTdUq8B_8SS",
    "outputId": "adfed17b-56ef-46e5-d034-3a248ec32696"
   },
   "outputs": [],
   "source": [
    "from bokeh.models import LinearColorMapper, ColorBar\n",
    "from bokeh.transform import transform\n",
    "\n",
    "output_notebook()\n",
    "\n",
    "# data\n",
    "# use vega_datasets cars data\n",
    "\n",
    "# map numbers in a range low, high - linearly into a sequence of colors (a palette)\n",
    "color_mapper = LinearColorMapper(palette='Viridis256', low=cars.Weight_in_lbs.min(), high=cars.Weight_in_lbs.max())\n",
    "\n",
    "# plot\n",
    "colorbar_fig = figure(plot_width=600, plot_height=400, x_axis_label='Horsepower', y_axis_label='Miles_per_Gallon')\n",
    "colorbar_fig.circle(x='Horsepower', \n",
    "                    y='Miles_per_Gallon',\n",
    "                    source=cars,\n",
    "                    color=transform('Weight_in_lbs', color_mapper), \n",
    "                    size=15, \n",
    "                    alpha=0.5)\n",
    "\n",
    "# render a color bar based on a color mapper\n",
    "color_bar = ColorBar(color_mapper=color_mapper, label_standoff=12, location=(0,0), title='Weight')\n",
    "colorbar_fig.add_layout(color_bar, 'right')\n",
    "\n",
    "show(colorbar_fig)"
   ]
  },
  {
   "cell_type": "markdown",
   "metadata": {},
   "source": [
    "# Map"
   ]
  },
  {
   "cell_type": "code",
   "execution_count": null,
   "metadata": {},
   "outputs": [],
   "source": [
    "# convert longitude, latitude to mercator coordinates\n",
    "# example - Detroit Michigan 42.334197, -83.047752\n",
    "\n",
    "from pyproj import Proj, transform\n",
    "\n",
    "def create_coordinates(long_arg,lat_arg):\n",
    "    in_wgs = Proj(init='epsg:4326')\n",
    "    out_mercator = Proj(init='epsg:3857')\n",
    "    long, lat = long_arg, lat_arg\n",
    "    mercator_x, mercator_y = transform(in_wgs, out_mercator, long, lat)\n",
    "    print(mercator_x, mercator_y)\n",
    "    \n",
    "# Detroit\n",
    "create_coordinates(-83.047752,42.334197)"
   ]
  },
  {
   "cell_type": "code",
   "execution_count": null,
   "metadata": {},
   "outputs": [],
   "source": [
    "# Cleveland\n",
    "create_coordinates(-81.694703,41.499437)"
   ]
  },
  {
   "cell_type": "code",
   "execution_count": null,
   "metadata": {},
   "outputs": [],
   "source": [
    "# Chicago \n",
    "create_coordinates(-87.629849,41.878111)"
   ]
  },
  {
   "cell_type": "code",
   "execution_count": null,
   "metadata": {},
   "outputs": [],
   "source": [
    "from bokeh.tile_providers import get_provider, Vendors\n",
    "\n",
    "tile_provider = get_provider(Vendors.CARTODBPOSITRON)\n",
    "# tile_provider = get_provider(Vendors.STAMEN_TONER_BACKGROUND)\n",
    "\n",
    "# range bounds supplied in web mercator coordinates\n",
    "m = figure(plot_width=800, \n",
    "           plot_height=400,\n",
    "           x_range=(-12000000, 9000000), \n",
    "           y_range=(-1000000, 7000000), \n",
    "           x_axis_type='mercator', \n",
    "           y_axis_type='mercator')\n",
    "\n",
    "m.add_tile(tile_provider)\n",
    "\n",
    "m.circle(x=-9244833, y=5211172, size=10, color='red')\n",
    "m.circle(x=-9094212, y=5086289, size=10, color='blue')\n",
    "m.circle(x=-9754910, y=5142738, size=10, color='orange')\n",
    "\n",
    "show(m)"
   ]
  },
  {
   "cell_type": "markdown",
   "metadata": {
    "colab_type": "text",
    "id": "TFuk6elUG7h5"
   },
   "source": [
    "# Interactive Widgets"
   ]
  },
  {
   "cell_type": "code",
   "execution_count": null,
   "metadata": {
    "colab": {},
    "colab_type": "code",
    "id": "Y28PkVK_V6v2"
   },
   "outputs": [],
   "source": [
    "# change size of scatter plot circles\n",
    "from bokeh.layouts import column\n",
    "from bokeh.models import Slider\n",
    "\n",
    "# create figure and plot\n",
    "change_plot_size = figure(plot_width=600, plot_height=300)\n",
    "change_plot_size_r = change_plot_size.circle([1,2,3,4,5], [3,2,5,6,4], radius=0.1, alpha=0.5)\n",
    "\n",
    "# create widget and link\n",
    "slider = Slider(start=0.1, end=1, step=0.01, value=0.2)\n",
    "slider.js_link('value', change_plot_size_r.glyph, 'radius')\n",
    "\n",
    "show(column(change_plot_size, slider))"
   ]
  },
  {
   "cell_type": "code",
   "execution_count": null,
   "metadata": {},
   "outputs": [],
   "source": [
    "from sklearn import linear_model\n",
    "from bokeh.layouts import layout\n",
    "from bokeh.models import Toggle\n",
    "import numpy as np\n",
    "\n",
    "output_notebook()\n",
    "\n",
    "# data\n",
    "x = [1,2,3,4,5,6,7,8,9,10]\n",
    "X = np.array(x).reshape(-1, 1)\n",
    "y = [2,2,4,1,5,6,8,2,3,7]\n",
    "Y = np.array(y).reshape(-1, 1)\n",
    "\n",
    "# linear regression object\n",
    "regr = linear_model.LinearRegression()\n",
    "\n",
    "# fit linear model\n",
    "regr.fit(X, Y)\n",
    "\n",
    "# make predictions\n",
    "pred = regr.predict(X)\n",
    "\n",
    "# plot with regression line\n",
    "regr_plot = figure(plot_width=500, plot_height=300)\n",
    "regr_plot.scatter(x, y, size=10)\n",
    "regr_line = regr_plot.line(x, pred.flatten(), line_color='red')\n",
    "\n",
    "toggle_button = Toggle(label='line of best fit', button_type='success', active=True)\n",
    "toggle_button.js_link('active', regr_line, 'visible')\n",
    "\n",
    "show(layout([regr_plot], [toggle_button]))"
   ]
  },
  {
   "cell_type": "code",
   "execution_count": null,
   "metadata": {},
   "outputs": [],
   "source": [
    "# slider.js_link?"
   ]
  },
  {
   "cell_type": "markdown",
   "metadata": {},
   "source": [
    "# Interactive Widgets with ipywidgets"
   ]
  },
  {
   "cell_type": "code",
   "execution_count": null,
   "metadata": {},
   "outputs": [],
   "source": [
    "seattle_weather['year'] = pd.DatetimeIndex(seattle_weather['date']).year\n",
    "seattle_weather.tail()"
   ]
  },
  {
   "cell_type": "code",
   "execution_count": null,
   "metadata": {},
   "outputs": [],
   "source": [
    "import ipywidgets\n",
    "from bokeh.io import push_notebook\n",
    "from bokeh.models import Range1d\n",
    "\n",
    "sw = seattle_weather.copy()\n",
    "\n",
    "# widget\n",
    "drop_down = ipywidgets.Dropdown(options=[2012, 2013, 2014, 2015],\n",
    "                                value=2012,\n",
    "                                description='years:',\n",
    "                                disabled=False)\n",
    "\n",
    "# data\n",
    "x_bar_data_ipyw = ['precipitation', 'temp_max', 'temp_min', 'wind']\n",
    "y_bar_data_ipyw = [sw[sw.year==2012]['precipitation'].mean(), \n",
    "                   sw[sw.year==2012]['temp_max'].mean(), \n",
    "                   sw[sw.year==2012]['temp_min'].mean(), \n",
    "                   sw[sw.year==2012]['wind'].mean()]\n",
    "    \n",
    "# figure and plot\n",
    "bar_chart_interactive = figure(x_range=x_bar_data_ipyw, plot_height=300)\n",
    "bar_ipyw = bar_chart_interactive.vbar(x_bar_data_ipyw, top=y_bar_data_ipyw, color='green', width=0.5)\n",
    "bar_chart_interactive.y_range=Range1d(0, 18)\n",
    "\n",
    "# function - bar chart\n",
    "def weather_averages(year):\n",
    "    if year == 2012: \n",
    "        bar_ipyw.data_source.data['top'] = [sw[sw.year==2012]['precipitation'].mean(), \n",
    "                                            sw[sw.year==2012]['temp_max'].mean(), \n",
    "                                            sw[sw.year==2012]['temp_min'].mean(), \n",
    "                                            sw[sw.year==2012]['wind'].mean()]\n",
    "    elif year == 2013: \n",
    "        bar_ipyw.data_source.data['top'] = [sw[sw.year==2013]['precipitation'].mean(), \n",
    "                                            sw[sw.year==2013]['temp_max'].mean(), \n",
    "                                            sw[sw.year==2013]['temp_min'].mean(), \n",
    "                                            sw[sw.year==2013]['wind'].mean()]\n",
    "    elif year == 2014: \n",
    "        bar_ipyw.data_source.data['top'] = [sw[sw.year==2014]['precipitation'].mean(), \n",
    "                                            sw[sw.year==2014]['temp_max'].mean(), \n",
    "                                            sw[sw.year==2014]['temp_min'].mean(), \n",
    "                                            sw[sw.year==2014]['wind'].mean()]\n",
    "    elif year == 2015: \n",
    "        bar_ipyw.data_source.data['top'] = [sw[sw.year==2015]['precipitation'].mean(), \n",
    "                                            sw[sw.year==2015]['temp_max'].mean(), \n",
    "                                            sw[sw.year==2015]['temp_min'].mean(), \n",
    "                                            sw[sw.year==2015]['wind'].mean()]\n",
    "    push_notebook()\n",
    "\n",
    "show(bar_chart_interactive, notebook_handle=True)\n",
    "        \n",
    "# interaction\n",
    "ipywidgets.interact(weather_averages, year=drop_down)"
   ]
  },
  {
   "cell_type": "code",
   "execution_count": null,
   "metadata": {},
   "outputs": [],
   "source": [
    "sw.groupby('year').mean().T"
   ]
  },
  {
   "cell_type": "markdown",
   "metadata": {},
   "source": [
    "# More\n",
    "* Embed images, etc. in tooltip example (Configuring Plot Tools - Mouse over the dots)\n",
    "* More examples in documentation"
   ]
  },
  {
   "cell_type": "markdown",
   "metadata": {},
   "source": [
    "# Next\n",
    "\n",
    "### In the next tutorial (or very near future) we will go over Holoviews which works with Bokeh."
   ]
  }
 ],
 "metadata": {
  "colab": {
   "collapsed_sections": [],
   "name": "Python Bokeh.ipynb",
   "provenance": [],
   "version": "0.3.2"
  },
  "kernelspec": {
   "display_name": "Python 3",
   "language": "python",
   "name": "python3"
  },
  "language_info": {
   "codemirror_mode": {
    "name": "ipython",
    "version": 3
   },
   "file_extension": ".py",
   "mimetype": "text/x-python",
   "name": "python",
   "nbconvert_exporter": "python",
   "pygments_lexer": "ipython3",
   "version": "3.8.5"
  },
  "varInspector": {
   "cols": {
    "lenName": 16,
    "lenType": 16,
    "lenVar": 40
   },
   "kernels_config": {
    "python": {
     "delete_cmd_postfix": "",
     "delete_cmd_prefix": "del ",
     "library": "var_list.py",
     "varRefreshCmd": "print(var_dic_list())"
    },
    "r": {
     "delete_cmd_postfix": ") ",
     "delete_cmd_prefix": "rm(",
     "library": "var_list.r",
     "varRefreshCmd": "cat(var_dic_list()) "
    }
   },
   "types_to_exclude": [
    "module",
    "function",
    "builtin_function_or_method",
    "instance",
    "_Feature"
   ],
   "window_display": false
  }
 },
 "nbformat": 4,
 "nbformat_minor": 4
}
