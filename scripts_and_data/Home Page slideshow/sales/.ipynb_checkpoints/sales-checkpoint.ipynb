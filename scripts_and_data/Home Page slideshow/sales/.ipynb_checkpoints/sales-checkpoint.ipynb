{
 "cells": [
  {
   "cell_type": "code",
   "execution_count": 1,
   "metadata": {},
   "outputs": [],
   "source": [
    "from bokeh.plotting import figure, output_file, show, save, ColumnDataSource\n",
    "from bokeh.models.tools import HoverTool\n",
    "from bokeh.transform import factor_cmap\n",
    "from bokeh.palettes import Blues8\n",
    "from bokeh.embed import components\n",
    "import pandas\n",
    "from math import pi\n",
    "\n",
    "import pandas as pd\n",
    "\n",
    "from bokeh.io import output_file, show\n",
    "from bokeh.palettes import Category20c\n",
    "from bokeh.plotting import figure\n",
    "from bokeh.transform import cumsum"
   ]
  },
  {
   "cell_type": "code",
   "execution_count": 10,
   "metadata": {},
   "outputs": [],
   "source": [
    "df = pandas.read_csv('sales.csv')\n",
    "\n",
    "output_file('sales.html')\n",
    "\n",
    "x=df.value_counts()\n",
    "\n",
    "\n",
    "chart_colors = ['#44e5e2', '#e29e44', '#e244db',\n",
    "                '#d8e244', '#eeeeee', '#56e244', '#007bff', 'black']\n",
    "\n",
    "data = pd.Series(x).reset_index(name='value').rename(columns={'index':'Company'})\n",
    "\n",
    "data['angle'] = data['Revenue']/data['Revenue'].sum() * 2*pi\n",
    "data['color'] = chart_colors[:len(x)]\n",
    "\n",
    "p = figure(plot_width=950,plot_height=500, title=\"Annual Revenue of Companies 2020\",\n",
    "           tools=\"pan,box_select,zoom_in,zoom_out,save,reset\", tooltips=\"\"\"\n",
    "  <div>\n",
    "    <h3>@Company</h3>\n",
    "    <div><strong>Annual Revenue: </strong>£ @Revenue Billion</div>\n",
    "    <div><strong>Product: </strong>@Product</div>\n",
    "    <div><strong>Website: </strong>@Website</div>\n",
    "    <div><img src=\"@Image\" alt=\"\" width=\"100\" /></div>\n",
    "  </div>\n",
    "\"\"\", x_range=(-0.5, 1.0))\n",
    "\n",
    "\n",
    "p.wedge(x=0, y=1, radius=0.3,\n",
    "        start_angle=cumsum('angle', include_zero=True), end_angle=cumsum('angle'),\n",
    "        line_color=\"white\", fill_color='color', legend_field='Company', source=data)\n",
    "\n",
    "p.axis.axis_label=None\n",
    "p.axis.visible=False\n",
    "p.grid.grid_line_color = None\n",
    "\n",
    "\n",
    "\n",
    "# output_file('sales.html')"
   ]
  },
  {
   "cell_type": "code",
   "execution_count": 11,
   "metadata": {},
   "outputs": [
    {
     "name": "stdout",
     "output_type": "stream",
     "text": [
      "\n",
      "<div class=\"bk-root\" id=\"0633014b-cd5d-43fb-aa1e-b7c314e5da46\" data-root-id=\"2037\"></div>\n",
      "\n",
      "<script type=\"text/javascript\">\n",
      "    (function() {\n",
      "          var fn = function() {\n",
      "            Bokeh.safely(function() {\n",
      "              (function(root) {\n",
      "                function embed_document(root) {\n",
      "                  \n",
      "                var docs_json = '{\"f2a4f66d-dfc4-4d54-8c34-8cf8987a5182\":{\"roots\":{\"references\":[{\"attributes\":{},\"id\":\"2044\",\"type\":\"LinearScale\"},{\"attributes\":{\"data\":{\"Company\":[\"TP-Link\",\"Philips\",\"Google\",\"Amazon\"],\"Image\":[\"https://static.tp-link.com/common/newtplink/images/new-logo.png\",\"https://logos-download.com/wp-content/uploads/2016/03/Philips_logo_logotype_emblem-700x128.png\",\"https://www.google.co.uk/images/branding/googlelogo/1x/googlelogo_color_272x92dp.png\",\"https://press.aboutamazon.com/system/files-encrypted/nasdaq_kms/inline-images/Amazon-logo.jpg\"],\"Product\":[\"TP-Link Kasa Smart Camera\",\"Philips Hue White Smart Bulb\",\"Google Home Mini\",\"Amazon Echo Dot and Fire TV Stick 4K\"],\"Revenue\":{\"__ndarray__\":\"mpmZmZmZAUAAAAAAAAA0QAAAAAAAwGZAAAAAAADgdkA=\",\"dtype\":\"float64\",\"order\":\"little\",\"shape\":[4]},\"Website\":[\"tp-link.com\",\"philips.com\",\"google.co.uk\",\"amazon.co.uk\"],\"angle\":{\"__ndarray__\":\"ToFw4/7SmD/YNXQCljXMPwbl/upGCwBAZajNL9ghEEA=\",\"dtype\":\"float64\",\"order\":\"little\",\"shape\":[4]},\"color\":[\"#44e5e2\",\"#e29e44\",\"#e244db\",\"#d8e244\"],\"index\":[0,1,2,3],\"value\":[1,1,1,1]},\"selected\":{\"id\":\"2086\"},\"selection_policy\":{\"id\":\"2087\"}},\"id\":\"2074\",\"type\":\"ColumnDataSource\"},{\"attributes\":{\"axis_label\":null,\"formatter\":{\"id\":\"2081\"},\"ticker\":{\"id\":\"2053\"},\"visible\":false},\"id\":\"2052\",\"type\":\"LinearAxis\"},{\"attributes\":{\"text\":\"Annual Revenue of Companies 2020\"},\"id\":\"2038\",\"type\":\"Title\"},{\"attributes\":{\"axis\":{\"id\":\"2052\"},\"dimension\":1,\"grid_line_color\":null,\"ticker\":null},\"id\":\"2055\",\"type\":\"Grid\"},{\"attributes\":{},\"id\":\"2059\",\"type\":\"ZoomOutTool\"},{\"attributes\":{\"source\":{\"id\":\"2074\"}},\"id\":\"2079\",\"type\":\"CDSView\"},{\"attributes\":{\"bottom_units\":\"screen\",\"fill_alpha\":0.5,\"fill_color\":\"lightgrey\",\"left_units\":\"screen\",\"level\":\"overlay\",\"line_alpha\":1.0,\"line_color\":\"black\",\"line_dash\":[4,4],\"line_width\":2,\"right_units\":\"screen\",\"top_units\":\"screen\"},\"id\":\"2062\",\"type\":\"BoxAnnotation\"},{\"attributes\":{\"overlay\":{\"id\":\"2062\"}},\"id\":\"2057\",\"type\":\"BoxSelectTool\"},{\"attributes\":{},\"id\":\"2086\",\"type\":\"Selection\"},{\"attributes\":{},\"id\":\"2087\",\"type\":\"UnionRenderers\"},{\"attributes\":{\"end_angle\":{\"expr\":{\"id\":\"2073\"},\"units\":\"rad\"},\"fill_color\":{\"field\":\"color\"},\"line_color\":{\"value\":\"white\"},\"radius\":{\"units\":\"data\",\"value\":0.3},\"start_angle\":{\"expr\":{\"id\":\"2072\"},\"units\":\"rad\"},\"x\":{\"value\":0},\"y\":{\"value\":1}},\"id\":\"2076\",\"type\":\"Wedge\"},{\"attributes\":{\"callback\":null,\"tooltips\":\"\\\\n  &lt;div&gt;\\\\n    &lt;h3&gt;@Company&lt;/h3&gt;\\\\n    &lt;div&gt;&lt;strong&gt;Annual Revenue: &lt;/strong&gt;\\\\u00a3 @Revenue Billion&lt;/div&gt;\\\\n    &lt;div&gt;&lt;strong&gt;Product: &lt;/strong&gt;@Product&lt;/div&gt;\\\\n    &lt;div&gt;&lt;strong&gt;Website: &lt;/strong&gt;@Website&lt;/div&gt;\\\\n    &lt;div&gt;&lt;img src=\\\\\"@Image\\\\\" alt=\\\\\"\\\\\" width=\\\\\"100\\\\\" /&gt;&lt;/div&gt;\\\\n  &lt;/div&gt;\\\\n\"},\"id\":\"2063\",\"type\":\"HoverTool\"},{\"attributes\":{\"axis\":{\"id\":\"2048\"},\"grid_line_color\":null,\"ticker\":null},\"id\":\"2051\",\"type\":\"Grid\"},{\"attributes\":{},\"id\":\"2081\",\"type\":\"BasicTickFormatter\"},{\"attributes\":{\"items\":[{\"id\":\"2089\"}]},\"id\":\"2088\",\"type\":\"Legend\"},{\"attributes\":{\"active_drag\":\"auto\",\"active_inspect\":\"auto\",\"active_multi\":null,\"active_scroll\":\"auto\",\"active_tap\":\"auto\",\"tools\":[{\"id\":\"2056\"},{\"id\":\"2057\"},{\"id\":\"2058\"},{\"id\":\"2059\"},{\"id\":\"2060\"},{\"id\":\"2061\"},{\"id\":\"2063\"}]},\"id\":\"2064\",\"type\":\"Toolbar\"},{\"attributes\":{},\"id\":\"2083\",\"type\":\"BasicTickFormatter\"},{\"attributes\":{},\"id\":\"2049\",\"type\":\"BasicTicker\"},{\"attributes\":{},\"id\":\"2060\",\"type\":\"SaveTool\"},{\"attributes\":{\"data_source\":{\"id\":\"2074\"},\"glyph\":{\"id\":\"2076\"},\"hover_glyph\":null,\"muted_glyph\":null,\"nonselection_glyph\":{\"id\":\"2077\"},\"selection_glyph\":null,\"view\":{\"id\":\"2079\"}},\"id\":\"2078\",\"type\":\"GlyphRenderer\"},{\"attributes\":{},\"id\":\"2056\",\"type\":\"PanTool\"},{\"attributes\":{},\"id\":\"2046\",\"type\":\"LinearScale\"},{\"attributes\":{\"label\":{\"field\":\"Company\"},\"renderers\":[{\"id\":\"2078\"}]},\"id\":\"2089\",\"type\":\"LegendItem\"},{\"attributes\":{\"axis_label\":null,\"formatter\":{\"id\":\"2083\"},\"ticker\":{\"id\":\"2049\"},\"visible\":false},\"id\":\"2048\",\"type\":\"LinearAxis\"},{\"attributes\":{},\"id\":\"2053\",\"type\":\"BasicTicker\"},{\"attributes\":{},\"id\":\"2042\",\"type\":\"DataRange1d\"},{\"attributes\":{\"field\":\"angle\"},\"id\":\"2073\",\"type\":\"CumSum\"},{\"attributes\":{\"field\":\"angle\",\"include_zero\":true},\"id\":\"2072\",\"type\":\"CumSum\"},{\"attributes\":{},\"id\":\"2058\",\"type\":\"ZoomInTool\"},{\"attributes\":{},\"id\":\"2061\",\"type\":\"ResetTool\"},{\"attributes\":{\"start\":-0.5},\"id\":\"2040\",\"type\":\"Range1d\"},{\"attributes\":{\"below\":[{\"id\":\"2048\"}],\"center\":[{\"id\":\"2051\"},{\"id\":\"2055\"},{\"id\":\"2088\"}],\"left\":[{\"id\":\"2052\"}],\"plot_height\":500,\"plot_width\":950,\"renderers\":[{\"id\":\"2078\"}],\"title\":{\"id\":\"2038\"},\"toolbar\":{\"id\":\"2064\"},\"x_range\":{\"id\":\"2040\"},\"x_scale\":{\"id\":\"2044\"},\"y_range\":{\"id\":\"2042\"},\"y_scale\":{\"id\":\"2046\"}},\"id\":\"2037\",\"subtype\":\"Figure\",\"type\":\"Plot\"},{\"attributes\":{\"end_angle\":{\"expr\":{\"id\":\"2073\"},\"units\":\"rad\"},\"fill_alpha\":{\"value\":0.1},\"fill_color\":{\"field\":\"color\"},\"line_alpha\":{\"value\":0.1},\"line_color\":{\"value\":\"white\"},\"radius\":{\"units\":\"data\",\"value\":0.3},\"start_angle\":{\"expr\":{\"id\":\"2072\"},\"units\":\"rad\"},\"x\":{\"value\":0},\"y\":{\"value\":1}},\"id\":\"2077\",\"type\":\"Wedge\"}],\"root_ids\":[\"2037\"]},\"title\":\"Bokeh Application\",\"version\":\"2.2.3\"}}';\n",
      "                var render_items = [{\"docid\":\"f2a4f66d-dfc4-4d54-8c34-8cf8987a5182\",\"root_ids\":[\"2037\"],\"roots\":{\"2037\":\"0633014b-cd5d-43fb-aa1e-b7c314e5da46\"}}];\n",
      "                root.Bokeh.embed.embed_items(docs_json, render_items);\n",
      "              \n",
      "                }\n",
      "                if (root.Bokeh !== undefined) {\n",
      "                  embed_document(root);\n",
      "                } else {\n",
      "                  var attempts = 0;\n",
      "                  var timer = setInterval(function(root) {\n",
      "                    if (root.Bokeh !== undefined) {\n",
      "                      clearInterval(timer);\n",
      "                      embed_document(root);\n",
      "                    } else {\n",
      "                      attempts++;\n",
      "                      if (attempts > 100) {\n",
      "                        clearInterval(timer);\n",
      "                        console.log(\"Bokeh: ERROR: Unable to run BokehJS code because BokehJS library is missing\");\n",
      "                      }\n",
      "                    }\n",
      "                  }, 10, root)\n",
      "                }\n",
      "              })(window);\n",
      "            });\n",
      "          };\n",
      "          if (document.readyState != \"loading\") fn();\n",
      "          else document.addEventListener(\"DOMContentLoaded\", fn);\n",
      "        })();\n",
      "</script>\n"
     ]
    }
   ],
   "source": [
    "\n",
    "# Show results\n",
    "show(p)\n",
    "\n",
    "# Save file\n",
    "save(p)\n",
    "\n",
    "# Print out div and script\n",
    "script, div = components(p)\n",
    "print(div)\n",
    "print(script)"
   ]
  },
  {
   "cell_type": "code",
   "execution_count": null,
   "metadata": {},
   "outputs": [],
   "source": []
  }
 ],
 "metadata": {
  "kernelspec": {
   "display_name": "Python 3",
   "language": "python",
   "name": "python3"
  },
  "language_info": {
   "codemirror_mode": {
    "name": "ipython",
    "version": 3
   },
   "file_extension": ".py",
   "mimetype": "text/x-python",
   "name": "python",
   "nbconvert_exporter": "python",
   "pygments_lexer": "ipython3",
   "version": "3.8.5"
  }
 },
 "nbformat": 4,
 "nbformat_minor": 4
}
