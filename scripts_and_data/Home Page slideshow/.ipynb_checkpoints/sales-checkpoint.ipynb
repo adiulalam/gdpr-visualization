{
 "cells": [
  {
   "cell_type": "code",
   "execution_count": 1,
   "metadata": {},
   "outputs": [],
   "source": [
    "from bokeh.plotting import figure, output_file, show, save, ColumnDataSource\n",
    "from bokeh.models.tools import HoverTool\n",
    "from bokeh.transform import factor_cmap\n",
    "from bokeh.palettes import Blues8\n",
    "from bokeh.embed import components\n",
    "import pandas\n",
    "from math import pi\n",
    "\n",
    "import pandas as pd\n",
    "\n",
    "from bokeh.io import output_file, show\n",
    "from bokeh.palettes import Category20c\n",
    "from bokeh.plotting import figure\n",
    "from bokeh.transform import cumsum"
   ]
  },
  {
   "cell_type": "code",
   "execution_count": 2,
   "metadata": {},
   "outputs": [
    {
     "name": "stdout",
     "output_type": "stream",
     "text": [
      "   Company  Revenue                               Product       Website  \\\n",
      "0  TP-Link      2.2             TP-Link Kasa Smart Camera   tp-link.com   \n",
      "1  Philips     20.0          Philips Hue White Smart Bulb   philips.com   \n",
      "2   Google    182.0                      Google Home Mini  google.co.uk   \n",
      "3   Amazon    366.0  Amazon Echo Dot and Fire TV Stick 4K  amazon.co.uk   \n",
      "\n",
      "                                               Image  value  \n",
      "0  https://static.tp-link.com/common/newtplink/im...      1  \n",
      "1  https://logos-download.com/wp-content/uploads/...      1  \n",
      "2  https://www.google.co.uk/images/branding/googl...      1  \n",
      "3  https://press.aboutamazon.com/system/files-enc...      1  \n"
     ]
    }
   ],
   "source": [
    "df = pandas.read_csv('sales.csv')\n",
    "\n",
    "output_file('sales.html')\n",
    "\n",
    "x=df.value_counts()\n",
    "\n",
    "\n",
    "chart_colors = ['#44e5e2', '#e29e44', '#e244db',\n",
    "                '#d8e244', '#eeeeee', '#56e244', '#007bff', 'black']\n",
    "\n",
    "data = pd.Series(x).reset_index(name='value').rename(columns={'index':'Company'})\n",
    "\n",
    "data['angle'] = data['Revenue']/data['Revenue'].sum() * 2*pi\n",
    "data['color'] = chart_colors[:len(x)]\n",
    "\n",
    "p = figure(plot_height=350, title=\"Annual Revenue of Companies 2020\", toolbar_location=None,\n",
    "           tools=\"hover\", tooltips=\"\"\"\n",
    "  <div>\n",
    "    <h3>@Company</h3>\n",
    "    <div><strong>Annual Revenue: </strong>£ @Revenue Billion</div>\n",
    "    <div><strong>Product: </strong>@Product</div>\n",
    "    <div><strong>Website: </strong>@Website</div>\n",
    "    <div><img src=\"@Image\" alt=\"\" width=\"100\" /></div>\n",
    "  </div>\n",
    "\"\"\", x_range=(-0.5, 1.0))\n",
    "\n",
    "\n",
    "p.wedge(x=0, y=1, radius=0.4,\n",
    "        start_angle=cumsum('angle', include_zero=True), end_angle=cumsum('angle'),\n",
    "        line_color=\"white\", fill_color='color', legend_field='Company', source=data)\n",
    "\n",
    "p.axis.axis_label=None\n",
    "p.axis.visible=False\n",
    "p.grid.grid_line_color = None\n",
    "\n",
    "show(p)\n",
    "\n",
    "# output_file('sales.html')"
   ]
  },
  {
   "cell_type": "code",
   "execution_count": 3,
   "metadata": {},
   "outputs": [
    {
     "name": "stdout",
     "output_type": "stream",
     "text": [
      "\n",
      "<div class=\"bk-root\" id=\"73dc1caf-22ff-49d6-900e-89cd2264632a\" data-root-id=\"1001\"></div>\n",
      "\n",
      "<script type=\"text/javascript\">\n",
      "    (function() {\n",
      "          var fn = function() {\n",
      "            Bokeh.safely(function() {\n",
      "              (function(root) {\n",
      "                function embed_document(root) {\n",
      "                  \n",
      "                var docs_json = '{\"82233087-ebfa-406c-b20b-97c3a1c9d6db\":{\"roots\":{\"references\":[{\"attributes\":{\"callback\":null,\"tooltips\":\"\\\\n  &lt;div&gt;\\\\n    &lt;h3&gt;@Company&lt;/h3&gt;\\\\n    &lt;div&gt;&lt;strong&gt;Annual Revenue: &lt;/strong&gt;\\\\u00a3 @Revenue Billion&lt;/div&gt;\\\\n    &lt;div&gt;&lt;strong&gt;Product: &lt;/strong&gt;@Product&lt;/div&gt;\\\\n    &lt;div&gt;&lt;strong&gt;Website: &lt;/strong&gt;@Website&lt;/div&gt;\\\\n    &lt;div&gt;&lt;img src=\\\\\"@Image\\\\\" alt=\\\\\"\\\\\" width=\\\\\"100\\\\\" /&gt;&lt;/div&gt;\\\\n  &lt;/div&gt;\\\\n\"},\"id\":\"1020\",\"type\":\"HoverTool\"},{\"attributes\":{},\"id\":\"1013\",\"type\":\"BasicTicker\"},{\"attributes\":{\"text\":\"Annual Revenue of Companies 2020\"},\"id\":\"1002\",\"type\":\"Title\"},{\"attributes\":{\"axis\":{\"id\":\"1016\"},\"dimension\":1,\"grid_line_color\":null,\"ticker\":null},\"id\":\"1019\",\"type\":\"Grid\"},{\"attributes\":{},\"id\":\"1010\",\"type\":\"LinearScale\"},{\"attributes\":{},\"id\":\"1035\",\"type\":\"BasicTickFormatter\"},{\"attributes\":{\"below\":[{\"id\":\"1012\"}],\"center\":[{\"id\":\"1015\"},{\"id\":\"1019\"},{\"id\":\"1038\"}],\"left\":[{\"id\":\"1016\"}],\"plot_height\":350,\"renderers\":[{\"id\":\"1029\"}],\"title\":{\"id\":\"1002\"},\"toolbar\":{\"id\":\"1021\"},\"toolbar_location\":null,\"x_range\":{\"id\":\"1004\"},\"x_scale\":{\"id\":\"1008\"},\"y_range\":{\"id\":\"1006\"},\"y_scale\":{\"id\":\"1010\"}},\"id\":\"1001\",\"subtype\":\"Figure\",\"type\":\"Plot\"},{\"attributes\":{\"end_angle\":{\"expr\":{\"id\":\"1024\"},\"units\":\"rad\"},\"fill_alpha\":{\"value\":0.1},\"fill_color\":{\"field\":\"color\"},\"line_alpha\":{\"value\":0.1},\"line_color\":{\"value\":\"white\"},\"radius\":{\"units\":\"data\",\"value\":0.4},\"start_angle\":{\"expr\":{\"id\":\"1023\"},\"units\":\"rad\"},\"x\":{\"value\":0},\"y\":{\"value\":1}},\"id\":\"1028\",\"type\":\"Wedge\"},{\"attributes\":{\"field\":\"angle\",\"include_zero\":true},\"id\":\"1023\",\"type\":\"CumSum\"},{\"attributes\":{\"source\":{\"id\":\"1025\"}},\"id\":\"1030\",\"type\":\"CDSView\"},{\"attributes\":{\"field\":\"angle\"},\"id\":\"1024\",\"type\":\"CumSum\"},{\"attributes\":{\"label\":{\"field\":\"Company\"},\"renderers\":[{\"id\":\"1029\"}]},\"id\":\"1039\",\"type\":\"LegendItem\"},{\"attributes\":{\"data\":{\"Company\":[\"TP-Link\",\"Philips\",\"Google\",\"Amazon\"],\"Image\":[\"https://static.tp-link.com/common/newtplink/images/new-logo.png\",\"https://logos-download.com/wp-content/uploads/2016/03/Philips_logo_logotype_emblem-700x128.png\",\"https://www.google.co.uk/images/branding/googlelogo/1x/googlelogo_color_272x92dp.png\",\"https://press.aboutamazon.com/system/files-encrypted/nasdaq_kms/inline-images/Amazon-logo.jpg\"],\"Product\":[\"TP-Link Kasa Smart Camera\",\"Philips Hue White Smart Bulb\",\"Google Home Mini\",\"Amazon Echo Dot and Fire TV Stick 4K\"],\"Revenue\":{\"__ndarray__\":\"mpmZmZmZAUAAAAAAAAA0QAAAAAAAwGZAAAAAAADgdkA=\",\"dtype\":\"float64\",\"order\":\"little\",\"shape\":[4]},\"Website\":[\"tp-link.com\",\"philips.com\",\"google.co.uk\",\"amazon.co.uk\"],\"angle\":{\"__ndarray__\":\"ToFw4/7SmD/YNXQCljXMPwbl/upGCwBAZajNL9ghEEA=\",\"dtype\":\"float64\",\"order\":\"little\",\"shape\":[4]},\"color\":[\"#44e5e2\",\"#e29e44\",\"#e244db\",\"#d8e244\"],\"index\":[0,1,2,3],\"value\":[1,1,1,1]},\"selected\":{\"id\":\"1036\"},\"selection_policy\":{\"id\":\"1037\"}},\"id\":\"1025\",\"type\":\"ColumnDataSource\"},{\"attributes\":{\"axis\":{\"id\":\"1012\"},\"grid_line_color\":null,\"ticker\":null},\"id\":\"1015\",\"type\":\"Grid\"},{\"attributes\":{\"start\":-0.5},\"id\":\"1004\",\"type\":\"Range1d\"},{\"attributes\":{\"axis_label\":null,\"formatter\":{\"id\":\"1033\"},\"ticker\":{\"id\":\"1017\"},\"visible\":false},\"id\":\"1016\",\"type\":\"LinearAxis\"},{\"attributes\":{\"axis_label\":null,\"formatter\":{\"id\":\"1035\"},\"ticker\":{\"id\":\"1013\"},\"visible\":false},\"id\":\"1012\",\"type\":\"LinearAxis\"},{\"attributes\":{},\"id\":\"1036\",\"type\":\"Selection\"},{\"attributes\":{},\"id\":\"1006\",\"type\":\"DataRange1d\"},{\"attributes\":{},\"id\":\"1033\",\"type\":\"BasicTickFormatter\"},{\"attributes\":{},\"id\":\"1037\",\"type\":\"UnionRenderers\"},{\"attributes\":{},\"id\":\"1008\",\"type\":\"LinearScale\"},{\"attributes\":{\"data_source\":{\"id\":\"1025\"},\"glyph\":{\"id\":\"1027\"},\"hover_glyph\":null,\"muted_glyph\":null,\"nonselection_glyph\":{\"id\":\"1028\"},\"selection_glyph\":null,\"view\":{\"id\":\"1030\"}},\"id\":\"1029\",\"type\":\"GlyphRenderer\"},{\"attributes\":{},\"id\":\"1017\",\"type\":\"BasicTicker\"},{\"attributes\":{\"end_angle\":{\"expr\":{\"id\":\"1024\"},\"units\":\"rad\"},\"fill_color\":{\"field\":\"color\"},\"line_color\":{\"value\":\"white\"},\"radius\":{\"units\":\"data\",\"value\":0.4},\"start_angle\":{\"expr\":{\"id\":\"1023\"},\"units\":\"rad\"},\"x\":{\"value\":0},\"y\":{\"value\":1}},\"id\":\"1027\",\"type\":\"Wedge\"},{\"attributes\":{\"items\":[{\"id\":\"1039\"}]},\"id\":\"1038\",\"type\":\"Legend\"},{\"attributes\":{\"active_drag\":\"auto\",\"active_inspect\":\"auto\",\"active_multi\":null,\"active_scroll\":\"auto\",\"active_tap\":\"auto\",\"tools\":[{\"id\":\"1020\"}]},\"id\":\"1021\",\"type\":\"Toolbar\"}],\"root_ids\":[\"1001\"]},\"title\":\"Bokeh Application\",\"version\":\"2.2.3\"}}';\n",
      "                var render_items = [{\"docid\":\"82233087-ebfa-406c-b20b-97c3a1c9d6db\",\"root_ids\":[\"1001\"],\"roots\":{\"1001\":\"73dc1caf-22ff-49d6-900e-89cd2264632a\"}}];\n",
      "                root.Bokeh.embed.embed_items(docs_json, render_items);\n",
      "              \n",
      "                }\n",
      "                if (root.Bokeh !== undefined) {\n",
      "                  embed_document(root);\n",
      "                } else {\n",
      "                  var attempts = 0;\n",
      "                  var timer = setInterval(function(root) {\n",
      "                    if (root.Bokeh !== undefined) {\n",
      "                      clearInterval(timer);\n",
      "                      embed_document(root);\n",
      "                    } else {\n",
      "                      attempts++;\n",
      "                      if (attempts > 100) {\n",
      "                        clearInterval(timer);\n",
      "                        console.log(\"Bokeh: ERROR: Unable to run BokehJS code because BokehJS library is missing\");\n",
      "                      }\n",
      "                    }\n",
      "                  }, 10, root)\n",
      "                }\n",
      "              })(window);\n",
      "            });\n",
      "          };\n",
      "          if (document.readyState != \"loading\") fn();\n",
      "          else document.addEventListener(\"DOMContentLoaded\", fn);\n",
      "        })();\n",
      "</script>\n"
     ]
    }
   ],
   "source": [
    "\n",
    "# Show results\n",
    "show(p)\n",
    "\n",
    "# Save file\n",
    "save(p)\n",
    "\n",
    "# Print out div and script\n",
    "script, div = components(p)\n",
    "print(div)\n",
    "print(script)"
   ]
  },
  {
   "cell_type": "code",
   "execution_count": null,
   "metadata": {},
   "outputs": [],
   "source": []
  }
 ],
 "metadata": {
  "kernelspec": {
   "display_name": "Python 3",
   "language": "python",
   "name": "python3"
  },
  "language_info": {
   "codemirror_mode": {
    "name": "ipython",
    "version": 3
   },
   "file_extension": ".py",
   "mimetype": "text/x-python",
   "name": "python",
   "nbconvert_exporter": "python",
   "pygments_lexer": "ipython3",
   "version": "3.8.5"
  }
 },
 "nbformat": 4,
 "nbformat_minor": 4
}
